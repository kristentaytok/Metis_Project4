{
 "cells": [
  {
   "cell_type": "code",
   "execution_count": 1,
   "metadata": {
    "ExecuteTime": {
     "end_time": "2019-11-12T21:38:19.932560Z",
     "start_time": "2019-11-12T21:38:17.301203Z"
    }
   },
   "outputs": [],
   "source": [
    "import pandas as pd\n",
    "import numpy as np\n",
    "import sklearn\n",
    "import gensim\n",
    "\n",
    "#Vectorizers\n",
    "from sklearn.feature_extraction.text import CountVectorizer \n",
    "from sklearn.feature_extraction.text import TfidfVectorizer\n",
    "\n",
    "#Dimensionality Reduction\n",
    "from sklearn.decomposition import TruncatedSVD #LSA\n",
    "from sklearn.decomposition import NMF\n",
    "from sklearn.metrics.pairwise import cosine_similarity\n",
    "from sklearn.decomposition import LatentDirichletAllocation as LDA\n",
    "from gensim import corpora, models, similarities, matutils #LDA\n",
    "\n",
    "#Clustering\n",
    "from sklearn.preprocessing import normalize\n",
    "from sklearn.cluster import KMeans\n",
    "# !conda install -c districtdatalabs yellowbrick\n",
    "from yellowbrick.cluster import KElbowVisualizer\n",
    "\n",
    "#Word Embeddings\n",
    "from gensim.models import Word2Vec\n",
    "\n",
    "#Pipeline\n",
    "from sklearn.pipeline import Pipeline\n",
    "\n",
    "#Bayes Optimization Parameter Tuner\n",
    "from hyperopt import hp, fmin, tpe, STATUS_OK, Trials\n",
    "from sklearn.model_selection import cross_val_score\n",
    "\n",
    "#Visualization\n",
    "import matplotlib.pyplot as plt\n",
    "\n",
    "# adjectives = []\n",
    "# for sent in hp.sents:\n",
    "#     for word in sent:\n",
    "#         if 'Harry' in word.string:\n",
    "#             for child in word.children:\n",
    "#                 if child.pos_ == 'ADJ': adjectives.append(child.string.strip()) #part of speech         \n",
    "# Counter(adjectives).most_common(10)\n"
   ]
  },
  {
   "cell_type": "markdown",
   "metadata": {},
   "source": [
    "# Import Data"
   ]
  },
  {
   "cell_type": "code",
   "execution_count": 2,
   "metadata": {
    "ExecuteTime": {
     "end_time": "2019-11-12T21:38:20.382586Z",
     "start_time": "2019-11-12T21:38:19.934749Z"
    }
   },
   "outputs": [],
   "source": [
    "full_df = pd.read_pickle('full_df_preprocessed.pkl')"
   ]
  },
  {
   "cell_type": "code",
   "execution_count": 3,
   "metadata": {
    "ExecuteTime": {
     "end_time": "2019-11-12T21:38:20.431229Z",
     "start_time": "2019-11-12T21:38:20.384803Z"
    }
   },
   "outputs": [],
   "source": [
    "positive_df = full_df[full_df['sentiment']=='positive']\n",
    "negative_df = full_df[full_df['sentiment']=='negative']\n",
    "neutral_df = full_df[full_df['sentiment']=='neutral']"
   ]
  },
  {
   "cell_type": "markdown",
   "metadata": {},
   "source": [
    "# Pipeline of Vectorization, Dimensionality Reduction, and Clustering Methods"
   ]
  },
  {
   "cell_type": "code",
   "execution_count": 4,
   "metadata": {
    "ExecuteTime": {
     "end_time": "2019-11-12T21:38:20.447641Z",
     "start_time": "2019-11-12T21:38:20.433888Z"
    }
   },
   "outputs": [
    {
     "data": {
      "text/plain": [
       "lionking          20791\n",
       "aladdin           19293\n",
       "beautyandbeast     4571\n",
       "junglebook         3982\n",
       "cinderella         2875\n",
       "Name: movie, dtype: int64"
      ]
     },
     "execution_count": 4,
     "metadata": {},
     "output_type": "execute_result"
    }
   ],
   "source": [
    "full_df['movie'].value_counts()"
   ]
  },
  {
   "cell_type": "code",
   "execution_count": 5,
   "metadata": {
    "ExecuteTime": {
     "end_time": "2019-11-12T21:38:42.894821Z",
     "start_time": "2019-11-12T21:38:20.450559Z"
    }
   },
   "outputs": [
    {
     "data": {
      "text/plain": [
       "(51512, 5)"
      ]
     },
     "execution_count": 5,
     "metadata": {},
     "output_type": "execute_result"
    }
   ],
   "source": [
    "corpus = [items[1] for items in full_df['review_processed'].iteritems()]\n",
    "Pipeline_TFIDF_LSA = Pipeline([\n",
    "                ('tfidf', TfidfVectorizer(ngram_range=(1,5), min_df=0.05, stop_words=['movie','film'])),\n",
    "                ('LSA', TruncatedSVD(n_components=5,random_state=10, n_iter=10))])\n",
    "TFIDF_LSA = Pipeline_TFIDF_LSA.fit_transform(corpus)\n",
    "TFIDF_LSA.shape"
   ]
  },
  {
   "cell_type": "code",
   "execution_count": 6,
   "metadata": {
    "ExecuteTime": {
     "end_time": "2019-11-12T21:38:42.903122Z",
     "start_time": "2019-11-12T21:38:42.896763Z"
    }
   },
   "outputs": [],
   "source": [
    "def display_topics(model, feature_names, no_top_words, topic_names=None):\n",
    "    \"\"\"Function to display topics from Vectorizer after performing Vectorization and Dimensionality Reduction\"\"\"\n",
    "    for ix, topic in enumerate(model.components_):\n",
    "        if not topic_names or not topic_names[ix]:\n",
    "            print(\"\\nTopic \", ix)\n",
    "        else:\n",
    "            print(\"\\nTopic: '\",topic_names[ix],\"'\")\n",
    "        print(\", \".join([feature_names[i]\n",
    "                        for i in topic.argsort()[:-no_top_words - 1:-1]]))"
   ]
  },
  {
   "cell_type": "code",
   "execution_count": 7,
   "metadata": {
    "ExecuteTime": {
     "end_time": "2019-11-12T21:39:04.858086Z",
     "start_time": "2019-11-12T21:38:42.905350Z"
    }
   },
   "outputs": [
    {
     "name": "stdout",
     "output_type": "stream",
     "text": [
      "(51512, 58)\n",
      "\n",
      "Topic  0\n",
      "not, original, good, great, love, with, like, well, disney, make\n",
      "\n",
      "Topic  1\n",
      "love, great, smith, loved, genie, job, amaze, music, kid, beautiful\n",
      "\n",
      "Topic  2\n",
      "great, smith, job, loved, genie, music, cast, fun, act, classic\n",
      "\n",
      "Topic  3\n",
      "good, smith, genie, love, job, enjoy, music, think, fun, aladdin\n",
      "\n",
      "Topic  4\n",
      "original, loved, well, good, remake, story, new, amaze, music, classic\n"
     ]
    }
   ],
   "source": [
    "tfidfvec = TfidfVectorizer(ngram_range=(1,5), min_df=0.05, stop_words=['movie', 'film'])\n",
    "doc_word_tfidfvec = tfidfvec.fit_transform(corpus)\n",
    "print(doc_word_tfidfvec.shape)\n",
    "tfidfvec.get_feature_names()\n",
    "LSA = TruncatedSVD(n_components=5,random_state=10, n_iter=10)\n",
    "tfidfvec_LSA = LSA.fit_transform(doc_word_tfidfvec) \n",
    "display_topics(LSA, tfidfvec.get_feature_names(), 10)\n",
    "\n",
    "#Normalize before for clustering to get an approximate cosine similarity distance (instead of kmeans default of euclidean distance, which is sensitive to document/review length)\n",
    "normalized_doc_topic_lsa_tfidf = sklearn.preprocessing.normalize(TFIDF_LSA)"
   ]
  },
  {
   "cell_type": "code",
   "execution_count": 8,
   "metadata": {
    "ExecuteTime": {
     "end_time": "2019-11-12T21:39:04.869827Z",
     "start_time": "2019-11-12T21:39:04.861612Z"
    }
   },
   "outputs": [],
   "source": [
    "def display_cluster(X,km=[],num_clusters=0):\n",
    "    \"\"\"Function to display k-means clusters into 2-dimensional space\"\"\"\n",
    "    color = 'brgcmyk'\n",
    "    alpha = 0.5\n",
    "    s = 20\n",
    "    if num_clusters == 0:\n",
    "        plt.scatter(X[:,0],X[:,1],c = color[0],alpha = alpha,s = s)\n",
    "    else:\n",
    "        for i in range(num_clusters):\n",
    "            plt.scatter(X[km.labels_==i,0],X[km.labels_==i,1],c = color[i],alpha = alpha,s=s)\n",
    "            plt.scatter(km.cluster_centers_[i][0],km.cluster_centers_[i][1],c = color[i], marker = 'x', s = 100)"
   ]
  },
  {
   "cell_type": "markdown",
   "metadata": {},
   "source": [
    "Elbow Method Plot (inertia vs. number of clusters)"
   ]
  },
  {
   "cell_type": "code",
   "execution_count": 9,
   "metadata": {
    "ExecuteTime": {
     "end_time": "2019-11-12T21:39:14.128952Z",
     "start_time": "2019-11-12T21:39:04.872797Z"
    }
   },
   "outputs": [
    {
     "data": {
      "image/png": "[encoded data removed]",
      "text/plain": [
       "<Figure size 432x288 with 1 Axes>"
      ]
     },
     "metadata": {
      "needs_background": "light"
     },
     "output_type": "display_data"
    }
   ],
   "source": [
    "list_num_clusters = list(range(2,11))\n",
    "\n",
    "inertia = []\n",
    "\n",
    "for num_clusters in list_num_clusters:\n",
    "    km = KMeans(n_clusters=num_clusters, random_state=10, init='k-means++')\n",
    "    km.fit_predict(normalized_doc_topic_lsa_tfidf)\n",
    "    inertia.append(km.inertia_)\n",
    "    \n",
    "plt.plot(list_num_clusters,inertia)\n",
    "plt.scatter(list_num_clusters,inertia)\n",
    "plt.xlabel('Number of Clusters')\n",
    "plt.ylabel('Inertia');\n",
    "\n",
    "\n",
    "#center: 4 docs closest --> cosine similarity"
   ]
  },
  {
   "cell_type": "code",
   "execution_count": 10,
   "metadata": {
    "ExecuteTime": {
     "end_time": "2019-11-12T21:39:24.160592Z",
     "start_time": "2019-11-12T21:39:14.130351Z"
    }
   },
   "outputs": [
    {
     "data": {
      "image/png": "[encoded data removed]",
      "text/plain": [
       "<Figure size 432x288 with 2 Axes>"
      ]
     },
     "metadata": {},
     "output_type": "display_data"
    }
   ],
   "source": [
    "# Instantiate the clustering model and visualizer\n",
    "visualizer = KElbowVisualizer(km, k=(2,12))\n",
    "\n",
    "visualizer.fit(normalized_doc_topic_lsa_tfidf)        # Fit the data to the visualizer\n",
    "visualizer.show()  # Finalize and render the figure\n",
    "elbow_full = visualizer.elbow_value_"
   ]
  },
  {
   "cell_type": "code",
   "execution_count": 11,
   "metadata": {
    "ExecuteTime": {
     "end_time": "2019-11-12T21:39:24.467896Z",
     "start_time": "2019-11-12T21:39:24.162154Z"
    }
   },
   "outputs": [
    {
     "data": {
      "image/png": "[encoded data removed]",
      "text/plain": [
       "<Figure size 432x288 with 1 Axes>"
      ]
     },
     "metadata": {
      "needs_background": "light"
     },
     "output_type": "display_data"
    }
   ],
   "source": [
    "display_cluster(normalized_doc_topic_lsa_tfidf, km, elbow_full)"
   ]
  },
  {
   "cell_type": "code",
   "execution_count": 12,
   "metadata": {
    "ExecuteTime": {
     "end_time": "2019-11-12T21:39:25.138564Z",
     "start_time": "2019-11-12T21:39:24.469324Z"
    }
   },
   "outputs": [],
   "source": [
    "\n",
    "km = KMeans(n_clusters=elbow_full, random_state=10, init='k-means++')\n",
    "km.fit_predict(normalized_doc_topic_lsa_tfidf)\n",
    "full_df['cluster'] = km.labels_"
   ]
  },
  {
   "cell_type": "code",
   "execution_count": 13,
   "metadata": {
    "ExecuteTime": {
     "end_time": "2019-11-12T21:39:25.164432Z",
     "start_time": "2019-11-12T21:39:25.139963Z"
    }
   },
   "outputs": [
    {
     "data": {
      "text/html": [
       "<div>\n",
       "<style scoped>\n",
       "    .dataframe tbody tr th:only-of-type {\n",
       "        vertical-align: middle;\n",
       "    }\n",
       "\n",
       "    .dataframe tbody tr th {\n",
       "        vertical-align: top;\n",
       "    }\n",
       "\n",
       "    .dataframe thead th {\n",
       "        text-align: right;\n",
       "    }\n",
       "</style>\n",
       "<table border=\"1\" class=\"dataframe\">\n",
       "  <thead>\n",
       "    <tr style=\"text-align: right;\">\n",
       "      <th></th>\n",
       "      <th>review_text</th>\n",
       "      <th>movie</th>\n",
       "      <th>review_site</th>\n",
       "      <th>rating</th>\n",
       "      <th>sentiment</th>\n",
       "      <th>review_tokens</th>\n",
       "      <th>review_processed</th>\n",
       "      <th>cluster</th>\n",
       "    </tr>\n",
       "  </thead>\n",
       "  <tbody>\n",
       "    <tr>\n",
       "      <td>0</td>\n",
       "      <td>Disney, WHAT. HAVE. YOU. DONE Just to be clea...</td>\n",
       "      <td>lionking</td>\n",
       "      <td>imdb</td>\n",
       "      <td>1</td>\n",
       "      <td>negative</td>\n",
       "      <td>[disney, clear, time, favorite, movie, not, st...</td>\n",
       "      <td>disney clear time favorite movie not stress en...</td>\n",
       "      <td>1</td>\n",
       "    </tr>\n",
       "    <tr>\n",
       "      <td>1</td>\n",
       "      <td>No soul. The original Lion King is one of my ...</td>\n",
       "      <td>lionking</td>\n",
       "      <td>imdb</td>\n",
       "      <td>1</td>\n",
       "      <td>negative</td>\n",
       "      <td>[no, soul, original, lion, king, favorite, mov...</td>\n",
       "      <td>no soul original lion king favorite movie time...</td>\n",
       "      <td>1</td>\n",
       "    </tr>\n",
       "    <tr>\n",
       "      <td>5</td>\n",
       "      <td>Seriously? So anyone else notice it has a hig...</td>\n",
       "      <td>lionking</td>\n",
       "      <td>imdb</td>\n",
       "      <td>1</td>\n",
       "      <td>negative</td>\n",
       "      <td>[seriously, notice, high, score, 7.5, rating, ...</td>\n",
       "      <td>seriously notice high score 7.5 rating not str...</td>\n",
       "      <td>1</td>\n",
       "    </tr>\n",
       "    <tr>\n",
       "      <td>6</td>\n",
       "      <td>Overrated and way too much spotlight on beyon...</td>\n",
       "      <td>lionking</td>\n",
       "      <td>imdb</td>\n",
       "      <td>1</td>\n",
       "      <td>negative</td>\n",
       "      <td>[overrated, way, spotlight, beyonce, lion, kin...</td>\n",
       "      <td>overrated way spotlight beyonce lion king only...</td>\n",
       "      <td>1</td>\n",
       "    </tr>\n",
       "    <tr>\n",
       "      <td>8</td>\n",
       "      <td>Terrible acting!! Doesn't compare to the orig...</td>\n",
       "      <td>lionking</td>\n",
       "      <td>imdb</td>\n",
       "      <td>1</td>\n",
       "      <td>negative</td>\n",
       "      <td>[terrible, act, not, compare, original, love, ...</td>\n",
       "      <td>terrible act not compare original love origina...</td>\n",
       "      <td>1</td>\n",
       "    </tr>\n",
       "    <tr>\n",
       "      <td>...</td>\n",
       "      <td>...</td>\n",
       "      <td>...</td>\n",
       "      <td>...</td>\n",
       "      <td>...</td>\n",
       "      <td>...</td>\n",
       "      <td>...</td>\n",
       "      <td>...</td>\n",
       "      <td>...</td>\n",
       "    </tr>\n",
       "    <tr>\n",
       "      <td>3040</td>\n",
       "      <td>A magically wonderful film filled with adventu...</td>\n",
       "      <td>cinderella</td>\n",
       "      <td>rottentomatoes</td>\n",
       "      <td>5</td>\n",
       "      <td>positive</td>\n",
       "      <td>[magically, wonderful, film, fill, with, adven...</td>\n",
       "      <td>magically wonderful film fill with adventure f...</td>\n",
       "      <td>1</td>\n",
       "    </tr>\n",
       "    <tr>\n",
       "      <td>3041</td>\n",
       "      <td>Disney has overdid the faithfulness of their o...</td>\n",
       "      <td>cinderella</td>\n",
       "      <td>rottentomatoes</td>\n",
       "      <td>4</td>\n",
       "      <td>positive</td>\n",
       "      <td>[disney, overdo, faithfulness, animate, classi...</td>\n",
       "      <td>disney overdo faithfulness animate classic pro...</td>\n",
       "      <td>3</td>\n",
       "    </tr>\n",
       "    <tr>\n",
       "      <td>3042</td>\n",
       "      <td>Magic....that's about right. A re-tell of the ...</td>\n",
       "      <td>cinderella</td>\n",
       "      <td>rottentomatoes</td>\n",
       "      <td>4</td>\n",
       "      <td>positive</td>\n",
       "      <td>[magic, ...., right, tell, original, disney, m...</td>\n",
       "      <td>magic .... right tell original disney movie wi...</td>\n",
       "      <td>3</td>\n",
       "    </tr>\n",
       "    <tr>\n",
       "      <td>3043</td>\n",
       "      <td>A good movie that sets it apart from the origi...</td>\n",
       "      <td>cinderella</td>\n",
       "      <td>rottentomatoes</td>\n",
       "      <td>4</td>\n",
       "      <td>positive</td>\n",
       "      <td>[good, movie, set, apart, original, story, cin...</td>\n",
       "      <td>good movie set apart original story cinderella...</td>\n",
       "      <td>0</td>\n",
       "    </tr>\n",
       "    <tr>\n",
       "      <td>3044</td>\n",
       "      <td>It's the Cinderella you know but it's really d...</td>\n",
       "      <td>cinderella</td>\n",
       "      <td>rottentomatoes</td>\n",
       "      <td>4</td>\n",
       "      <td>positive</td>\n",
       "      <td>[cinderella, know, delightfully, charm]</td>\n",
       "      <td>cinderella know delightfully charm</td>\n",
       "      <td>0</td>\n",
       "    </tr>\n",
       "  </tbody>\n",
       "</table>\n",
       "<p>51512 rows × 8 columns</p>\n",
       "</div>"
      ],
      "text/plain": [
       "                                            review_text       movie  \\\n",
       "0      Disney, WHAT. HAVE. YOU. DONE Just to be clea...    lionking   \n",
       "1      No soul. The original Lion King is one of my ...    lionking   \n",
       "5      Seriously? So anyone else notice it has a hig...    lionking   \n",
       "6      Overrated and way too much spotlight on beyon...    lionking   \n",
       "8      Terrible acting!! Doesn't compare to the orig...    lionking   \n",
       "...                                                 ...         ...   \n",
       "3040  A magically wonderful film filled with adventu...  cinderella   \n",
       "3041  Disney has overdid the faithfulness of their o...  cinderella   \n",
       "3042  Magic....that's about right. A re-tell of the ...  cinderella   \n",
       "3043  A good movie that sets it apart from the origi...  cinderella   \n",
       "3044  It's the Cinderella you know but it's really d...  cinderella   \n",
       "\n",
       "         review_site  rating sentiment  \\\n",
       "0               imdb       1  negative   \n",
       "1               imdb       1  negative   \n",
       "5               imdb       1  negative   \n",
       "6               imdb       1  negative   \n",
       "8               imdb       1  negative   \n",
       "...              ...     ...       ...   \n",
       "3040  rottentomatoes       5  positive   \n",
       "3041  rottentomatoes       4  positive   \n",
       "3042  rottentomatoes       4  positive   \n",
       "3043  rottentomatoes       4  positive   \n",
       "3044  rottentomatoes       4  positive   \n",
       "\n",
       "                                          review_tokens  \\\n",
       "0     [disney, clear, time, favorite, movie, not, st...   \n",
       "1     [no, soul, original, lion, king, favorite, mov...   \n",
       "5     [seriously, notice, high, score, 7.5, rating, ...   \n",
       "6     [overrated, way, spotlight, beyonce, lion, kin...   \n",
       "8     [terrible, act, not, compare, original, love, ...   \n",
       "...                                                 ...   \n",
       "3040  [magically, wonderful, film, fill, with, adven...   \n",
       "3041  [disney, overdo, faithfulness, animate, classi...   \n",
       "3042  [magic, ...., right, tell, original, disney, m...   \n",
       "3043  [good, movie, set, apart, original, story, cin...   \n",
       "3044            [cinderella, know, delightfully, charm]   \n",
       "\n",
       "                                       review_processed  cluster  \n",
       "0     disney clear time favorite movie not stress en...        1  \n",
       "1     no soul original lion king favorite movie time...        1  \n",
       "5     seriously notice high score 7.5 rating not str...        1  \n",
       "6     overrated way spotlight beyonce lion king only...        1  \n",
       "8     terrible act not compare original love origina...        1  \n",
       "...                                                 ...      ...  \n",
       "3040  magically wonderful film fill with adventure f...        1  \n",
       "3041  disney overdo faithfulness animate classic pro...        3  \n",
       "3042  magic .... right tell original disney movie wi...        3  \n",
       "3043  good movie set apart original story cinderella...        0  \n",
       "3044                 cinderella know delightfully charm        0  \n",
       "\n",
       "[51512 rows x 8 columns]"
      ]
     },
     "execution_count": 13,
     "metadata": {},
     "output_type": "execute_result"
    }
   ],
   "source": [
    "full_df"
   ]
  },
  {
   "cell_type": "code",
   "execution_count": 14,
   "metadata": {
    "ExecuteTime": {
     "end_time": "2019-11-12T21:39:25.173628Z",
     "start_time": "2019-11-12T21:39:25.166330Z"
    }
   },
   "outputs": [
    {
     "data": {
      "text/plain": [
       "1    18356\n",
       "3     8919\n",
       "2     8733\n",
       "0     8522\n",
       "4     6982\n",
       "Name: cluster, dtype: int64"
      ]
     },
     "execution_count": 14,
     "metadata": {},
     "output_type": "execute_result"
    }
   ],
   "source": [
    "full_df['cluster'].value_counts()"
   ]
  },
  {
   "cell_type": "code",
   "execution_count": 15,
   "metadata": {
    "ExecuteTime": {
     "end_time": "2019-11-12T21:39:44.873119Z",
     "start_time": "2019-11-12T21:39:25.175295Z"
    }
   },
   "outputs": [
    {
     "name": "stdout",
     "output_type": "stream",
     "text": [
      "(51512, 58)\n",
      "(51512, 3)\n",
      "\n",
      "Topic  0\n",
      "not, original, good, great, love, with, like, well, disney, make\n",
      "\n",
      "Topic  1\n",
      "love, great, smith, loved, genie, job, amaze, music, kid, beautiful\n",
      "\n",
      "Topic  2\n",
      "great, smith, job, loved, genie, music, cast, fun, act, enjoy\n"
     ]
    }
   ],
   "source": [
    "corpus = [items[1] for items in full_df['review_processed'].iteritems()]\n",
    "\n",
    "tfidfvec = TfidfVectorizer(ngram_range=(1,5), min_df=0.05, stop_words=['movie', 'film'])\n",
    "doc_word_tfidfvec = tfidfvec.fit_transform(corpus)\n",
    "print(doc_word_tfidfvec.shape)\n",
    "tfidfvec.get_feature_names()\n",
    "LSA = TruncatedSVD(n_components=3,random_state=10, n_iter=10)\n",
    "tfidfvec_LSA = LSA.fit_transform(doc_word_tfidfvec) \n",
    "print(tfidfvec_LSA.shape)\n",
    "display_topics(LSA, tfidfvec.get_feature_names(), 10)"
   ]
  },
  {
   "cell_type": "code",
   "execution_count": 16,
   "metadata": {
    "ExecuteTime": {
     "end_time": "2019-11-12T21:39:45.381302Z",
     "start_time": "2019-11-12T21:39:44.874876Z"
    }
   },
   "outputs": [
    {
     "data": {
      "image/png": "[encoded data removed]",
      "text/plain": [
       "<Figure size 432x288 with 1 Axes>"
      ]
     },
     "metadata": {
      "needs_background": "light"
     },
     "output_type": "display_data"
    }
   ],
   "source": [
    "display_cluster(tfidfvec_LSA, km, 5)"
   ]
  },
  {
   "cell_type": "markdown",
   "metadata": {},
   "source": [
    "# Positive Reviews"
   ]
  },
  {
   "cell_type": "code",
   "execution_count": 18,
   "metadata": {
    "ExecuteTime": {
     "end_time": "2019-11-12T21:39:58.514158Z",
     "start_time": "2019-11-12T21:39:46.737562Z"
    }
   },
   "outputs": [],
   "source": [
    "positive_df = full_df[full_df['sentiment']=='positive']\n",
    "\n",
    "\n",
    "positive_corpus = [items[1] for items in positive_df['review_processed'].iteritems()]\n",
    "Pipeline_TFIDF_LSA = Pipeline([\n",
    "                ('tfidf', TfidfVectorizer(ngram_range=(1,5), min_df=0.05, stop_words=['movie','film'])),\n",
    "                ('LSA', TruncatedSVD(n_components=5,random_state=10, n_iter=10))])\n",
    "TFIDF_LSA_positive = Pipeline_TFIDF_LSA.fit_transform(positive_corpus)"
   ]
  },
  {
   "cell_type": "code",
   "execution_count": 19,
   "metadata": {
    "ExecuteTime": {
     "end_time": "2019-11-12T21:39:58.520880Z",
     "start_time": "2019-11-12T21:39:58.515969Z"
    }
   },
   "outputs": [],
   "source": [
    "normalized_doc_topic_lsa_tfidf_pos = sklearn.preprocessing.normalize(TFIDF_LSA_positive)"
   ]
  },
  {
   "cell_type": "code",
   "execution_count": 20,
   "metadata": {
    "ExecuteTime": {
     "end_time": "2019-11-12T21:40:05.771440Z",
     "start_time": "2019-11-12T21:39:58.523130Z"
    }
   },
   "outputs": [
    {
     "data": {
      "image/png": "[encoded data removed]",
      "text/plain": [
       "<Figure size 432x288 with 2 Axes>"
      ]
     },
     "metadata": {},
     "output_type": "display_data"
    }
   ],
   "source": [
    "visualizer = KElbowVisualizer(km, k=(2,12))\n",
    "\n",
    "visualizer.fit(normalized_doc_topic_lsa_tfidf_pos)        # Fit the data to the visualizer\n",
    "visualizer.show()  # Finalize and render the figure\n",
    "elbow_pos = visualizer.elbow_value_"
   ]
  },
  {
   "cell_type": "code",
   "execution_count": 21,
   "metadata": {
    "ExecuteTime": {
     "end_time": "2019-11-12T21:40:06.121612Z",
     "start_time": "2019-11-12T21:40:05.772871Z"
    }
   },
   "outputs": [
    {
     "name": "stderr",
     "output_type": "stream",
     "text": [
      "/Users/kristentokunaga/anaconda3/envs/metis/lib/python3.7/site-packages/ipykernel_launcher.py:3: SettingWithCopyWarning: \n",
      "A value is trying to be set on a copy of a slice from a DataFrame.\n",
      "Try using .loc[row_indexer,col_indexer] = value instead\n",
      "\n",
      "See the caveats in the documentation: http://pandas.pydata.org/pandas-docs/stable/user_guide/indexing.html#returning-a-view-versus-a-copy\n",
      "  This is separate from the ipykernel package so we can avoid doing imports until\n"
     ]
    },
    {
     "data": {
      "text/html": [
       "<div>\n",
       "<style scoped>\n",
       "    .dataframe tbody tr th:only-of-type {\n",
       "        vertical-align: middle;\n",
       "    }\n",
       "\n",
       "    .dataframe tbody tr th {\n",
       "        vertical-align: top;\n",
       "    }\n",
       "\n",
       "    .dataframe thead th {\n",
       "        text-align: right;\n",
       "    }\n",
       "</style>\n",
       "<table border=\"1\" class=\"dataframe\">\n",
       "  <thead>\n",
       "    <tr style=\"text-align: right;\">\n",
       "      <th></th>\n",
       "      <th>review_text</th>\n",
       "      <th>movie</th>\n",
       "      <th>review_site</th>\n",
       "      <th>rating</th>\n",
       "      <th>sentiment</th>\n",
       "      <th>review_tokens</th>\n",
       "      <th>review_processed</th>\n",
       "      <th>cluster</th>\n",
       "    </tr>\n",
       "  </thead>\n",
       "  <tbody>\n",
       "    <tr>\n",
       "      <td>260</td>\n",
       "      <td>Wonderful Animal Movie 2019 Rating 9.1/10This...</td>\n",
       "      <td>lionking</td>\n",
       "      <td>imdb</td>\n",
       "      <td>9</td>\n",
       "      <td>positive</td>\n",
       "      <td>[wonderful, animal, movie, 2019, rating, 9.1/1...</td>\n",
       "      <td>wonderful animal movie 2019 rating 9.1/10this ...</td>\n",
       "      <td>2</td>\n",
       "    </tr>\n",
       "    <tr>\n",
       "      <td>381</td>\n",
       "      <td>Don't listen to the Critics!!! This movie is ...</td>\n",
       "      <td>lionking</td>\n",
       "      <td>imdb</td>\n",
       "      <td>10</td>\n",
       "      <td>positive</td>\n",
       "      <td>[not, listen, critics, movie, amazing, imagery...</td>\n",
       "      <td>not listen critics movie amazing imagery color...</td>\n",
       "      <td>0</td>\n",
       "    </tr>\n",
       "    <tr>\n",
       "      <td>469</td>\n",
       "      <td>Great movie The lion king is propably the bes...</td>\n",
       "      <td>lionking</td>\n",
       "      <td>imdb</td>\n",
       "      <td>7</td>\n",
       "      <td>positive</td>\n",
       "      <td>[great, movie, lion, king, propably, well, liv...</td>\n",
       "      <td>great movie lion king propably well live actio...</td>\n",
       "      <td>2</td>\n",
       "    </tr>\n",
       "    <tr>\n",
       "      <td>470</td>\n",
       "      <td>Best remake for sure! Don't listen to any cri...</td>\n",
       "      <td>lionking</td>\n",
       "      <td>imdb</td>\n",
       "      <td>10</td>\n",
       "      <td>positive</td>\n",
       "      <td>[best, remake, sure, not, listen, critic, peop...</td>\n",
       "      <td>best remake sure not listen critic people like...</td>\n",
       "      <td>0</td>\n",
       "    </tr>\n",
       "    <tr>\n",
       "      <td>486</td>\n",
       "      <td>Timon and Pumba save the world If I'm being h...</td>\n",
       "      <td>lionking</td>\n",
       "      <td>imdb</td>\n",
       "      <td>7</td>\n",
       "      <td>positive</td>\n",
       "      <td>[timon, pumba, save, world, honest, well, timo...</td>\n",
       "      <td>timon pumba save world honest well timon pumba...</td>\n",
       "      <td>3</td>\n",
       "    </tr>\n",
       "    <tr>\n",
       "      <td>...</td>\n",
       "      <td>...</td>\n",
       "      <td>...</td>\n",
       "      <td>...</td>\n",
       "      <td>...</td>\n",
       "      <td>...</td>\n",
       "      <td>...</td>\n",
       "      <td>...</td>\n",
       "      <td>...</td>\n",
       "    </tr>\n",
       "    <tr>\n",
       "      <td>3040</td>\n",
       "      <td>A magically wonderful film filled with adventu...</td>\n",
       "      <td>cinderella</td>\n",
       "      <td>rottentomatoes</td>\n",
       "      <td>5</td>\n",
       "      <td>positive</td>\n",
       "      <td>[magically, wonderful, film, fill, with, adven...</td>\n",
       "      <td>magically wonderful film fill with adventure f...</td>\n",
       "      <td>0</td>\n",
       "    </tr>\n",
       "    <tr>\n",
       "      <td>3041</td>\n",
       "      <td>Disney has overdid the faithfulness of their o...</td>\n",
       "      <td>cinderella</td>\n",
       "      <td>rottentomatoes</td>\n",
       "      <td>4</td>\n",
       "      <td>positive</td>\n",
       "      <td>[disney, overdo, faithfulness, animate, classi...</td>\n",
       "      <td>disney overdo faithfulness animate classic pro...</td>\n",
       "      <td>0</td>\n",
       "    </tr>\n",
       "    <tr>\n",
       "      <td>3042</td>\n",
       "      <td>Magic....that's about right. A re-tell of the ...</td>\n",
       "      <td>cinderella</td>\n",
       "      <td>rottentomatoes</td>\n",
       "      <td>4</td>\n",
       "      <td>positive</td>\n",
       "      <td>[magic, ...., right, tell, original, disney, m...</td>\n",
       "      <td>magic .... right tell original disney movie wi...</td>\n",
       "      <td>0</td>\n",
       "    </tr>\n",
       "    <tr>\n",
       "      <td>3043</td>\n",
       "      <td>A good movie that sets it apart from the origi...</td>\n",
       "      <td>cinderella</td>\n",
       "      <td>rottentomatoes</td>\n",
       "      <td>4</td>\n",
       "      <td>positive</td>\n",
       "      <td>[good, movie, set, apart, original, story, cin...</td>\n",
       "      <td>good movie set apart original story cinderella...</td>\n",
       "      <td>3</td>\n",
       "    </tr>\n",
       "    <tr>\n",
       "      <td>3044</td>\n",
       "      <td>It's the Cinderella you know but it's really d...</td>\n",
       "      <td>cinderella</td>\n",
       "      <td>rottentomatoes</td>\n",
       "      <td>4</td>\n",
       "      <td>positive</td>\n",
       "      <td>[cinderella, know, delightfully, charm]</td>\n",
       "      <td>cinderella know delightfully charm</td>\n",
       "      <td>4</td>\n",
       "    </tr>\n",
       "  </tbody>\n",
       "</table>\n",
       "<p>38656 rows × 8 columns</p>\n",
       "</div>"
      ],
      "text/plain": [
       "                                            review_text       movie  \\\n",
       "260    Wonderful Animal Movie 2019 Rating 9.1/10This...    lionking   \n",
       "381    Don't listen to the Critics!!! This movie is ...    lionking   \n",
       "469    Great movie The lion king is propably the bes...    lionking   \n",
       "470    Best remake for sure! Don't listen to any cri...    lionking   \n",
       "486    Timon and Pumba save the world If I'm being h...    lionking   \n",
       "...                                                 ...         ...   \n",
       "3040  A magically wonderful film filled with adventu...  cinderella   \n",
       "3041  Disney has overdid the faithfulness of their o...  cinderella   \n",
       "3042  Magic....that's about right. A re-tell of the ...  cinderella   \n",
       "3043  A good movie that sets it apart from the origi...  cinderella   \n",
       "3044  It's the Cinderella you know but it's really d...  cinderella   \n",
       "\n",
       "         review_site  rating sentiment  \\\n",
       "260             imdb       9  positive   \n",
       "381             imdb      10  positive   \n",
       "469             imdb       7  positive   \n",
       "470             imdb      10  positive   \n",
       "486             imdb       7  positive   \n",
       "...              ...     ...       ...   \n",
       "3040  rottentomatoes       5  positive   \n",
       "3041  rottentomatoes       4  positive   \n",
       "3042  rottentomatoes       4  positive   \n",
       "3043  rottentomatoes       4  positive   \n",
       "3044  rottentomatoes       4  positive   \n",
       "\n",
       "                                          review_tokens  \\\n",
       "260   [wonderful, animal, movie, 2019, rating, 9.1/1...   \n",
       "381   [not, listen, critics, movie, amazing, imagery...   \n",
       "469   [great, movie, lion, king, propably, well, liv...   \n",
       "470   [best, remake, sure, not, listen, critic, peop...   \n",
       "486   [timon, pumba, save, world, honest, well, timo...   \n",
       "...                                                 ...   \n",
       "3040  [magically, wonderful, film, fill, with, adven...   \n",
       "3041  [disney, overdo, faithfulness, animate, classi...   \n",
       "3042  [magic, ...., right, tell, original, disney, m...   \n",
       "3043  [good, movie, set, apart, original, story, cin...   \n",
       "3044            [cinderella, know, delightfully, charm]   \n",
       "\n",
       "                                       review_processed  cluster  \n",
       "260   wonderful animal movie 2019 rating 9.1/10this ...        2  \n",
       "381   not listen critics movie amazing imagery color...        0  \n",
       "469   great movie lion king propably well live actio...        2  \n",
       "470   best remake sure not listen critic people like...        0  \n",
       "486   timon pumba save world honest well timon pumba...        3  \n",
       "...                                                 ...      ...  \n",
       "3040  magically wonderful film fill with adventure f...        0  \n",
       "3041  disney overdo faithfulness animate classic pro...        0  \n",
       "3042  magic .... right tell original disney movie wi...        0  \n",
       "3043  good movie set apart original story cinderella...        3  \n",
       "3044                 cinderella know delightfully charm        4  \n",
       "\n",
       "[38656 rows x 8 columns]"
      ]
     },
     "execution_count": 21,
     "metadata": {},
     "output_type": "execute_result"
    }
   ],
   "source": [
    "km = KMeans(n_clusters=elbow_pos, random_state=10, init='k-means++')\n",
    "km.fit_predict(normalized_doc_topic_lsa_tfidf_pos)\n",
    "positive_df['cluster'] = km.labels_\n",
    "positive_df"
   ]
  },
  {
   "cell_type": "code",
   "execution_count": 22,
   "metadata": {
    "ExecuteTime": {
     "end_time": "2019-11-12T21:40:06.129977Z",
     "start_time": "2019-11-12T21:40:06.123285Z"
    }
   },
   "outputs": [
    {
     "data": {
      "text/plain": [
       "0    14547\n",
       "4     7170\n",
       "1     5767\n",
       "2     5652\n",
       "3     5520\n",
       "Name: cluster, dtype: int64"
      ]
     },
     "execution_count": 22,
     "metadata": {},
     "output_type": "execute_result"
    }
   ],
   "source": [
    "positive_df['cluster'].value_counts()"
   ]
  },
  {
   "cell_type": "code",
   "execution_count": 23,
   "metadata": {
    "ExecuteTime": {
     "end_time": "2019-11-12T21:40:17.948071Z",
     "start_time": "2019-11-12T21:40:06.133720Z"
    }
   },
   "outputs": [
    {
     "name": "stdout",
     "output_type": "stream",
     "text": [
      "(38656, 47)\n",
      "(38656, 3)\n",
      "\n",
      "Topic  0\n",
      "great, not, love, good, original, with, like, smith, disney, story\n",
      "\n",
      "Topic  1\n",
      "love, absolutely, kid, amaze, family, awesome, beautiful, music, smith, real\n",
      "\n",
      "Topic  2\n",
      "great, smith, job, loved, genie, music, family, awesome, cast, fun\n"
     ]
    }
   ],
   "source": [
    "tfidfvec = TfidfVectorizer(ngram_range=(1,5), min_df=0.05, stop_words=['movie','film'])\n",
    "doc_word_tfidfvec_positive = tfidfvec.fit_transform(positive_corpus)\n",
    "print(doc_word_tfidfvec_positive.shape)\n",
    "tfidfvec.get_feature_names()\n",
    "LSA = TruncatedSVD(n_components=3,random_state=10, n_iter=10)\n",
    "tfidfvec_LSA_positive = LSA.fit_transform(doc_word_tfidfvec_positive) \n",
    "print(tfidfvec_LSA_positive.shape)\n",
    "display_topics(LSA, tfidfvec.get_feature_names(), 10)\n"
   ]
  },
  {
   "cell_type": "markdown",
   "metadata": {},
   "source": [
    "# Negative Reviews"
   ]
  },
  {
   "cell_type": "code",
   "execution_count": 24,
   "metadata": {
    "ExecuteTime": {
     "end_time": "2019-11-12T21:40:21.327182Z",
     "start_time": "2019-11-12T21:40:17.950442Z"
    }
   },
   "outputs": [],
   "source": [
    "negative_df = full_df[full_df['sentiment']=='negative']\n",
    "\n",
    "negative_corpus = [items[1] for items in negative_df['review_processed'].iteritems()]\n",
    "Pipeline_TFIDF_LSA = Pipeline([\n",
    "                ('tfidf', TfidfVectorizer(ngram_range=(1,5), min_df=0.05, stop_words=['movie','film'])),\n",
    "                ('LSA', TruncatedSVD(n_components=3,random_state=10, n_iter=10))])\n",
    "TFIDF_LSA_negative = Pipeline_TFIDF_LSA.fit_transform(negative_corpus)\n",
    "\n"
   ]
  },
  {
   "cell_type": "code",
   "execution_count": 25,
   "metadata": {
    "ExecuteTime": {
     "end_time": "2019-11-12T21:40:21.332977Z",
     "start_time": "2019-11-12T21:40:21.329233Z"
    }
   },
   "outputs": [],
   "source": [
    "normalized_doc_topic_lsa_tfidf_neg = sklearn.preprocessing.normalize(TFIDF_LSA_negative)"
   ]
  },
  {
   "cell_type": "code",
   "execution_count": 26,
   "metadata": {
    "ExecuteTime": {
     "end_time": "2019-11-12T21:40:23.200911Z",
     "start_time": "2019-11-12T21:40:21.335077Z"
    }
   },
   "outputs": [
    {
     "data": {
      "image/png": "[encoded data removed]",
      "text/plain": [
       "<Figure size 432x288 with 2 Axes>"
      ]
     },
     "metadata": {},
     "output_type": "display_data"
    }
   ],
   "source": [
    "visualizer = KElbowVisualizer(km, k=(2,12))\n",
    "\n",
    "visualizer.fit(normalized_doc_topic_lsa_tfidf_neg)        # Fit the data to the visualizer\n",
    "visualizer.show()  # Finalize and render the figure\n",
    "elbow_neg = visualizer.elbow_value_"
   ]
  },
  {
   "cell_type": "code",
   "execution_count": 27,
   "metadata": {
    "ExecuteTime": {
     "end_time": "2019-11-12T21:40:23.336756Z",
     "start_time": "2019-11-12T21:40:23.202030Z"
    }
   },
   "outputs": [
    {
     "name": "stderr",
     "output_type": "stream",
     "text": [
      "/Users/kristentokunaga/anaconda3/envs/metis/lib/python3.7/site-packages/ipykernel_launcher.py:3: SettingWithCopyWarning: \n",
      "A value is trying to be set on a copy of a slice from a DataFrame.\n",
      "Try using .loc[row_indexer,col_indexer] = value instead\n",
      "\n",
      "See the caveats in the documentation: http://pandas.pydata.org/pandas-docs/stable/user_guide/indexing.html#returning-a-view-versus-a-copy\n",
      "  This is separate from the ipykernel package so we can avoid doing imports until\n"
     ]
    },
    {
     "data": {
      "text/html": [
       "<div>\n",
       "<style scoped>\n",
       "    .dataframe tbody tr th:only-of-type {\n",
       "        vertical-align: middle;\n",
       "    }\n",
       "\n",
       "    .dataframe tbody tr th {\n",
       "        vertical-align: top;\n",
       "    }\n",
       "\n",
       "    .dataframe thead th {\n",
       "        text-align: right;\n",
       "    }\n",
       "</style>\n",
       "<table border=\"1\" class=\"dataframe\">\n",
       "  <thead>\n",
       "    <tr style=\"text-align: right;\">\n",
       "      <th></th>\n",
       "      <th>review_text</th>\n",
       "      <th>movie</th>\n",
       "      <th>review_site</th>\n",
       "      <th>rating</th>\n",
       "      <th>sentiment</th>\n",
       "      <th>review_tokens</th>\n",
       "      <th>review_processed</th>\n",
       "      <th>cluster</th>\n",
       "    </tr>\n",
       "  </thead>\n",
       "  <tbody>\n",
       "    <tr>\n",
       "      <td>0</td>\n",
       "      <td>Disney, WHAT. HAVE. YOU. DONE Just to be clea...</td>\n",
       "      <td>lionking</td>\n",
       "      <td>imdb</td>\n",
       "      <td>1</td>\n",
       "      <td>negative</td>\n",
       "      <td>[disney, clear, time, favorite, movie, not, st...</td>\n",
       "      <td>disney clear time favorite movie not stress en...</td>\n",
       "      <td>1</td>\n",
       "    </tr>\n",
       "    <tr>\n",
       "      <td>1</td>\n",
       "      <td>No soul. The original Lion King is one of my ...</td>\n",
       "      <td>lionking</td>\n",
       "      <td>imdb</td>\n",
       "      <td>1</td>\n",
       "      <td>negative</td>\n",
       "      <td>[no, soul, original, lion, king, favorite, mov...</td>\n",
       "      <td>no soul original lion king favorite movie time...</td>\n",
       "      <td>3</td>\n",
       "    </tr>\n",
       "    <tr>\n",
       "      <td>5</td>\n",
       "      <td>Seriously? So anyone else notice it has a hig...</td>\n",
       "      <td>lionking</td>\n",
       "      <td>imdb</td>\n",
       "      <td>1</td>\n",
       "      <td>negative</td>\n",
       "      <td>[seriously, notice, high, score, 7.5, rating, ...</td>\n",
       "      <td>seriously notice high score 7.5 rating not str...</td>\n",
       "      <td>0</td>\n",
       "    </tr>\n",
       "    <tr>\n",
       "      <td>6</td>\n",
       "      <td>Overrated and way too much spotlight on beyon...</td>\n",
       "      <td>lionking</td>\n",
       "      <td>imdb</td>\n",
       "      <td>1</td>\n",
       "      <td>negative</td>\n",
       "      <td>[overrated, way, spotlight, beyonce, lion, kin...</td>\n",
       "      <td>overrated way spotlight beyonce lion king only...</td>\n",
       "      <td>1</td>\n",
       "    </tr>\n",
       "    <tr>\n",
       "      <td>8</td>\n",
       "      <td>Terrible acting!! Doesn't compare to the orig...</td>\n",
       "      <td>lionking</td>\n",
       "      <td>imdb</td>\n",
       "      <td>1</td>\n",
       "      <td>negative</td>\n",
       "      <td>[terrible, act, not, compare, original, love, ...</td>\n",
       "      <td>terrible act not compare original love origina...</td>\n",
       "      <td>1</td>\n",
       "    </tr>\n",
       "    <tr>\n",
       "      <td>...</td>\n",
       "      <td>...</td>\n",
       "      <td>...</td>\n",
       "      <td>...</td>\n",
       "      <td>...</td>\n",
       "      <td>...</td>\n",
       "      <td>...</td>\n",
       "      <td>...</td>\n",
       "      <td>...</td>\n",
       "    </tr>\n",
       "    <tr>\n",
       "      <td>2954</td>\n",
       "      <td>nothing new to add. still think ever after was...</td>\n",
       "      <td>cinderella</td>\n",
       "      <td>rottentomatoes</td>\n",
       "      <td>2</td>\n",
       "      <td>negative</td>\n",
       "      <td>[nothing, new, add, think, well, adaptation, c...</td>\n",
       "      <td>nothing new add think well adaptation cinderella</td>\n",
       "      <td>2</td>\n",
       "    </tr>\n",
       "    <tr>\n",
       "      <td>2972</td>\n",
       "      <td>Waste of time.not for kids. Only for old foks</td>\n",
       "      <td>cinderella</td>\n",
       "      <td>rottentomatoes</td>\n",
       "      <td>1</td>\n",
       "      <td>negative</td>\n",
       "      <td>[waste, time.not, kid, only, old, foks]</td>\n",
       "      <td>waste time.not kid only old foks</td>\n",
       "      <td>0</td>\n",
       "    </tr>\n",
       "    <tr>\n",
       "      <td>2987</td>\n",
       "      <td>I feel like the real-life incarnation really b...</td>\n",
       "      <td>cinderella</td>\n",
       "      <td>rottentomatoes</td>\n",
       "      <td>2</td>\n",
       "      <td>negative</td>\n",
       "      <td>[feel, like, real, life, incarnation, bring, h...</td>\n",
       "      <td>feel like real life incarnation bring home rid...</td>\n",
       "      <td>1</td>\n",
       "    </tr>\n",
       "    <tr>\n",
       "      <td>3023</td>\n",
       "      <td>The only performance should be mentioned and m...</td>\n",
       "      <td>cinderella</td>\n",
       "      <td>rottentomatoes</td>\n",
       "      <td>2</td>\n",
       "      <td>negative</td>\n",
       "      <td>[only, performance, mention, mark, cate, perfo...</td>\n",
       "      <td>only performance mention mark cate performance...</td>\n",
       "      <td>3</td>\n",
       "    </tr>\n",
       "    <tr>\n",
       "      <td>3031</td>\n",
       "      <td>Though this adaptation of Cinderella has a rea...</td>\n",
       "      <td>cinderella</td>\n",
       "      <td>rottentomatoes</td>\n",
       "      <td>2</td>\n",
       "      <td>negative</td>\n",
       "      <td>[adaptation, cinderella, nice, charm, feel, nu...</td>\n",
       "      <td>adaptation cinderella nice charm feel number c...</td>\n",
       "      <td>3</td>\n",
       "    </tr>\n",
       "  </tbody>\n",
       "</table>\n",
       "<p>5941 rows × 8 columns</p>\n",
       "</div>"
      ],
      "text/plain": [
       "                                            review_text       movie  \\\n",
       "0      Disney, WHAT. HAVE. YOU. DONE Just to be clea...    lionking   \n",
       "1      No soul. The original Lion King is one of my ...    lionking   \n",
       "5      Seriously? So anyone else notice it has a hig...    lionking   \n",
       "6      Overrated and way too much spotlight on beyon...    lionking   \n",
       "8      Terrible acting!! Doesn't compare to the orig...    lionking   \n",
       "...                                                 ...         ...   \n",
       "2954  nothing new to add. still think ever after was...  cinderella   \n",
       "2972      Waste of time.not for kids. Only for old foks  cinderella   \n",
       "2987  I feel like the real-life incarnation really b...  cinderella   \n",
       "3023  The only performance should be mentioned and m...  cinderella   \n",
       "3031  Though this adaptation of Cinderella has a rea...  cinderella   \n",
       "\n",
       "         review_site  rating sentiment  \\\n",
       "0               imdb       1  negative   \n",
       "1               imdb       1  negative   \n",
       "5               imdb       1  negative   \n",
       "6               imdb       1  negative   \n",
       "8               imdb       1  negative   \n",
       "...              ...     ...       ...   \n",
       "2954  rottentomatoes       2  negative   \n",
       "2972  rottentomatoes       1  negative   \n",
       "2987  rottentomatoes       2  negative   \n",
       "3023  rottentomatoes       2  negative   \n",
       "3031  rottentomatoes       2  negative   \n",
       "\n",
       "                                          review_tokens  \\\n",
       "0     [disney, clear, time, favorite, movie, not, st...   \n",
       "1     [no, soul, original, lion, king, favorite, mov...   \n",
       "5     [seriously, notice, high, score, 7.5, rating, ...   \n",
       "6     [overrated, way, spotlight, beyonce, lion, kin...   \n",
       "8     [terrible, act, not, compare, original, love, ...   \n",
       "...                                                 ...   \n",
       "2954  [nothing, new, add, think, well, adaptation, c...   \n",
       "2972            [waste, time.not, kid, only, old, foks]   \n",
       "2987  [feel, like, real, life, incarnation, bring, h...   \n",
       "3023  [only, performance, mention, mark, cate, perfo...   \n",
       "3031  [adaptation, cinderella, nice, charm, feel, nu...   \n",
       "\n",
       "                                       review_processed  cluster  \n",
       "0     disney clear time favorite movie not stress en...        1  \n",
       "1     no soul original lion king favorite movie time...        3  \n",
       "5     seriously notice high score 7.5 rating not str...        0  \n",
       "6     overrated way spotlight beyonce lion king only...        1  \n",
       "8     terrible act not compare original love origina...        1  \n",
       "...                                                 ...      ...  \n",
       "2954   nothing new add think well adaptation cinderella        2  \n",
       "2972                   waste time.not kid only old foks        0  \n",
       "2987  feel like real life incarnation bring home rid...        1  \n",
       "3023  only performance mention mark cate performance...        3  \n",
       "3031  adaptation cinderella nice charm feel number c...        3  \n",
       "\n",
       "[5941 rows x 8 columns]"
      ]
     },
     "execution_count": 27,
     "metadata": {},
     "output_type": "execute_result"
    }
   ],
   "source": [
    "km = KMeans(n_clusters=elbow_neg, random_state=10, init='k-means++')\n",
    "km.fit_predict(sklearn.preprocessing.normalize(TFIDF_LSA_negative))\n",
    "negative_df['cluster'] = km.labels_\n",
    "negative_df\n"
   ]
  },
  {
   "cell_type": "code",
   "execution_count": 28,
   "metadata": {
    "ExecuteTime": {
     "end_time": "2019-11-12T21:40:23.343315Z",
     "start_time": "2019-11-12T21:40:23.338220Z"
    }
   },
   "outputs": [
    {
     "data": {
      "text/plain": [
       "3    1799\n",
       "1    1675\n",
       "2    1237\n",
       "0    1055\n",
       "4     175\n",
       "Name: cluster, dtype: int64"
      ]
     },
     "execution_count": 28,
     "metadata": {},
     "output_type": "execute_result"
    }
   ],
   "source": [
    "negative_df['cluster'].value_counts()"
   ]
  },
  {
   "cell_type": "code",
   "execution_count": 29,
   "metadata": {
    "ExecuteTime": {
     "end_time": "2019-11-12T21:40:26.227790Z",
     "start_time": "2019-11-12T21:40:23.344787Z"
    }
   },
   "outputs": [
    {
     "name": "stdout",
     "output_type": "stream",
     "text": [
      "(5941, 86)\n",
      "(5941, 5)\n",
      "\n",
      "Topic  0\n",
      "not, original, like, with, good, make, feel, well, disney, remake\n",
      "\n",
      "Topic  1\n",
      "not, not good, good, smith, genie, bad, singe, think, kid, like\n",
      "\n",
      "Topic  2\n",
      "original, well, not, not good, good, cartoon, version, change, watch, music\n",
      "\n",
      "Topic  3\n",
      "well, like, version, smith, animate, cartoon, genie, aladdin, way, beast\n",
      "\n",
      "Topic  4\n",
      "remake, disney, live, well, action, king, live action, lion, lion king, version\n"
     ]
    }
   ],
   "source": [
    "tfidfvec = TfidfVectorizer(ngram_range=(1,5), min_df=0.05, stop_words=['movie','film'])\n",
    "doc_word_tfidfvec_negative = tfidfvec.fit_transform(negative_corpus)\n",
    "print(doc_word_tfidfvec_negative.shape)\n",
    "tfidfvec.get_feature_names()\n",
    "LSA = TruncatedSVD(n_components=5,random_state=10, n_iter=10)\n",
    "tfidfvec_LSA_negative = LSA.fit_transform(doc_word_tfidfvec_negative) \n",
    "print(tfidfvec_LSA_negative.shape)\n",
    "display_topics(LSA, tfidfvec.get_feature_names(), 10)"
   ]
  },
  {
   "cell_type": "code",
   "execution_count": null,
   "metadata": {
    "ExecuteTime": {
     "end_time": "2019-11-11T23:04:40.531399Z",
     "start_time": "2019-11-11T23:02:35.338Z"
    },
    "code_folding": []
   },
   "outputs": [],
   "source": []
  },
  {
   "cell_type": "markdown",
   "metadata": {},
   "source": [
    "# Neutral Reviews"
   ]
  },
  {
   "cell_type": "code",
   "execution_count": 30,
   "metadata": {
    "ExecuteTime": {
     "end_time": "2019-11-12T21:40:29.295181Z",
     "start_time": "2019-11-12T21:40:26.229917Z"
    }
   },
   "outputs": [],
   "source": [
    "neutral_df = full_df[full_df['sentiment']=='neutral']\n",
    "\n",
    "neutral_corpus = [items[1] for items in neutral_df['review_processed'].iteritems()]\n",
    "Pipeline_TFIDF_LSA = Pipeline([\n",
    "                ('tfidf', TfidfVectorizer(ngram_range=(1,5), min_df=0.05, stop_words=['movie','film'])),\n",
    "                ('LSA', TruncatedSVD(n_components=5,random_state=10, n_iter=10))])\n",
    "TFIDF_LSA_neutral = Pipeline_TFIDF_LSA.fit_transform(neutral_corpus)\n",
    "\n"
   ]
  },
  {
   "cell_type": "code",
   "execution_count": 31,
   "metadata": {
    "ExecuteTime": {
     "end_time": "2019-11-12T21:40:29.300798Z",
     "start_time": "2019-11-12T21:40:29.297009Z"
    }
   },
   "outputs": [],
   "source": [
    "normalized_doc_topic_lsa_tfidf_neut = sklearn.preprocessing.normalize(TFIDF_LSA_neutral)"
   ]
  },
  {
   "cell_type": "code",
   "execution_count": 32,
   "metadata": {
    "ExecuteTime": {
     "end_time": "2019-11-12T21:40:31.555627Z",
     "start_time": "2019-11-12T21:40:29.302752Z"
    }
   },
   "outputs": [
    {
     "data": {
      "image/png": "[encoded data removed]",
      "text/plain": [
       "<Figure size 432x288 with 2 Axes>"
      ]
     },
     "metadata": {},
     "output_type": "display_data"
    }
   ],
   "source": [
    "visualizer = KElbowVisualizer(km, k=(2,12))\n",
    "\n",
    "visualizer.fit(normalized_doc_topic_lsa_tfidf_neut)        # Fit the data to the visualizer\n",
    "visualizer.show()  # Finalize and render the figure\n",
    "elbow_neut = visualizer.elbow_value_"
   ]
  },
  {
   "cell_type": "code",
   "execution_count": 33,
   "metadata": {
    "ExecuteTime": {
     "end_time": "2019-11-12T21:40:31.671132Z",
     "start_time": "2019-11-12T21:40:31.556720Z"
    }
   },
   "outputs": [
    {
     "name": "stderr",
     "output_type": "stream",
     "text": [
      "/Users/kristentokunaga/anaconda3/envs/metis/lib/python3.7/site-packages/ipykernel_launcher.py:3: SettingWithCopyWarning: \n",
      "A value is trying to be set on a copy of a slice from a DataFrame.\n",
      "Try using .loc[row_indexer,col_indexer] = value instead\n",
      "\n",
      "See the caveats in the documentation: http://pandas.pydata.org/pandas-docs/stable/user_guide/indexing.html#returning-a-view-versus-a-copy\n",
      "  This is separate from the ipykernel package so we can avoid doing imports until\n"
     ]
    },
    {
     "data": {
      "text/html": [
       "<div>\n",
       "<style scoped>\n",
       "    .dataframe tbody tr th:only-of-type {\n",
       "        vertical-align: middle;\n",
       "    }\n",
       "\n",
       "    .dataframe tbody tr th {\n",
       "        vertical-align: top;\n",
       "    }\n",
       "\n",
       "    .dataframe thead th {\n",
       "        text-align: right;\n",
       "    }\n",
       "</style>\n",
       "<table border=\"1\" class=\"dataframe\">\n",
       "  <thead>\n",
       "    <tr style=\"text-align: right;\">\n",
       "      <th></th>\n",
       "      <th>review_text</th>\n",
       "      <th>movie</th>\n",
       "      <th>review_site</th>\n",
       "      <th>rating</th>\n",
       "      <th>sentiment</th>\n",
       "      <th>review_tokens</th>\n",
       "      <th>review_processed</th>\n",
       "      <th>cluster</th>\n",
       "    </tr>\n",
       "  </thead>\n",
       "  <tbody>\n",
       "    <tr>\n",
       "      <td>245</td>\n",
       "      <td>Not bad but not great. I thought the CGI was ...</td>\n",
       "      <td>lionking</td>\n",
       "      <td>imdb</td>\n",
       "      <td>5</td>\n",
       "      <td>neutral</td>\n",
       "      <td>[not, bad, not, great, think, cgi, great, time...</td>\n",
       "      <td>not bad not great think cgi great time emotion...</td>\n",
       "      <td>2</td>\n",
       "    </tr>\n",
       "    <tr>\n",
       "      <td>282</td>\n",
       "      <td>Copyright Why they didn't yet give credit to ...</td>\n",
       "      <td>lionking</td>\n",
       "      <td>imdb</td>\n",
       "      <td>6</td>\n",
       "      <td>neutral</td>\n",
       "      <td>[copyright, not, give, credit, kimba, white, l...</td>\n",
       "      <td>copyright not give credit kimba white lion???t...</td>\n",
       "      <td>1</td>\n",
       "    </tr>\n",
       "    <tr>\n",
       "      <td>422</td>\n",
       "      <td>The same story + CG + blandness = pointless Y...</td>\n",
       "      <td>lionking</td>\n",
       "      <td>imdb</td>\n",
       "      <td>5</td>\n",
       "      <td>neutral</td>\n",
       "      <td>[story, cg, blandness, pointless, yes, cg, fil...</td>\n",
       "      <td>story cg blandness pointless yes cg film pheno...</td>\n",
       "      <td>2</td>\n",
       "    </tr>\n",
       "    <tr>\n",
       "      <td>423</td>\n",
       "      <td>Disappointed It was disappointed to watch it ...</td>\n",
       "      <td>lionking</td>\n",
       "      <td>imdb</td>\n",
       "      <td>5</td>\n",
       "      <td>neutral</td>\n",
       "      <td>[disappointed, disappoint, watch, with, nothin...</td>\n",
       "      <td>disappointed disappoint watch with nothing new...</td>\n",
       "      <td>3</td>\n",
       "    </tr>\n",
       "    <tr>\n",
       "      <td>427</td>\n",
       "      <td>no point Visually it's amazing, for the first...</td>\n",
       "      <td>lionking</td>\n",
       "      <td>imdb</td>\n",
       "      <td>5</td>\n",
       "      <td>neutral</td>\n",
       "      <td>[no, point, visually, amaze, ﻿1, 10, minute, s...</td>\n",
       "      <td>no point visually amaze ﻿1 10 minute story son...</td>\n",
       "      <td>2</td>\n",
       "    </tr>\n",
       "    <tr>\n",
       "      <td>...</td>\n",
       "      <td>...</td>\n",
       "      <td>...</td>\n",
       "      <td>...</td>\n",
       "      <td>...</td>\n",
       "      <td>...</td>\n",
       "      <td>...</td>\n",
       "      <td>...</td>\n",
       "      <td>...</td>\n",
       "    </tr>\n",
       "    <tr>\n",
       "      <td>3018</td>\n",
       "      <td>With unlimited card - Sai and Akeela</td>\n",
       "      <td>cinderella</td>\n",
       "      <td>rottentomatoes</td>\n",
       "      <td>3</td>\n",
       "      <td>neutral</td>\n",
       "      <td>[with, unlimited, card, sai, akeela]</td>\n",
       "      <td>with unlimited card sai akeela</td>\n",
       "      <td>3</td>\n",
       "    </tr>\n",
       "    <tr>\n",
       "      <td>3019</td>\n",
       "      <td>An alright movie. Though if you're looking for...</td>\n",
       "      <td>cinderella</td>\n",
       "      <td>rottentomatoes</td>\n",
       "      <td>3</td>\n",
       "      <td>neutral</td>\n",
       "      <td>[alright, movie, look, fresh, not]</td>\n",
       "      <td>alright movie look fresh not</td>\n",
       "      <td>2</td>\n",
       "    </tr>\n",
       "    <tr>\n",
       "      <td>3022</td>\n",
       "      <td>good but not as good as malificent.</td>\n",
       "      <td>cinderella</td>\n",
       "      <td>rottentomatoes</td>\n",
       "      <td>3</td>\n",
       "      <td>neutral</td>\n",
       "      <td>[good, not, good, malificent]</td>\n",
       "      <td>good not good malificent</td>\n",
       "      <td>1</td>\n",
       "    </tr>\n",
       "    <tr>\n",
       "      <td>3027</td>\n",
       "      <td>A delightful, beautiful take on the classic fa...</td>\n",
       "      <td>cinderella</td>\n",
       "      <td>rottentomatoes</td>\n",
       "      <td>3</td>\n",
       "      <td>neutral</td>\n",
       "      <td>[delightful, beautiful, classic, fairytale, ge...</td>\n",
       "      <td>delightful beautiful classic fairytale genuine...</td>\n",
       "      <td>2</td>\n",
       "    </tr>\n",
       "    <tr>\n",
       "      <td>3038</td>\n",
       "      <td>Great costume design and strong cast, though t...</td>\n",
       "      <td>cinderella</td>\n",
       "      <td>rottentomatoes</td>\n",
       "      <td>3</td>\n",
       "      <td>neutral</td>\n",
       "      <td>[great, costume, design, strong, cast, adaptat...</td>\n",
       "      <td>great costume design strong cast adaptation do...</td>\n",
       "      <td>2</td>\n",
       "    </tr>\n",
       "  </tbody>\n",
       "</table>\n",
       "<p>6915 rows × 8 columns</p>\n",
       "</div>"
      ],
      "text/plain": [
       "                                            review_text       movie  \\\n",
       "245    Not bad but not great. I thought the CGI was ...    lionking   \n",
       "282    Copyright Why they didn't yet give credit to ...    lionking   \n",
       "422    The same story + CG + blandness = pointless Y...    lionking   \n",
       "423    Disappointed It was disappointed to watch it ...    lionking   \n",
       "427    no point Visually it's amazing, for the first...    lionking   \n",
       "...                                                 ...         ...   \n",
       "3018               With unlimited card - Sai and Akeela  cinderella   \n",
       "3019  An alright movie. Though if you're looking for...  cinderella   \n",
       "3022                good but not as good as malificent.  cinderella   \n",
       "3027  A delightful, beautiful take on the classic fa...  cinderella   \n",
       "3038  Great costume design and strong cast, though t...  cinderella   \n",
       "\n",
       "         review_site  rating sentiment  \\\n",
       "245             imdb       5   neutral   \n",
       "282             imdb       6   neutral   \n",
       "422             imdb       5   neutral   \n",
       "423             imdb       5   neutral   \n",
       "427             imdb       5   neutral   \n",
       "...              ...     ...       ...   \n",
       "3018  rottentomatoes       3   neutral   \n",
       "3019  rottentomatoes       3   neutral   \n",
       "3022  rottentomatoes       3   neutral   \n",
       "3027  rottentomatoes       3   neutral   \n",
       "3038  rottentomatoes       3   neutral   \n",
       "\n",
       "                                          review_tokens  \\\n",
       "245   [not, bad, not, great, think, cgi, great, time...   \n",
       "282   [copyright, not, give, credit, kimba, white, l...   \n",
       "422   [story, cg, blandness, pointless, yes, cg, fil...   \n",
       "423   [disappointed, disappoint, watch, with, nothin...   \n",
       "427   [no, point, visually, amaze, ﻿1, 10, minute, s...   \n",
       "...                                                 ...   \n",
       "3018               [with, unlimited, card, sai, akeela]   \n",
       "3019                 [alright, movie, look, fresh, not]   \n",
       "3022                      [good, not, good, malificent]   \n",
       "3027  [delightful, beautiful, classic, fairytale, ge...   \n",
       "3038  [great, costume, design, strong, cast, adaptat...   \n",
       "\n",
       "                                       review_processed  cluster  \n",
       "245   not bad not great think cgi great time emotion...        2  \n",
       "282   copyright not give credit kimba white lion???t...        1  \n",
       "422   story cg blandness pointless yes cg film pheno...        2  \n",
       "423   disappointed disappoint watch with nothing new...        3  \n",
       "427   no point visually amaze ﻿1 10 minute story son...        2  \n",
       "...                                                 ...      ...  \n",
       "3018                     with unlimited card sai akeela        3  \n",
       "3019                       alright movie look fresh not        2  \n",
       "3022                           good not good malificent        1  \n",
       "3027  delightful beautiful classic fairytale genuine...        2  \n",
       "3038  great costume design strong cast adaptation do...        2  \n",
       "\n",
       "[6915 rows x 8 columns]"
      ]
     },
     "execution_count": 33,
     "metadata": {},
     "output_type": "execute_result"
    }
   ],
   "source": [
    "km = KMeans(n_clusters=elbow_neut, random_state=10, init='k-means++')\n",
    "km.fit_predict(normalized_doc_topic_lsa_tfidf_neut)\n",
    "neutral_df['cluster'] = km.labels_\n",
    "neutral_df"
   ]
  },
  {
   "cell_type": "code",
   "execution_count": 34,
   "metadata": {
    "ExecuteTime": {
     "end_time": "2019-11-12T21:40:31.677639Z",
     "start_time": "2019-11-12T21:40:31.672472Z"
    }
   },
   "outputs": [
    {
     "data": {
      "text/plain": [
       "3    1682\n",
       "2    1463\n",
       "0    1385\n",
       "1    1298\n",
       "4    1087\n",
       "Name: cluster, dtype: int64"
      ]
     },
     "execution_count": 34,
     "metadata": {},
     "output_type": "execute_result"
    }
   ],
   "source": [
    "neutral_df['cluster'].value_counts()"
   ]
  },
  {
   "cell_type": "code",
   "execution_count": 35,
   "metadata": {
    "ExecuteTime": {
     "end_time": "2019-11-12T21:40:34.721836Z",
     "start_time": "2019-11-12T21:40:31.679062Z"
    }
   },
   "outputs": [
    {
     "name": "stdout",
     "output_type": "stream",
     "text": [
      "(6915, 90)\n",
      "(6915, 3)\n",
      "\n",
      "Topic  0\n",
      "not, good, original, like, with, well, great, make, feel, disney, story, song, character, remake, version\n",
      "\n",
      "Topic  1\n",
      "good, not, smith, pretty, bad, genie, think, overall, job, great, music, singe, kid, fun, expect\n",
      "\n",
      "Topic  2\n",
      "original, well, not, okay, like, lion, lion king, change, king, amaze, emotion, lack, scene, disappoint, bad\n"
     ]
    }
   ],
   "source": [
    "tfidfvec = TfidfVectorizer(ngram_range=(1,5), min_df=0.05, stop_words=['movie','film'])\n",
    "doc_word_tfidfvec_neutral = tfidfvec.fit_transform(neutral_corpus)\n",
    "print(doc_word_tfidfvec_neutral.shape)\n",
    "tfidfvec.get_feature_names()\n",
    "LSA = TruncatedSVD(n_components=3,random_state=10, n_iter=10)\n",
    "tfidfvec_LSA_neutral = LSA.fit_transform(doc_word_tfidfvec_neutral) \n",
    "print(tfidfvec_LSA_neutral.shape)\n",
    "display_topics(LSA, tfidfvec.get_feature_names(), 15)"
   ]
  },
  {
   "cell_type": "code",
   "execution_count": 36,
   "metadata": {
    "ExecuteTime": {
     "end_time": "2019-11-12T21:40:34.726266Z",
     "start_time": "2019-11-12T21:40:34.723738Z"
    }
   },
   "outputs": [],
   "source": [
    "#cluster then cosine similarity [find cluster that it's closest to, for that one document]"
   ]
  },
  {
   "cell_type": "code",
   "execution_count": null,
   "metadata": {},
   "outputs": [],
   "source": []
  },
  {
   "cell_type": "code",
   "execution_count": 37,
   "metadata": {
    "ExecuteTime": {
     "end_time": "2019-11-12T21:40:34.984990Z",
     "start_time": "2019-11-12T21:40:34.728403Z"
    }
   },
   "outputs": [
    {
     "ename": "ModuleNotFoundError",
     "evalue": "No module named 'wordcloud'",
     "output_type": "error",
     "traceback": [
      "\u001b[0;31m---------------------------------------------------------------------------\u001b[0m",
      "\u001b[0;31mModuleNotFoundError\u001b[0m                       Traceback (most recent call last)",
      "\u001b[0;32m<ipython-input-37-369a16939e1f>\u001b[0m in \u001b[0;36m<module>\u001b[0;34m\u001b[0m\n\u001b[0;32m----> 1\u001b[0;31m \u001b[0;32mfrom\u001b[0m \u001b[0mwordcloud\u001b[0m \u001b[0;32mimport\u001b[0m \u001b[0mWordCloud\u001b[0m\u001b[0;34m\u001b[0m\u001b[0;34m\u001b[0m\u001b[0m\n\u001b[0m\u001b[1;32m      2\u001b[0m \u001b[0;32mimport\u001b[0m \u001b[0mmatplotlib\u001b[0m\u001b[0;34m.\u001b[0m\u001b[0mpyplot\u001b[0m \u001b[0;32mas\u001b[0m \u001b[0mplt\u001b[0m\u001b[0;34m\u001b[0m\u001b[0;34m\u001b[0m\u001b[0m\n\u001b[1;32m      3\u001b[0m \u001b[0;34m\u001b[0m\u001b[0m\n\u001b[1;32m      4\u001b[0m \u001b[0;32mdef\u001b[0m \u001b[0mshow_wordcloud\u001b[0m\u001b[0;34m(\u001b[0m\u001b[0mdata\u001b[0m\u001b[0;34m,\u001b[0m \u001b[0mtitle\u001b[0m \u001b[0;34m=\u001b[0m \u001b[0;32mNone\u001b[0m\u001b[0;34m)\u001b[0m\u001b[0;34m:\u001b[0m\u001b[0;34m\u001b[0m\u001b[0;34m\u001b[0m\u001b[0m\n\u001b[1;32m      5\u001b[0m     wordcloud = WordCloud(\n",
      "\u001b[0;31mModuleNotFoundError\u001b[0m: No module named 'wordcloud'"
     ]
    }
   ],
   "source": [
    "from wordcloud import WordCloud\n",
    "import matplotlib.pyplot as plt\n",
    "\n",
    "def show_wordcloud(data, title = None):\n",
    "    wordcloud = WordCloud(\n",
    "        background_color = 'white',\n",
    "        max_words = 200,\n",
    "        max_font_size = 40, \n",
    "        scale = 3,\n",
    "        random_state = 42\n",
    "    ).generate(str(data))\n",
    "\n",
    "    fig = plt.figure(1, figsize = (20, 20))\n",
    "    plt.axis('off')\n",
    "    if title: \n",
    "        fig.suptitle(title, fontsize = 20)\n",
    "        fig.subplots_adjust(top = 2.3)\n",
    "\n",
    "    plt.imshow(wordcloud)\n",
    "    plt.show()\n",
    "    \n",
    "# print wordcloud\n",
    "show_wordcloud(reviews_df[\"review\"])"
   ]
  },
  {
   "cell_type": "code",
   "execution_count": null,
   "metadata": {},
   "outputs": [],
   "source": []
  },
  {
   "cell_type": "markdown",
   "metadata": {},
   "source": [
    "# Sentiment (Rating) Prediction"
   ]
  },
  {
   "cell_type": "code",
   "execution_count": null,
   "metadata": {
    "ExecuteTime": {
     "end_time": "2019-11-12T21:40:34.986285Z",
     "start_time": "2019-11-12T21:38:17.459Z"
    }
   },
   "outputs": [],
   "source": [
    "X_train, X_test, y_train, y_test = "
   ]
  },
  {
   "cell_type": "code",
   "execution_count": null,
   "metadata": {
    "ExecuteTime": {
     "end_time": "2019-11-12T21:40:34.987213Z",
     "start_time": "2019-11-12T21:38:17.462Z"
    }
   },
   "outputs": [],
   "source": [
    "max_depth_range = list(range(1, 10))\n",
    "n_estimators_range = list(range(50, 300))\n",
    "gamma_range = list(range(0, 5))\n",
    "param_dist = dict(max_depth = max_depth_range, n_estimators = n_estimators_range, gamma = gamma_range)\n",
    "print(param_dist)\n",
    "\n",
    "rand = RandomizedSearchCV(XGBClassifier(random_state=41), param_dist, cv=5, scoring='roc_auc')\n",
    "rand.fit(X_ros_resampled_TRAIN, y_ros_resampled_TRAIN.values.ravel())\n",
    "rand.cv_results_\n",
    "\n",
    "print(rand.best_score_)\n",
    "print(rand.best_params_)"
   ]
  },
  {
   "cell_type": "code",
   "execution_count": null,
   "metadata": {
    "ExecuteTime": {
     "end_time": "2019-11-12T21:40:34.988136Z",
     "start_time": "2019-11-12T21:38:17.465Z"
    }
   },
   "outputs": [],
   "source": [
    "#RANDOM Oversampling\n",
    "#print(X_train.columns)\n",
    "ros = RandomOverSampler(random_state=0)\n",
    "X_ros_resampled_subtrain, y_ros_resampled_subtrain = ros.fit_sample(X_subtrain,y_subtrain)\n",
    "X_ros_resampled_subtrain = pd.DataFrame(X_ros_resampled_subtrain, columns = ['Administrative',  'Administrative_Duration',\n",
    " 'Informational',  'Informational_Duration', 'ProductRelated', 'ProductRelated_Duration',  \n",
    " 'BounceRates', 'ExitRates', 'PageValues', 'SpecialDay', 'Weekend',\n",
    " 'Month_Dec', 'Month_Feb', 'Month_Jul', 'Month_Jun', 'Month_Mar', 'Month_May', 'Month_Nov', 'Month_Oct', 'Month_Sep',\n",
    " 'VisitorType_New_Visitor',  'VisitorType_Returning_Visitor', 'OperatingSystem_1', 'OperatingSystem_2',\n",
    " 'OperatingSystem_3', 'OperatingSystem_4', 'OperatingSystem_6', 'OperatingSystem_7', 'OperatingSystem_8',\n",
    " 'Browser_1', 'Browser_2', 'Browser_3', 'Browser_4', 'Browser_5', 'Browser_6', 'Browser_7', 'Browser_8', 'Browser_10',\n",
    " 'Browser_11', 'Browser_12', 'Browser_13', 'Region_1', 'Region_2', 'Region_3', 'Region_4', 'Region_6', 'Region_7', 'Region_8', 'Region_9', \n",
    " 'TrafficType_1', 'TrafficType_2', 'TrafficType_3', 'TrafficType_4', 'TrafficType_5', 'TrafficType_6', 'TrafficType_7',\n",
    " 'TrafficType_8', 'TrafficType_9', 'TrafficType_10', 'TrafficType_11', 'TrafficType_12', 'TrafficType_13', 'TrafficType_14',\n",
    " 'TrafficType_15', 'TrafficType_16', 'TrafficType_18', 'TrafficType_19', 'TrafficType_20'])\n",
    "y_ros_resampled_subtrain = pd.DataFrame(y_ros_resampled_subtrain, columns = ['Purchase'])\n",
    "y_ros_resampled_subtrain\n",
    "\n",
    "#SMOTE Oversampling\n",
    "X_smoted_subtrain, y_smoted_subtrain = SMOTE(random_state=0).fit_sample(X_subtrain,y_subtrain)\n",
    "X_smoted_subtrain = pd.DataFrame(X_smoted_subtrain, columns = ['Administrative',  'Administrative_Duration',\n",
    " 'Informational',  'Informational_Duration', 'ProductRelated', 'ProductRelated_Duration',  \n",
    " 'BounceRates', 'ExitRates', 'PageValues', 'SpecialDay', 'Weekend',\n",
    " 'Month_Dec', 'Month_Feb', 'Month_Jul', 'Month_Jun', 'Month_Mar', 'Month_May', 'Month_Nov', 'Month_Oct', 'Month_Sep',\n",
    " 'VisitorType_New_Visitor',  'VisitorType_Returning_Visitor', 'OperatingSystem_1', 'OperatingSystem_2',\n",
    " 'OperatingSystem_3', 'OperatingSystem_4', 'OperatingSystem_6', 'OperatingSystem_7', 'OperatingSystem_8',\n",
    " 'Browser_1', 'Browser_2', 'Browser_3', 'Browser_4', 'Browser_5', 'Browser_6', 'Browser_7', 'Browser_8', 'Browser_10',\n",
    " 'Browser_11', 'Browser_12', 'Browser_13', 'Region_1', 'Region_2', 'Region_3', 'Region_4', 'Region_6', 'Region_7', 'Region_8', 'Region_9', \n",
    " 'TrafficType_1', 'TrafficType_2', 'TrafficType_3', 'TrafficType_4', 'TrafficType_5', 'TrafficType_6', 'TrafficType_7',\n",
    " 'TrafficType_8', 'TrafficType_9', 'TrafficType_10', 'TrafficType_11', 'TrafficType_12', 'TrafficType_13', 'TrafficType_14',\n",
    " 'TrafficType_15', 'TrafficType_16', 'TrafficType_18', 'TrafficType_19', 'TrafficType_20'])\n",
    "y_smoted_subtrain = pd.DataFrame(y_smoted_subtrain, columns = ['Purchase'])\n",
    "y_smoted_subtrain\n",
    "\n",
    "#ADASYN Oversampling\n",
    "X_adasyn_subtrain, y_adasyn_subtrain = ADASYN(random_state=0).fit_sample(X_subtrain,y_subtrain)\n",
    "X_adasyn_subtrain = pd.DataFrame(X_adasyn_subtrain, columns = ['Administrative',  'Administrative_Duration',\n",
    " 'Informational',  'Informational_Duration', 'ProductRelated', 'ProductRelated_Duration',  \n",
    " 'BounceRates', 'ExitRates', 'PageValues', 'SpecialDay', 'Weekend',\n",
    " 'Month_Dec', 'Month_Feb', 'Month_Jul', 'Month_Jun', 'Month_Mar', 'Month_May', 'Month_Nov', 'Month_Oct', 'Month_Sep',\n",
    " 'VisitorType_New_Visitor',  'VisitorType_Returning_Visitor', 'OperatingSystem_1', 'OperatingSystem_2',\n",
    " 'OperatingSystem_3', 'OperatingSystem_4', 'OperatingSystem_6', 'OperatingSystem_7', 'OperatingSystem_8',\n",
    " 'Browser_1', 'Browser_2', 'Browser_3', 'Browser_4', 'Browser_5', 'Browser_6', 'Browser_7', 'Browser_8', 'Browser_10',\n",
    " 'Browser_11', 'Browser_12', 'Browser_13', 'Region_1', 'Region_2', 'Region_3', 'Region_4', 'Region_6', 'Region_7', 'Region_8', 'Region_9', \n",
    " 'TrafficType_1', 'TrafficType_2', 'TrafficType_3', 'TrafficType_4', 'TrafficType_5', 'TrafficType_6', 'TrafficType_7',\n",
    " 'TrafficType_8', 'TrafficType_9', 'TrafficType_10', 'TrafficType_11', 'TrafficType_12', 'TrafficType_13', 'TrafficType_14',\n",
    " 'TrafficType_15', 'TrafficType_16', 'TrafficType_18', 'TrafficType_19', 'TrafficType_20'])\n",
    "y_adasyn_subtrain = pd.DataFrame(y_adasyn_subtrain, columns = ['Purchase'])\n",
    "y_adasyn_subtrain"
   ]
  },
  {
   "cell_type": "code",
   "execution_count": null,
   "metadata": {
    "ExecuteTime": {
     "end_time": "2019-11-12T21:40:34.989134Z",
     "start_time": "2019-11-12T21:38:17.468Z"
    }
   },
   "outputs": [],
   "source": [
    "#All models - Imbalanced\n",
    "Model_Results = pd.DataFrame(columns = ['Model','Fbeta1.5','Fbeta2', 'F1','Precision','Recall', 'P-R_AUC', 'ROC_AUC_train','ROC_AUC_valid','FN','FP','TN','TP','Fit','Predict','Feature_Importance'])\n",
    "Model_Results['Model'] = ['Dummy_Clas','KNN_Clas_3n','KNN_Clas_5n','KNN_Clas_7n', 'KNN_Clas_3n_weightdist', 'KNN_Clas_3n_Manhattandist','GaussianNB','LogisticRegression','LogisticRegressionCV','SVC',\\\n",
    "                          'DecisionTree_Clas','BalRF_Clas_50est_depth2','BalRF_Clas_100est_depth2','BalRF_Clas_50est_depth3','RF_Clas_50est_depth2','RF_Clas_100est_depth2','RF_Clas_200est_depth2','RF_Clas_100est_depth3','RF_Clas_100est_depth4',\\\n",
    "                          'XGB_Clas_95est_depth2','XGB_Clas_Scale_95est_depth2_PosWt', 'XGB_Clas_100est_depth2','XGB_Clas_50est_depth2','XGB_Clas_95est_depth3','XGB_Clas_95est_depth4','XGB_Clas_95est_depth3_PosWt','XGB_Clas_Scale_100est_depth2_PosWt']\n",
    "models = DummyClassifier(random_state=41), KNeighborsClassifier(n_neighbors=3), KNeighborsClassifier(n_neighbors=5), KNeighborsClassifier(n_neighbors=7), KNeighborsClassifier(n_neighbors=3, weights='distance'),KNeighborsClassifier(n_neighbors=3, p=1), \\\n",
    "        GaussianNB(), LogisticRegression(C=1.0,random_state=41, max_iter=10000), LogisticRegressionCV(Cs=[100000,10000,1000,100,10,1,0.1,0.01,0.001],random_state=41,cv=5,max_iter=10000), SVC(random_state=41,probability=True), DecisionTreeClassifier(random_state=41), \\\n",
    "        BalancedRandomForestClassifier(n_estimators=50, max_depth=2,random_state=41), BalancedRandomForestClassifier(n_estimators=100, max_depth=2,random_state=41), BalancedRandomForestClassifier(n_estimators=50, max_depth=3,random_state=41), RandomForestClassifier(n_estimators=50, max_depth=2,random_state=41), RandomForestClassifier(n_estimators=100, max_depth=2,random_state=41), RandomForestClassifier(n_estimators=200, max_depth=2,random_state=41), RandomForestClassifier(n_estimators=100, max_depth=3,random_state=41),RandomForestClassifier(n_estimators=100, max_depth=4,random_state=41), \\\n",
    "        XGBClassifier(max_depth=2,n_estimators=95,random_state=41), XGBClassifier(max_depth=2,n_estimators=95,random_state=41,scale_pos_weight=(y_subtrain.values==0).sum()/(y_subtrain.values==1).sum()), XGBClassifier(max_depth=2,n_estimators=100,random_state=41), XGBClassifier(max_depth=2,n_estimators=50,random_state=41), XGBClassifier(max_depth=3,n_estimators=95,random_state=41),XGBClassifier(max_depth=4,n_estimators=95,random_state=41), XGBClassifier(max_depth=3,n_estimators=95,random_state=41,scale_pos_weight=(y_subtrain.values==0).sum()/(y_subtrain.values==1).sum()), XGBClassifier(max_depth=2,n_estimators=100,random_state=41,scale_pos_weight=(y_subtrain.values==0).sum()/(y_subtrain.values==1).sum())\n",
    "\n",
    "fbeta1_5_list = []\n",
    "fbeta2_list = []\n",
    "f1_list = []\n",
    "precision_list = []\n",
    "recall_list = []\n",
    "PR_AUC_list = []\n",
    "ROC_AUC_train_list = []\n",
    "ROC_AUC_valid_list = []\n",
    "FN_list = []\n",
    "FP_list = []\n",
    "TN_list = []\n",
    "TP_list = []\n",
    "Fit_list = []\n",
    "Predict_list = []\n",
    "Feature_Importance_list = []\n",
    "\n",
    "\n",
    "#std scale train and test: recommended workflow \n",
    "#scaler.fit x-->model.fit --> scaler transform x\n",
    "#model.fit, scaler transform xtest \n",
    "#model learning from data training \n",
    "#scaled test --> leaks data\n",
    "#train on trainset --if input data \n",
    "\n",
    "#pipeline --always gets this right\n",
    "#scaler.fitx\n",
    "#model.fit(scaler.transform(x))\n",
    "#model.predict(scaler.transform(xtest)))\n",
    "#stdscale target can do, but affects betas: less interpretable\n",
    "#similar impact has similar beta \n",
    "\n",
    "for model in models:\n",
    "    \n",
    "    if 'CV' in str(model): \n",
    "        scalerlogregCV = StandardScaler().fit(X_train)\n",
    "        X_train_transformed = scalerlogregCV.transform(X_train.values)\n",
    "        X_train_transformed = pd.DataFrame(X_train_transformed, columns = ['Administrative',  'Administrative_Duration',\n",
    " 'Informational',  'Informational_Duration', 'ProductRelated', 'ProductRelated_Duration',  \n",
    " 'BounceRates', 'ExitRates', 'PageValues', 'SpecialDay', 'Weekend',\n",
    " 'Month_Dec', 'Month_Feb', 'Month_Jul', 'Month_Jun', 'Month_Mar', 'Month_May', 'Month_Nov', 'Month_Oct', 'Month_Sep',\n",
    " 'VisitorType_New_Visitor',  'VisitorType_Returning_Visitor', 'OperatingSystem_1', 'OperatingSystem_2',\n",
    " 'OperatingSystem_3', 'OperatingSystem_4', 'OperatingSystem_6', 'OperatingSystem_7', 'OperatingSystem_8',\n",
    " 'Browser_1', 'Browser_2', 'Browser_3', 'Browser_4', 'Browser_5', 'Browser_6', 'Browser_7', 'Browser_8', 'Browser_10',\n",
    " 'Browser_11', 'Browser_12', 'Browser_13', 'Region_1', 'Region_2', 'Region_3', 'Region_4', 'Region_6', 'Region_7', 'Region_8', 'Region_9', \n",
    " 'TrafficType_1', 'TrafficType_2', 'TrafficType_3', 'TrafficType_4', 'TrafficType_5', 'TrafficType_6', 'TrafficType_7',\n",
    " 'TrafficType_8', 'TrafficType_9', 'TrafficType_10', 'TrafficType_11', 'TrafficType_12', 'TrafficType_13', 'TrafficType_14',\n",
    " 'TrafficType_15', 'TrafficType_16', 'TrafficType_18', 'TrafficType_19', 'TrafficType_20'])\n",
    "        model.fit(X_train_transformed,y_train) #turn back into df\n",
    "        \n",
    "        fbeta1_5_list.append(fbeta_score(y_train, model.predict(X_train_transformed),1.5))\n",
    "        fbeta2_list.append(fbeta_score(y_train, model.predict(X_train_transformed),2))\n",
    "        f1_list.append(f1_score(y_train, model.predict(X_train_transformed)))\n",
    "        precision_list.append(precision_score(y_train, model.predict(X_train_transformed)))\n",
    "        recall_list.append(recall_score(y_train, model.predict(X_train_transformed)))\n",
    "        precision, recall, thresholds = precision_recall_curve(y_train, model.predict(X_train_transformed)) \n",
    "        PR_AUC_list.append(auc(recall, precision)) \n",
    "        ROC_AUC_train_list.append(roc_auc_score(y_train, model.predict(X_train_transformed)))\n",
    "        ROC_AUC_valid_list.append(roc_auc_score(y_train, model.predict(X_train_transformed)))\n",
    "        tn, fp, fn, tp = confusion_matrix(y_train, model.predict(X_train_transformed)).ravel()\n",
    "        FN_list.append(fn)\n",
    "        FP_list.append(fp)\n",
    "        TN_list.append(tn)\n",
    "        TP_list.append(tp)\n",
    "        Fit_list.append('X_train_transformed, y_train')\n",
    "        Predict_list.append('X_train_transformed')\n",
    "        Feature_Importance_list.append(model.coef_)\n",
    "            \n",
    "    elif 'LogisticRegression' in str(model):\n",
    "        scalerlogreg = StandardScaler().fit(X_subtrain)\n",
    "        X_subtrain_transformed = scalerlogreg.transform(X_subtrain.values)\n",
    "        X_subtrain_transformed = pd.DataFrame(X_subtrain_transformed, columns = ['Administrative',  'Administrative_Duration',\n",
    " 'Informational',  'Informational_Duration', 'ProductRelated', 'ProductRelated_Duration',  \n",
    " 'BounceRates', 'ExitRates', 'PageValues', 'SpecialDay', 'Weekend',\n",
    " 'Month_Dec', 'Month_Feb', 'Month_Jul', 'Month_Jun', 'Month_Mar', 'Month_May', 'Month_Nov', 'Month_Oct', 'Month_Sep',\n",
    " 'VisitorType_New_Visitor',  'VisitorType_Returning_Visitor', 'OperatingSystem_1', 'OperatingSystem_2',\n",
    " 'OperatingSystem_3', 'OperatingSystem_4', 'OperatingSystem_6', 'OperatingSystem_7', 'OperatingSystem_8',\n",
    " 'Browser_1', 'Browser_2', 'Browser_3', 'Browser_4', 'Browser_5', 'Browser_6', 'Browser_7', 'Browser_8', 'Browser_10',\n",
    " 'Browser_11', 'Browser_12', 'Browser_13', 'Region_1', 'Region_2', 'Region_3', 'Region_4', 'Region_6', 'Region_7', 'Region_8', 'Region_9', \n",
    " 'TrafficType_1', 'TrafficType_2', 'TrafficType_3', 'TrafficType_4', 'TrafficType_5', 'TrafficType_6', 'TrafficType_7',\n",
    " 'TrafficType_8', 'TrafficType_9', 'TrafficType_10', 'TrafficType_11', 'TrafficType_12', 'TrafficType_13', 'TrafficType_14',\n",
    " 'TrafficType_15', 'TrafficType_16', 'TrafficType_18', 'TrafficType_19', 'TrafficType_20'])\n",
    "        model.fit(X_subtrain_transformed,y_subtrain) #need to turn back into df\n",
    "        X_valid_transformed = scalerlogreg.transform(X_valid)\n",
    "        X_valid_transformed = pd.DataFrame(X_valid_transformed, columns = ['Administrative',  'Administrative_Duration',\n",
    " 'Informational',  'Informational_Duration', 'ProductRelated', 'ProductRelated_Duration',  \n",
    " 'BounceRates', 'ExitRates', 'PageValues', 'SpecialDay', 'Weekend',\n",
    " 'Month_Dec', 'Month_Feb', 'Month_Jul', 'Month_Jun', 'Month_Mar', 'Month_May', 'Month_Nov', 'Month_Oct', 'Month_Sep',\n",
    " 'VisitorType_New_Visitor',  'VisitorType_Returning_Visitor', 'OperatingSystem_1', 'OperatingSystem_2',\n",
    " 'OperatingSystem_3', 'OperatingSystem_4', 'OperatingSystem_6', 'OperatingSystem_7', 'OperatingSystem_8',\n",
    " 'Browser_1', 'Browser_2', 'Browser_3', 'Browser_4', 'Browser_5', 'Browser_6', 'Browser_7', 'Browser_8', 'Browser_10',\n",
    " 'Browser_11', 'Browser_12', 'Browser_13', 'Region_1', 'Region_2', 'Region_3', 'Region_4', 'Region_6', 'Region_7', 'Region_8', 'Region_9', \n",
    " 'TrafficType_1', 'TrafficType_2', 'TrafficType_3', 'TrafficType_4', 'TrafficType_5', 'TrafficType_6', 'TrafficType_7',\n",
    " 'TrafficType_8', 'TrafficType_9', 'TrafficType_10', 'TrafficType_11', 'TrafficType_12', 'TrafficType_13', 'TrafficType_14',\n",
    " 'TrafficType_15', 'TrafficType_16', 'TrafficType_18', 'TrafficType_19', 'TrafficType_20'])\n",
    "        fbeta1_5_list.append(fbeta_score(y_valid, model.predict(X_valid_transformed),1.5))\n",
    "        fbeta2_list.append(fbeta_score(y_valid, model.predict(X_valid_transformed),2))\n",
    "        f1_list.append(f1_score(y_valid, model.predict(X_valid_transformed)))\n",
    "        precision_list.append(precision_score(y_valid, model.predict(X_valid_transformed)))\n",
    "        recall_list.append(recall_score(y_valid, model.predict(X_valid_transformed)))\n",
    "        precision, recall, thresholds = precision_recall_curve(y_valid, model.predict(X_valid_transformed))\n",
    "        PR_AUC_list.append(auc(recall, precision))\n",
    "        ROC_AUC_train_list.append(roc_auc_score(y_subtrain, model.predict(X_subtrain_transformed)))\n",
    "        ROC_AUC_valid_list.append(roc_auc_score(y_valid, model.predict(X_valid_transformed)))\n",
    "        tn, fp, fn, tp = confusion_matrix(y_valid, model.predict(X_valid_transformed)).ravel()\n",
    "        FN_list.append(fn)\n",
    "        FP_list.append(fp)\n",
    "        TN_list.append(tn)\n",
    "        TP_list.append(tp)\n",
    "        Fit_list.append('X_subtrain_transformed, y_subtrain')\n",
    "        Predict_list.append('X_valid_transformed')\n",
    "        Feature_Importance_list.append(model.coef_)\n",
    "    \n",
    "    elif 'DummyClassifier' in str(model) or 'KNeighborsClassifier' in str(model) or 'GaussianNB' in str(model) or 'SVC' in str(model):\n",
    "        model.fit(X_subtrain,y_subtrain)\n",
    "        fbeta1_5_list.append(fbeta_score(y_valid, model.predict(X_valid),1.5))\n",
    "        fbeta2_list.append(fbeta_score(y_valid, model.predict(X_valid),2))\n",
    "        f1_list.append(f1_score(y_valid, model.predict(X_valid)))\n",
    "        precision_list.append(precision_score(y_valid, model.predict(X_valid)))\n",
    "        recall_list.append(recall_score(y_valid, model.predict(X_valid)))\n",
    "        precision, recall, thresholds = precision_recall_curve(y_valid, model.predict(X_valid))\n",
    "        PR_AUC_list.append(auc(recall, precision))\n",
    "        ROC_AUC_train_list.append(roc_auc_score(y_subtrain, model.predict(X_subtrain)))\n",
    "        ROC_AUC_valid_list.append(roc_auc_score(y_valid, model.predict(X_valid)))\n",
    "        tn, fp, fn, tp = confusion_matrix(y_valid, model.predict(X_valid)).ravel()\n",
    "        FN_list.append(fn)\n",
    "        FP_list.append(fp)\n",
    "        TN_list.append(tn)\n",
    "        TP_list.append(tp)\n",
    "        Fit_list.append('X_subtrain, y_subtrain')\n",
    "        Predict_list.append('X_valid')\n",
    "        Feature_Importance_list.append('N/A')\n",
    "        \n",
    "    else:\n",
    "        model.fit(X_subtrain,y_subtrain)\n",
    "        fbeta1_5_list.append(fbeta_score(y_valid, model.predict(X_valid),1.5))\n",
    "        fbeta2_list.append(fbeta_score(y_valid, model.predict(X_valid),2))\n",
    "        f1_list.append(f1_score(y_valid, model.predict(X_valid)))\n",
    "        precision_list.append(precision_score(y_valid, model.predict(X_valid)))\n",
    "        recall_list.append(recall_score(y_valid, model.predict(X_valid)))\n",
    "        precision, recall, thresholds = precision_recall_curve(y_valid, model.predict(X_valid))\n",
    "        PR_AUC_list.append(auc(recall, precision))\n",
    "        ROC_AUC_train_list.append(roc_auc_score(y_subtrain, model.predict(X_subtrain)))\n",
    "        ROC_AUC_valid_list.append(roc_auc_score(y_valid, model.predict(X_valid))) #technically, decision tree models should use OOB error to identify overfitting, but can't compare to other models\n",
    "        tn, fp, fn, tp = confusion_matrix(y_valid, model.predict(X_valid)).ravel()\n",
    "        FN_list.append(fn)\n",
    "        FP_list.append(fp)\n",
    "        TN_list.append(tn)\n",
    "        TP_list.append(tp)\n",
    "        Fit_list.append('X_subtrain, y_subtrain')\n",
    "        Predict_list.append('X_valid')\n",
    "        Feature_Importance_list.append(model.feature_importances_)\n",
    "        \n",
    "Model_Results['Fbeta1.5'] = fbeta1_5_list\n",
    "Model_Results['Fbeta2'] = fbeta2_list\n",
    "Model_Results['F1'] = f1_list\n",
    "Model_Results['Precision'] = precision_list\n",
    "Model_Results['Recall'] = recall_list\n",
    "Model_Results['P-R_AUC'] = PR_AUC_list\n",
    "Model_Results['ROC_AUC_train'] = ROC_AUC_train_list\n",
    "Model_Results['ROC_AUC_valid'] = ROC_AUC_valid_list   \n",
    "Model_Results['FN'] = FN_list\n",
    "Model_Results['FP'] = FP_list\n",
    "Model_Results['TN'] = TN_list\n",
    "Model_Results['TP'] = TP_list\n",
    "Model_Results['Fit'] = Fit_list\n",
    "Model_Results['Predict'] = Predict_list\n",
    "Model_Results['Feature_Importance'] = Feature_Importance_list\n",
    "Model_Results.sort_values(['FN', 'ROC_AUC_valid'], ascending=[1, 0])"
   ]
  },
  {
   "cell_type": "code",
   "execution_count": null,
   "metadata": {
    "ExecuteTime": {
     "end_time": "2019-11-12T21:40:34.989835Z",
     "start_time": "2019-11-12T21:38:17.471Z"
    }
   },
   "outputs": [],
   "source": [
    "Merge_Models = pd.concat([Model_Results, Model_Results_ROS, Model_Results_SMOTE, Model_Results_ADASYN],sort=False)\n",
    "Merge_Models.sort_values(['ROC_AUC_valid','FN'], ascending=[0,1])"
   ]
  },
  {
   "cell_type": "code",
   "execution_count": null,
   "metadata": {
    "ExecuteTime": {
     "end_time": "2019-11-12T21:40:34.991015Z",
     "start_time": "2019-11-12T21:38:17.474Z"
    }
   },
   "outputs": [],
   "source": [
    "#number of topics vs. coherence--> pick model with highest coherence"
   ]
  }
 ],
 "metadata": {
  "kernelspec": {
   "display_name": "Python [conda env:metis] *",
   "language": "python",
   "name": "conda-env-metis-py"
  },
  "language_info": {
   "codemirror_mode": {
    "name": "ipython",
    "version": 3
   },
   "file_extension": ".py",
   "mimetype": "text/x-python",
   "name": "python",
   "nbconvert_exporter": "python",
   "pygments_lexer": "ipython3",
   "version": "3.7.3"
  },
  "toc": {
   "base_numbering": 1,
   "nav_menu": {},
   "number_sections": true,
   "sideBar": true,
   "skip_h1_title": false,
   "title_cell": "Table of Contents",
   "title_sidebar": "Contents",
   "toc_cell": false,
   "toc_position": {},
   "toc_section_display": true,
   "toc_window_display": false
  }
 },
 "nbformat": 4,
 "nbformat_minor": 2
}
