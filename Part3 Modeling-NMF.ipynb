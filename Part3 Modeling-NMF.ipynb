{
 "cells": [
  {
   "cell_type": "code",
   "execution_count": 1,
   "metadata": {
    "ExecuteTime": {
     "end_time": "2019-11-12T21:38:07.115094Z",
     "start_time": "2019-11-12T21:38:04.672143Z"
    }
   },
   "outputs": [],
   "source": [
    "import pandas as pd\n",
    "import numpy as np\n",
    "import sklearn\n",
    "import gensim\n",
    "\n",
    "#Vectorizers (Word embeddings for doc-term matrix)\n",
    "from sklearn.feature_extraction.text import CountVectorizer \n",
    "from sklearn.feature_extraction.text import TfidfVectorizer\n",
    "\n",
    "#Dimensionality Reduction\n",
    "from sklearn.decomposition import TruncatedSVD #LSA\n",
    "from sklearn.decomposition import NMF\n",
    "from sklearn.metrics.pairwise import cosine_similarity\n",
    "from sklearn.decomposition import LatentDirichletAllocation as LDA\n",
    "from gensim import corpora, models, similarities, matutils #LDA\n",
    "\n",
    "#Clustering\n",
    "from sklearn.preprocessing import normalize\n",
    "from sklearn.cluster import KMeans\n",
    "# !conda install -c districtdatalabs yellowbrick\n",
    "from yellowbrick.cluster import KElbowVisualizer\n",
    "\n",
    "\n",
    "#Pipeline\n",
    "from sklearn.pipeline import Pipeline\n",
    "\n",
    "#Bayes Optimization Parameter Tuner\n",
    "from hyperopt import hp, fmin, tpe, STATUS_OK, Trials\n",
    "from sklearn.model_selection import cross_val_score\n",
    "\n",
    "#Visualization\n",
    "import matplotlib.pyplot as plt\n",
    "\n",
    "# adjectives = []\n",
    "# for sent in hp.sents:\n",
    "#     for word in sent:\n",
    "#         if 'Harry' in word.string:\n",
    "#             for child in word.children:\n",
    "#                 if child.pos_ == 'ADJ': adjectives.append(child.string.strip()) #part of speech         \n",
    "# Counter(adjectives).most_common(10)\n"
   ]
  },
  {
   "cell_type": "markdown",
   "metadata": {},
   "source": [
    "# Import Data"
   ]
  },
  {
   "cell_type": "code",
   "execution_count": 2,
   "metadata": {
    "ExecuteTime": {
     "end_time": "2019-11-12T21:38:07.533178Z",
     "start_time": "2019-11-12T21:38:07.117004Z"
    }
   },
   "outputs": [],
   "source": [
    "full_df = pd.read_pickle('full_df_preprocessed.pkl')"
   ]
  },
  {
   "cell_type": "code",
   "execution_count": 3,
   "metadata": {
    "ExecuteTime": {
     "end_time": "2019-11-12T21:38:07.564688Z",
     "start_time": "2019-11-12T21:38:07.534686Z"
    }
   },
   "outputs": [],
   "source": [
    "positive_df = full_df[full_df['sentiment']=='positive']\n",
    "negative_df = full_df[full_df['sentiment']=='negative']\n",
    "neutral_df = full_df[full_df['sentiment']=='neutral']"
   ]
  },
  {
   "cell_type": "markdown",
   "metadata": {},
   "source": [
    "# Pipeline of Vectorization, Dimensionality Reduction, and Clustering Methods"
   ]
  },
  {
   "cell_type": "code",
   "execution_count": 4,
   "metadata": {
    "ExecuteTime": {
     "end_time": "2019-11-12T21:38:07.575077Z",
     "start_time": "2019-11-12T21:38:07.566186Z"
    }
   },
   "outputs": [
    {
     "data": {
      "text/plain": [
       "lionking          20791\n",
       "aladdin           19293\n",
       "beautyandbeast     4571\n",
       "junglebook         3982\n",
       "cinderella         2875\n",
       "Name: movie, dtype: int64"
      ]
     },
     "execution_count": 4,
     "metadata": {},
     "output_type": "execute_result"
    }
   ],
   "source": [
    "full_df['movie'].value_counts()"
   ]
  },
  {
   "cell_type": "code",
   "execution_count": 5,
   "metadata": {
    "ExecuteTime": {
     "end_time": "2019-11-12T21:38:29.692292Z",
     "start_time": "2019-11-12T21:38:07.576413Z"
    }
   },
   "outputs": [
    {
     "data": {
      "text/plain": [
       "(51512, 5)"
      ]
     },
     "execution_count": 5,
     "metadata": {},
     "output_type": "execute_result"
    }
   ],
   "source": [
    "corpus = [items[1] for items in full_df['review_processed'].iteritems()]\n",
    "Pipeline_TFIDF_NMF = Pipeline([\n",
    "                ('tfidf', TfidfVectorizer(ngram_range=(1,5), min_df=0.05, stop_words=['movie','film'])),\n",
    "                ('NMF', NMF(n_components=5,random_state=10))])\n",
    "TFIDF_NMF = Pipeline_TFIDF_NMF.fit_transform(corpus)\n",
    "TFIDF_NMF.shape"
   ]
  },
  {
   "cell_type": "code",
   "execution_count": 6,
   "metadata": {
    "ExecuteTime": {
     "end_time": "2019-11-12T21:38:29.702231Z",
     "start_time": "2019-11-12T21:38:29.694699Z"
    }
   },
   "outputs": [],
   "source": [
    "def display_topics(model, feature_names, no_top_words, topic_names=None):\n",
    "    \"\"\"Function to display topics from Vectorizer after performing Vectorization and Dimensionality Reduction\"\"\"\n",
    "    for ix, topic in enumerate(model.components_):\n",
    "        if not topic_names or not topic_names[ix]:\n",
    "            print(\"\\nTopic \", ix)\n",
    "        else:\n",
    "            print(\"\\nTopic: '\",topic_names[ix],\"'\")\n",
    "        print(\", \".join([feature_names[i]\n",
    "                        for i in topic.argsort()[:-no_top_words - 1:-1]]))"
   ]
  },
  {
   "cell_type": "code",
   "execution_count": 7,
   "metadata": {
    "ExecuteTime": {
     "end_time": "2019-11-12T21:38:52.122123Z",
     "start_time": "2019-11-12T21:38:29.704963Z"
    }
   },
   "outputs": [
    {
     "name": "stdout",
     "output_type": "stream",
     "text": [
      "(51512, 58)\n",
      "\n",
      "Topic  0\n",
      "not, with, like, disney, make, feel, watch, story, character, well\n",
      "\n",
      "Topic  1\n",
      "love, amaze, kid, smith, beautiful, old, music, song, story, genie\n",
      "\n",
      "Topic  2\n",
      "great, smith, genie, job, loved, music, cast, amaze, fun, story\n",
      "\n",
      "Topic  3\n",
      "good, smith, genie, job, enjoy, think, music, act, story, fun\n",
      "\n",
      "Topic  4\n",
      "original, well, loved, remake, like, new, story, song, amaze, version\n"
     ]
    }
   ],
   "source": [
    "tfidfvec = TfidfVectorizer(ngram_range=(1,5), min_df=0.05, stop_words=['movie', 'film'])\n",
    "doc_word_tfidfvec = tfidfvec.fit_transform(corpus)\n",
    "print(doc_word_tfidfvec.shape)\n",
    "tfidfvec.get_feature_names()\n",
    "NMF_dimreduc = NMF(n_components=5,random_state=10)\n",
    "tfidfvec_NMF = NMF_dimreduc.fit_transform(doc_word_tfidfvec) \n",
    "display_topics(NMF_dimreduc, tfidfvec.get_feature_names(), 10)\n",
    "\n",
    "#Normalize before for clustering to get an approximate cosine similarity distance (instead of kmeans default of euclidean distance, which is sensitive to document/review length)\n",
    "normalized_doc_topic_nmf_tfidf = sklearn.preprocessing.normalize(TFIDF_NMF)"
   ]
  },
  {
   "cell_type": "code",
   "execution_count": 8,
   "metadata": {
    "ExecuteTime": {
     "end_time": "2019-11-12T21:38:52.132878Z",
     "start_time": "2019-11-12T21:38:52.125337Z"
    }
   },
   "outputs": [],
   "source": [
    "def display_cluster(X,km=[],num_clusters=0):\n",
    "    \"\"\"Function to display k-means clusters into 2-dimensional space\"\"\"\n",
    "    color = 'brgcmyk'\n",
    "    alpha = 0.5\n",
    "    s = 20\n",
    "    if num_clusters == 0:\n",
    "        plt.scatter(X[:,0],X[:,1],c = color[0],alpha = alpha,s = s)\n",
    "    else:\n",
    "        for i in range(num_clusters):\n",
    "            plt.scatter(X[km.labels_==i,0],X[km.labels_==i,1],c = color[i],alpha = alpha,s=s)\n",
    "            plt.scatter(km.cluster_centers_[i][0],km.cluster_centers_[i][1],c = color[i], marker = 'x', s = 100)"
   ]
  },
  {
   "cell_type": "markdown",
   "metadata": {},
   "source": [
    "Elbow Method Plot (inertia vs. number of clusters)"
   ]
  },
  {
   "cell_type": "code",
   "execution_count": 9,
   "metadata": {
    "ExecuteTime": {
     "end_time": "2019-11-12T21:39:00.879938Z",
     "start_time": "2019-11-12T21:38:52.135488Z"
    }
   },
   "outputs": [
    {
     "data": {
      "image/png": "[encoded data removed]",
      "text/plain": [
       "<Figure size 432x288 with 1 Axes>"
      ]
     },
     "metadata": {
      "needs_background": "light"
     },
     "output_type": "display_data"
    }
   ],
   "source": [
    "list_num_clusters = list(range(2,11))\n",
    "\n",
    "inertia = []\n",
    "\n",
    "for num_clusters in list_num_clusters:\n",
    "    km = KMeans(n_clusters=num_clusters, random_state=10, init='k-means++')\n",
    "    km.fit_predict(normalized_doc_topic_nmf_tfidf)\n",
    "    inertia.append(km.inertia_)\n",
    "    \n",
    "plt.plot(list_num_clusters,inertia)\n",
    "plt.scatter(list_num_clusters,inertia)\n",
    "plt.xlabel('Number of Clusters')\n",
    "plt.ylabel('Inertia');\n",
    "\n",
    "\n",
    "#center: 4 docs closest --> cosine similarity"
   ]
  },
  {
   "cell_type": "code",
   "execution_count": 10,
   "metadata": {
    "ExecuteTime": {
     "end_time": "2019-11-12T21:39:11.208673Z",
     "start_time": "2019-11-12T21:39:00.881311Z"
    }
   },
   "outputs": [
    {
     "data": {
      "image/png": "[encoded data removed]",
      "text/plain": [
       "<Figure size 432x288 with 2 Axes>"
      ]
     },
     "metadata": {},
     "output_type": "display_data"
    }
   ],
   "source": [
    "# Instantiate the clustering model and visualizer\n",
    "visualizer = KElbowVisualizer(km, k=(2,12))\n",
    "\n",
    "visualizer.fit(normalized_doc_topic_nmf_tfidf)        # Fit the data to the visualizer\n",
    "visualizer.show()  # Finalize and render the figure\n",
    "elbow_full = visualizer.elbow_value_"
   ]
  },
  {
   "cell_type": "code",
   "execution_count": 11,
   "metadata": {
    "ExecuteTime": {
     "end_time": "2019-11-12T21:39:11.595214Z",
     "start_time": "2019-11-12T21:39:11.210607Z"
    }
   },
   "outputs": [
    {
     "data": {
      "image/png": "[encoded data removed]",
      "text/plain": [
       "<Figure size 432x288 with 1 Axes>"
      ]
     },
     "metadata": {
      "needs_background": "light"
     },
     "output_type": "display_data"
    }
   ],
   "source": [
    "display_cluster(normalized_doc_topic_nmf_tfidf, km, elbow_full)"
   ]
  },
  {
   "cell_type": "code",
   "execution_count": 12,
   "metadata": {
    "ExecuteTime": {
     "end_time": "2019-11-12T21:39:12.228711Z",
     "start_time": "2019-11-12T21:39:11.597113Z"
    }
   },
   "outputs": [],
   "source": [
    "\n",
    "km = KMeans(n_clusters=elbow_full, random_state=10, init='k-means++')\n",
    "km.fit_predict(normalized_doc_topic_nmf_tfidf)\n",
    "full_df['cluster'] = km.labels_"
   ]
  },
  {
   "cell_type": "code",
   "execution_count": 13,
   "metadata": {
    "ExecuteTime": {
     "end_time": "2019-11-12T21:39:12.263831Z",
     "start_time": "2019-11-12T21:39:12.230520Z"
    }
   },
   "outputs": [
    {
     "data": {
      "text/html": [
       "<div>\n",
       "<style scoped>\n",
       "    .dataframe tbody tr th:only-of-type {\n",
       "        vertical-align: middle;\n",
       "    }\n",
       "\n",
       "    .dataframe tbody tr th {\n",
       "        vertical-align: top;\n",
       "    }\n",
       "\n",
       "    .dataframe thead th {\n",
       "        text-align: right;\n",
       "    }\n",
       "</style>\n",
       "<table border=\"1\" class=\"dataframe\">\n",
       "  <thead>\n",
       "    <tr style=\"text-align: right;\">\n",
       "      <th></th>\n",
       "      <th>review_text</th>\n",
       "      <th>movie</th>\n",
       "      <th>review_site</th>\n",
       "      <th>rating</th>\n",
       "      <th>sentiment</th>\n",
       "      <th>review_tokens</th>\n",
       "      <th>review_processed</th>\n",
       "      <th>cluster</th>\n",
       "    </tr>\n",
       "  </thead>\n",
       "  <tbody>\n",
       "    <tr>\n",
       "      <td>0</td>\n",
       "      <td>Disney, WHAT. HAVE. YOU. DONE Just to be clea...</td>\n",
       "      <td>lionking</td>\n",
       "      <td>imdb</td>\n",
       "      <td>1</td>\n",
       "      <td>negative</td>\n",
       "      <td>[disney, clear, time, favorite, movie, not, st...</td>\n",
       "      <td>disney clear time favorite movie not stress en...</td>\n",
       "      <td>1</td>\n",
       "    </tr>\n",
       "    <tr>\n",
       "      <td>1</td>\n",
       "      <td>No soul. The original Lion King is one of my ...</td>\n",
       "      <td>lionking</td>\n",
       "      <td>imdb</td>\n",
       "      <td>1</td>\n",
       "      <td>negative</td>\n",
       "      <td>[no, soul, original, lion, king, favorite, mov...</td>\n",
       "      <td>no soul original lion king favorite movie time...</td>\n",
       "      <td>3</td>\n",
       "    </tr>\n",
       "    <tr>\n",
       "      <td>5</td>\n",
       "      <td>Seriously? So anyone else notice it has a hig...</td>\n",
       "      <td>lionking</td>\n",
       "      <td>imdb</td>\n",
       "      <td>1</td>\n",
       "      <td>negative</td>\n",
       "      <td>[seriously, notice, high, score, 7.5, rating, ...</td>\n",
       "      <td>seriously notice high score 7.5 rating not str...</td>\n",
       "      <td>1</td>\n",
       "    </tr>\n",
       "    <tr>\n",
       "      <td>6</td>\n",
       "      <td>Overrated and way too much spotlight on beyon...</td>\n",
       "      <td>lionking</td>\n",
       "      <td>imdb</td>\n",
       "      <td>1</td>\n",
       "      <td>negative</td>\n",
       "      <td>[overrated, way, spotlight, beyonce, lion, kin...</td>\n",
       "      <td>overrated way spotlight beyonce lion king only...</td>\n",
       "      <td>1</td>\n",
       "    </tr>\n",
       "    <tr>\n",
       "      <td>8</td>\n",
       "      <td>Terrible acting!! Doesn't compare to the orig...</td>\n",
       "      <td>lionking</td>\n",
       "      <td>imdb</td>\n",
       "      <td>1</td>\n",
       "      <td>negative</td>\n",
       "      <td>[terrible, act, not, compare, original, love, ...</td>\n",
       "      <td>terrible act not compare original love origina...</td>\n",
       "      <td>1</td>\n",
       "    </tr>\n",
       "    <tr>\n",
       "      <td>...</td>\n",
       "      <td>...</td>\n",
       "      <td>...</td>\n",
       "      <td>...</td>\n",
       "      <td>...</td>\n",
       "      <td>...</td>\n",
       "      <td>...</td>\n",
       "      <td>...</td>\n",
       "      <td>...</td>\n",
       "    </tr>\n",
       "    <tr>\n",
       "      <td>3040</td>\n",
       "      <td>A magically wonderful film filled with adventu...</td>\n",
       "      <td>cinderella</td>\n",
       "      <td>rottentomatoes</td>\n",
       "      <td>5</td>\n",
       "      <td>positive</td>\n",
       "      <td>[magically, wonderful, film, fill, with, adven...</td>\n",
       "      <td>magically wonderful film fill with adventure f...</td>\n",
       "      <td>1</td>\n",
       "    </tr>\n",
       "    <tr>\n",
       "      <td>3041</td>\n",
       "      <td>Disney has overdid the faithfulness of their o...</td>\n",
       "      <td>cinderella</td>\n",
       "      <td>rottentomatoes</td>\n",
       "      <td>4</td>\n",
       "      <td>positive</td>\n",
       "      <td>[disney, overdo, faithfulness, animate, classi...</td>\n",
       "      <td>disney overdo faithfulness animate classic pro...</td>\n",
       "      <td>1</td>\n",
       "    </tr>\n",
       "    <tr>\n",
       "      <td>3042</td>\n",
       "      <td>Magic....that's about right. A re-tell of the ...</td>\n",
       "      <td>cinderella</td>\n",
       "      <td>rottentomatoes</td>\n",
       "      <td>4</td>\n",
       "      <td>positive</td>\n",
       "      <td>[magic, ...., right, tell, original, disney, m...</td>\n",
       "      <td>magic .... right tell original disney movie wi...</td>\n",
       "      <td>3</td>\n",
       "    </tr>\n",
       "    <tr>\n",
       "      <td>3043</td>\n",
       "      <td>A good movie that sets it apart from the origi...</td>\n",
       "      <td>cinderella</td>\n",
       "      <td>rottentomatoes</td>\n",
       "      <td>4</td>\n",
       "      <td>positive</td>\n",
       "      <td>[good, movie, set, apart, original, story, cin...</td>\n",
       "      <td>good movie set apart original story cinderella...</td>\n",
       "      <td>4</td>\n",
       "    </tr>\n",
       "    <tr>\n",
       "      <td>3044</td>\n",
       "      <td>It's the Cinderella you know but it's really d...</td>\n",
       "      <td>cinderella</td>\n",
       "      <td>rottentomatoes</td>\n",
       "      <td>4</td>\n",
       "      <td>positive</td>\n",
       "      <td>[cinderella, know, delightfully, charm]</td>\n",
       "      <td>cinderella know delightfully charm</td>\n",
       "      <td>0</td>\n",
       "    </tr>\n",
       "  </tbody>\n",
       "</table>\n",
       "<p>51512 rows × 8 columns</p>\n",
       "</div>"
      ],
      "text/plain": [
       "                                            review_text       movie  \\\n",
       "0      Disney, WHAT. HAVE. YOU. DONE Just to be clea...    lionking   \n",
       "1      No soul. The original Lion King is one of my ...    lionking   \n",
       "5      Seriously? So anyone else notice it has a hig...    lionking   \n",
       "6      Overrated and way too much spotlight on beyon...    lionking   \n",
       "8      Terrible acting!! Doesn't compare to the orig...    lionking   \n",
       "...                                                 ...         ...   \n",
       "3040  A magically wonderful film filled with adventu...  cinderella   \n",
       "3041  Disney has overdid the faithfulness of their o...  cinderella   \n",
       "3042  Magic....that's about right. A re-tell of the ...  cinderella   \n",
       "3043  A good movie that sets it apart from the origi...  cinderella   \n",
       "3044  It's the Cinderella you know but it's really d...  cinderella   \n",
       "\n",
       "         review_site  rating sentiment  \\\n",
       "0               imdb       1  negative   \n",
       "1               imdb       1  negative   \n",
       "5               imdb       1  negative   \n",
       "6               imdb       1  negative   \n",
       "8               imdb       1  negative   \n",
       "...              ...     ...       ...   \n",
       "3040  rottentomatoes       5  positive   \n",
       "3041  rottentomatoes       4  positive   \n",
       "3042  rottentomatoes       4  positive   \n",
       "3043  rottentomatoes       4  positive   \n",
       "3044  rottentomatoes       4  positive   \n",
       "\n",
       "                                          review_tokens  \\\n",
       "0     [disney, clear, time, favorite, movie, not, st...   \n",
       "1     [no, soul, original, lion, king, favorite, mov...   \n",
       "5     [seriously, notice, high, score, 7.5, rating, ...   \n",
       "6     [overrated, way, spotlight, beyonce, lion, kin...   \n",
       "8     [terrible, act, not, compare, original, love, ...   \n",
       "...                                                 ...   \n",
       "3040  [magically, wonderful, film, fill, with, adven...   \n",
       "3041  [disney, overdo, faithfulness, animate, classi...   \n",
       "3042  [magic, ...., right, tell, original, disney, m...   \n",
       "3043  [good, movie, set, apart, original, story, cin...   \n",
       "3044            [cinderella, know, delightfully, charm]   \n",
       "\n",
       "                                       review_processed  cluster  \n",
       "0     disney clear time favorite movie not stress en...        1  \n",
       "1     no soul original lion king favorite movie time...        3  \n",
       "5     seriously notice high score 7.5 rating not str...        1  \n",
       "6     overrated way spotlight beyonce lion king only...        1  \n",
       "8     terrible act not compare original love origina...        1  \n",
       "...                                                 ...      ...  \n",
       "3040  magically wonderful film fill with adventure f...        1  \n",
       "3041  disney overdo faithfulness animate classic pro...        1  \n",
       "3042  magic .... right tell original disney movie wi...        3  \n",
       "3043  good movie set apart original story cinderella...        4  \n",
       "3044                 cinderella know delightfully charm        0  \n",
       "\n",
       "[51512 rows x 8 columns]"
      ]
     },
     "execution_count": 13,
     "metadata": {},
     "output_type": "execute_result"
    }
   ],
   "source": [
    "full_df"
   ]
  },
  {
   "cell_type": "code",
   "execution_count": 14,
   "metadata": {
    "ExecuteTime": {
     "end_time": "2019-11-12T21:39:12.275779Z",
     "start_time": "2019-11-12T21:39:12.266561Z"
    }
   },
   "outputs": [
    {
     "data": {
      "text/plain": [
       "1    16509\n",
       "3    10495\n",
       "0     9660\n",
       "2     9195\n",
       "4     5653\n",
       "Name: cluster, dtype: int64"
      ]
     },
     "execution_count": 14,
     "metadata": {},
     "output_type": "execute_result"
    }
   ],
   "source": [
    "full_df['cluster'].value_counts()"
   ]
  },
  {
   "cell_type": "code",
   "execution_count": 15,
   "metadata": {
    "ExecuteTime": {
     "end_time": "2019-11-12T21:39:31.428969Z",
     "start_time": "2019-11-12T21:39:12.278010Z"
    }
   },
   "outputs": [
    {
     "name": "stdout",
     "output_type": "stream",
     "text": [
      "(51512, 58)\n",
      "(51512, 5)\n",
      "\n",
      "Topic  0\n",
      "not, with, like, disney, make, feel, watch, story, character, well\n",
      "\n",
      "Topic  1\n",
      "love, amaze, kid, smith, beautiful, old, music, song, story, genie\n",
      "\n",
      "Topic  2\n",
      "great, smith, genie, job, loved, music, cast, amaze, fun, story\n",
      "\n",
      "Topic  3\n",
      "good, smith, genie, job, enjoy, think, music, act, story, fun\n",
      "\n",
      "Topic  4\n",
      "original, well, loved, remake, like, new, story, song, amaze, version\n"
     ]
    }
   ],
   "source": [
    "corpus = [items[1] for items in full_df['review_processed'].iteritems()]\n",
    "\n",
    "tfidfvec = TfidfVectorizer(ngram_range=(1,5), min_df=0.05, stop_words=['movie', 'film'])\n",
    "doc_word_tfidfvec = tfidfvec.fit_transform(corpus)\n",
    "print(doc_word_tfidfvec.shape)\n",
    "tfidfvec.get_feature_names()\n",
    "NMF_dimreduc = NMF(n_components=5,random_state=10)\n",
    "tfidfvec_NMF = NMF_dimreduc.fit_transform(doc_word_tfidfvec) \n",
    "print(tfidfvec_NMF.shape)\n",
    "display_topics(NMF_dimreduc, tfidfvec.get_feature_names(), 10)"
   ]
  },
  {
   "cell_type": "code",
   "execution_count": 16,
   "metadata": {
    "ExecuteTime": {
     "end_time": "2019-11-12T21:39:31.921306Z",
     "start_time": "2019-11-12T21:39:31.431117Z"
    }
   },
   "outputs": [
    {
     "data": {
      "image/png": "[encoded data removed]",
      "text/plain": [
       "<Figure size 432x288 with 1 Axes>"
      ]
     },
     "metadata": {
      "needs_background": "light"
     },
     "output_type": "display_data"
    }
   ],
   "source": [
    "display_cluster(tfidfvec_NMF, km, elbow_full)"
   ]
  },
  {
   "cell_type": "markdown",
   "metadata": {},
   "source": [
    "# Positive Reviews"
   ]
  },
  {
   "cell_type": "code",
   "execution_count": 18,
   "metadata": {
    "ExecuteTime": {
     "end_time": "2019-11-12T21:39:45.606338Z",
     "start_time": "2019-11-12T21:39:33.559063Z"
    }
   },
   "outputs": [],
   "source": [
    "positive_df = full_df[full_df['sentiment']=='positive']\n",
    "\n",
    "\n",
    "positive_corpus = [items[1] for items in positive_df['review_processed'].iteritems()]\n",
    "Pipeline_TFIDF_NMF = Pipeline([\n",
    "                ('tfidf', TfidfVectorizer(ngram_range=(1,5), min_df=0.05, stop_words=['movie','film'])),\n",
    "                ('NMF', NMF(n_components=5,random_state=10))])\n",
    "TFIDF_NMF_positive = Pipeline_TFIDF_NMF.fit_transform(positive_corpus)"
   ]
  },
  {
   "cell_type": "code",
   "execution_count": 19,
   "metadata": {
    "ExecuteTime": {
     "end_time": "2019-11-12T21:39:45.611946Z",
     "start_time": "2019-11-12T21:39:45.607820Z"
    }
   },
   "outputs": [],
   "source": [
    "normalized_doc_topic_nmf_tfidf_pos = sklearn.preprocessing.normalize(TFIDF_NMF_positive)"
   ]
  },
  {
   "cell_type": "code",
   "execution_count": 20,
   "metadata": {
    "ExecuteTime": {
     "end_time": "2019-11-12T21:39:51.441265Z",
     "start_time": "2019-11-12T21:39:45.613387Z"
    }
   },
   "outputs": [
    {
     "data": {
      "image/png": "[encoded data removed]",
      "text/plain": [
       "<Figure size 432x288 with 2 Axes>"
      ]
     },
     "metadata": {},
     "output_type": "display_data"
    }
   ],
   "source": [
    "visualizer = KElbowVisualizer(km, k=(2,12))\n",
    "\n",
    "visualizer.fit(normalized_doc_topic_nmf_tfidf_pos)        # Fit the data to the visualizer\n",
    "visualizer.show()  # Finalize and render the figure\n",
    "elbow_pos = visualizer.elbow_value_"
   ]
  },
  {
   "cell_type": "code",
   "execution_count": 21,
   "metadata": {
    "ExecuteTime": {
     "end_time": "2019-11-12T21:39:51.876722Z",
     "start_time": "2019-11-12T21:39:51.442781Z"
    }
   },
   "outputs": [
    {
     "name": "stderr",
     "output_type": "stream",
     "text": [
      "/Users/kristentokunaga/anaconda3/envs/metis/lib/python3.7/site-packages/ipykernel_launcher.py:3: SettingWithCopyWarning: \n",
      "A value is trying to be set on a copy of a slice from a DataFrame.\n",
      "Try using .loc[row_indexer,col_indexer] = value instead\n",
      "\n",
      "See the caveats in the documentation: http://pandas.pydata.org/pandas-docs/stable/user_guide/indexing.html#returning-a-view-versus-a-copy\n",
      "  This is separate from the ipykernel package so we can avoid doing imports until\n"
     ]
    },
    {
     "data": {
      "text/html": [
       "<div>\n",
       "<style scoped>\n",
       "    .dataframe tbody tr th:only-of-type {\n",
       "        vertical-align: middle;\n",
       "    }\n",
       "\n",
       "    .dataframe tbody tr th {\n",
       "        vertical-align: top;\n",
       "    }\n",
       "\n",
       "    .dataframe thead th {\n",
       "        text-align: right;\n",
       "    }\n",
       "</style>\n",
       "<table border=\"1\" class=\"dataframe\">\n",
       "  <thead>\n",
       "    <tr style=\"text-align: right;\">\n",
       "      <th></th>\n",
       "      <th>review_text</th>\n",
       "      <th>movie</th>\n",
       "      <th>review_site</th>\n",
       "      <th>rating</th>\n",
       "      <th>sentiment</th>\n",
       "      <th>review_tokens</th>\n",
       "      <th>review_processed</th>\n",
       "      <th>cluster</th>\n",
       "    </tr>\n",
       "  </thead>\n",
       "  <tbody>\n",
       "    <tr>\n",
       "      <td>260</td>\n",
       "      <td>Wonderful Animal Movie 2019 Rating 9.1/10This...</td>\n",
       "      <td>lionking</td>\n",
       "      <td>imdb</td>\n",
       "      <td>9</td>\n",
       "      <td>positive</td>\n",
       "      <td>[wonderful, animal, movie, 2019, rating, 9.1/1...</td>\n",
       "      <td>wonderful animal movie 2019 rating 9.1/10this ...</td>\n",
       "      <td>2</td>\n",
       "    </tr>\n",
       "    <tr>\n",
       "      <td>381</td>\n",
       "      <td>Don't listen to the Critics!!! This movie is ...</td>\n",
       "      <td>lionking</td>\n",
       "      <td>imdb</td>\n",
       "      <td>10</td>\n",
       "      <td>positive</td>\n",
       "      <td>[not, listen, critics, movie, amazing, imagery...</td>\n",
       "      <td>not listen critics movie amazing imagery color...</td>\n",
       "      <td>0</td>\n",
       "    </tr>\n",
       "    <tr>\n",
       "      <td>469</td>\n",
       "      <td>Great movie The lion king is propably the bes...</td>\n",
       "      <td>lionking</td>\n",
       "      <td>imdb</td>\n",
       "      <td>7</td>\n",
       "      <td>positive</td>\n",
       "      <td>[great, movie, lion, king, propably, well, liv...</td>\n",
       "      <td>great movie lion king propably well live actio...</td>\n",
       "      <td>2</td>\n",
       "    </tr>\n",
       "    <tr>\n",
       "      <td>470</td>\n",
       "      <td>Best remake for sure! Don't listen to any cri...</td>\n",
       "      <td>lionking</td>\n",
       "      <td>imdb</td>\n",
       "      <td>10</td>\n",
       "      <td>positive</td>\n",
       "      <td>[best, remake, sure, not, listen, critic, peop...</td>\n",
       "      <td>best remake sure not listen critic people like...</td>\n",
       "      <td>3</td>\n",
       "    </tr>\n",
       "    <tr>\n",
       "      <td>486</td>\n",
       "      <td>Timon and Pumba save the world If I'm being h...</td>\n",
       "      <td>lionking</td>\n",
       "      <td>imdb</td>\n",
       "      <td>7</td>\n",
       "      <td>positive</td>\n",
       "      <td>[timon, pumba, save, world, honest, well, timo...</td>\n",
       "      <td>timon pumba save world honest well timon pumba...</td>\n",
       "      <td>1</td>\n",
       "    </tr>\n",
       "    <tr>\n",
       "      <td>...</td>\n",
       "      <td>...</td>\n",
       "      <td>...</td>\n",
       "      <td>...</td>\n",
       "      <td>...</td>\n",
       "      <td>...</td>\n",
       "      <td>...</td>\n",
       "      <td>...</td>\n",
       "      <td>...</td>\n",
       "    </tr>\n",
       "    <tr>\n",
       "      <td>3040</td>\n",
       "      <td>A magically wonderful film filled with adventu...</td>\n",
       "      <td>cinderella</td>\n",
       "      <td>rottentomatoes</td>\n",
       "      <td>5</td>\n",
       "      <td>positive</td>\n",
       "      <td>[magically, wonderful, film, fill, with, adven...</td>\n",
       "      <td>magically wonderful film fill with adventure f...</td>\n",
       "      <td>0</td>\n",
       "    </tr>\n",
       "    <tr>\n",
       "      <td>3041</td>\n",
       "      <td>Disney has overdid the faithfulness of their o...</td>\n",
       "      <td>cinderella</td>\n",
       "      <td>rottentomatoes</td>\n",
       "      <td>4</td>\n",
       "      <td>positive</td>\n",
       "      <td>[disney, overdo, faithfulness, animate, classi...</td>\n",
       "      <td>disney overdo faithfulness animate classic pro...</td>\n",
       "      <td>0</td>\n",
       "    </tr>\n",
       "    <tr>\n",
       "      <td>3042</td>\n",
       "      <td>Magic....that's about right. A re-tell of the ...</td>\n",
       "      <td>cinderella</td>\n",
       "      <td>rottentomatoes</td>\n",
       "      <td>4</td>\n",
       "      <td>positive</td>\n",
       "      <td>[magic, ...., right, tell, original, disney, m...</td>\n",
       "      <td>magic .... right tell original disney movie wi...</td>\n",
       "      <td>1</td>\n",
       "    </tr>\n",
       "    <tr>\n",
       "      <td>3043</td>\n",
       "      <td>A good movie that sets it apart from the origi...</td>\n",
       "      <td>cinderella</td>\n",
       "      <td>rottentomatoes</td>\n",
       "      <td>4</td>\n",
       "      <td>positive</td>\n",
       "      <td>[good, movie, set, apart, original, story, cin...</td>\n",
       "      <td>good movie set apart original story cinderella...</td>\n",
       "      <td>1</td>\n",
       "    </tr>\n",
       "    <tr>\n",
       "      <td>3044</td>\n",
       "      <td>It's the Cinderella you know but it's really d...</td>\n",
       "      <td>cinderella</td>\n",
       "      <td>rottentomatoes</td>\n",
       "      <td>4</td>\n",
       "      <td>positive</td>\n",
       "      <td>[cinderella, know, delightfully, charm]</td>\n",
       "      <td>cinderella know delightfully charm</td>\n",
       "      <td>3</td>\n",
       "    </tr>\n",
       "  </tbody>\n",
       "</table>\n",
       "<p>38656 rows × 8 columns</p>\n",
       "</div>"
      ],
      "text/plain": [
       "                                            review_text       movie  \\\n",
       "260    Wonderful Animal Movie 2019 Rating 9.1/10This...    lionking   \n",
       "381    Don't listen to the Critics!!! This movie is ...    lionking   \n",
       "469    Great movie The lion king is propably the bes...    lionking   \n",
       "470    Best remake for sure! Don't listen to any cri...    lionking   \n",
       "486    Timon and Pumba save the world If I'm being h...    lionking   \n",
       "...                                                 ...         ...   \n",
       "3040  A magically wonderful film filled with adventu...  cinderella   \n",
       "3041  Disney has overdid the faithfulness of their o...  cinderella   \n",
       "3042  Magic....that's about right. A re-tell of the ...  cinderella   \n",
       "3043  A good movie that sets it apart from the origi...  cinderella   \n",
       "3044  It's the Cinderella you know but it's really d...  cinderella   \n",
       "\n",
       "         review_site  rating sentiment  \\\n",
       "260             imdb       9  positive   \n",
       "381             imdb      10  positive   \n",
       "469             imdb       7  positive   \n",
       "470             imdb      10  positive   \n",
       "486             imdb       7  positive   \n",
       "...              ...     ...       ...   \n",
       "3040  rottentomatoes       5  positive   \n",
       "3041  rottentomatoes       4  positive   \n",
       "3042  rottentomatoes       4  positive   \n",
       "3043  rottentomatoes       4  positive   \n",
       "3044  rottentomatoes       4  positive   \n",
       "\n",
       "                                          review_tokens  \\\n",
       "260   [wonderful, animal, movie, 2019, rating, 9.1/1...   \n",
       "381   [not, listen, critics, movie, amazing, imagery...   \n",
       "469   [great, movie, lion, king, propably, well, liv...   \n",
       "470   [best, remake, sure, not, listen, critic, peop...   \n",
       "486   [timon, pumba, save, world, honest, well, timo...   \n",
       "...                                                 ...   \n",
       "3040  [magically, wonderful, film, fill, with, adven...   \n",
       "3041  [disney, overdo, faithfulness, animate, classi...   \n",
       "3042  [magic, ...., right, tell, original, disney, m...   \n",
       "3043  [good, movie, set, apart, original, story, cin...   \n",
       "3044            [cinderella, know, delightfully, charm]   \n",
       "\n",
       "                                       review_processed  cluster  \n",
       "260   wonderful animal movie 2019 rating 9.1/10this ...        2  \n",
       "381   not listen critics movie amazing imagery color...        0  \n",
       "469   great movie lion king propably well live actio...        2  \n",
       "470   best remake sure not listen critic people like...        3  \n",
       "486   timon pumba save world honest well timon pumba...        1  \n",
       "...                                                 ...      ...  \n",
       "3040  magically wonderful film fill with adventure f...        0  \n",
       "3041  disney overdo faithfulness animate classic pro...        0  \n",
       "3042  magic .... right tell original disney movie wi...        1  \n",
       "3043  good movie set apart original story cinderella...        1  \n",
       "3044                 cinderella know delightfully charm        3  \n",
       "\n",
       "[38656 rows x 8 columns]"
      ]
     },
     "execution_count": 21,
     "metadata": {},
     "output_type": "execute_result"
    }
   ],
   "source": [
    "km = KMeans(n_clusters=elbow_pos, random_state=10, init='k-means++')\n",
    "km.fit_predict(normalized_doc_topic_nmf_tfidf_pos)\n",
    "positive_df['cluster'] = km.labels_\n",
    "positive_df"
   ]
  },
  {
   "cell_type": "code",
   "execution_count": 22,
   "metadata": {
    "ExecuteTime": {
     "end_time": "2019-11-12T21:39:51.886698Z",
     "start_time": "2019-11-12T21:39:51.878971Z"
    }
   },
   "outputs": [
    {
     "data": {
      "text/plain": [
       "0    13141\n",
       "3     6994\n",
       "1     6176\n",
       "2     6173\n",
       "4     6172\n",
       "Name: cluster, dtype: int64"
      ]
     },
     "execution_count": 22,
     "metadata": {},
     "output_type": "execute_result"
    }
   ],
   "source": [
    "positive_df['cluster'].value_counts()"
   ]
  },
  {
   "cell_type": "code",
   "execution_count": 23,
   "metadata": {
    "ExecuteTime": {
     "end_time": "2019-11-12T21:39:51.917278Z",
     "start_time": "2019-11-12T21:39:51.891368Z"
    }
   },
   "outputs": [
    {
     "data": {
      "text/html": [
       "<div>\n",
       "<style scoped>\n",
       "    .dataframe tbody tr th:only-of-type {\n",
       "        vertical-align: middle;\n",
       "    }\n",
       "\n",
       "    .dataframe tbody tr th {\n",
       "        vertical-align: top;\n",
       "    }\n",
       "\n",
       "    .dataframe thead th {\n",
       "        text-align: right;\n",
       "    }\n",
       "</style>\n",
       "<table border=\"1\" class=\"dataframe\">\n",
       "  <thead>\n",
       "    <tr style=\"text-align: right;\">\n",
       "      <th></th>\n",
       "      <th>review_text</th>\n",
       "      <th>movie</th>\n",
       "      <th>review_site</th>\n",
       "      <th>rating</th>\n",
       "      <th>sentiment</th>\n",
       "      <th>review_tokens</th>\n",
       "      <th>review_processed</th>\n",
       "      <th>cluster</th>\n",
       "    </tr>\n",
       "  </thead>\n",
       "  <tbody>\n",
       "    <tr>\n",
       "      <td>486</td>\n",
       "      <td>Timon and Pumba save the world If I'm being h...</td>\n",
       "      <td>lionking</td>\n",
       "      <td>imdb</td>\n",
       "      <td>7</td>\n",
       "      <td>positive</td>\n",
       "      <td>[timon, pumba, save, world, honest, well, timo...</td>\n",
       "      <td>timon pumba save world honest well timon pumba...</td>\n",
       "      <td>1</td>\n",
       "    </tr>\n",
       "    <tr>\n",
       "      <td>500</td>\n",
       "      <td>Remind me of the old times If I hadn't watche...</td>\n",
       "      <td>lionking</td>\n",
       "      <td>imdb</td>\n",
       "      <td>9</td>\n",
       "      <td>positive</td>\n",
       "      <td>[remind, old, time, not, watch, original, movi...</td>\n",
       "      <td>remind old time not watch original movie easil...</td>\n",
       "      <td>1</td>\n",
       "    </tr>\n",
       "    <tr>\n",
       "      <td>615</td>\n",
       "      <td>Nostalgic So much emotions and sensations whe...</td>\n",
       "      <td>lionking</td>\n",
       "      <td>imdb</td>\n",
       "      <td>10</td>\n",
       "      <td>positive</td>\n",
       "      <td>[nostalgic, emotion, sensation, movie, childho...</td>\n",
       "      <td>nostalgic emotion sensation movie childhood un...</td>\n",
       "      <td>1</td>\n",
       "    </tr>\n",
       "    <tr>\n",
       "      <td>617</td>\n",
       "      <td>Great movie BUT.. I felt that I'm watching so...</td>\n",
       "      <td>lionking</td>\n",
       "      <td>imdb</td>\n",
       "      <td>10</td>\n",
       "      <td>positive</td>\n",
       "      <td>[great, movie, .., feel, watch, good, graphic]</td>\n",
       "      <td>great movie .. feel watch good graphic</td>\n",
       "      <td>1</td>\n",
       "    </tr>\n",
       "    <tr>\n",
       "      <td>629</td>\n",
       "      <td>It Was Awesome! You guys need to watch it. Re...</td>\n",
       "      <td>lionking</td>\n",
       "      <td>imdb</td>\n",
       "      <td>10</td>\n",
       "      <td>positive</td>\n",
       "      <td>[awesome, guy, need, watch, good, lil, improve...</td>\n",
       "      <td>awesome guy need watch good lil improve not ma...</td>\n",
       "      <td>1</td>\n",
       "    </tr>\n",
       "    <tr>\n",
       "      <td>...</td>\n",
       "      <td>...</td>\n",
       "      <td>...</td>\n",
       "      <td>...</td>\n",
       "      <td>...</td>\n",
       "      <td>...</td>\n",
       "      <td>...</td>\n",
       "      <td>...</td>\n",
       "      <td>...</td>\n",
       "    </tr>\n",
       "    <tr>\n",
       "      <td>3025</td>\n",
       "      <td>Gorgeous costumes, beautiful performances. Ken...</td>\n",
       "      <td>cinderella</td>\n",
       "      <td>rottentomatoes</td>\n",
       "      <td>5</td>\n",
       "      <td>positive</td>\n",
       "      <td>[gorgeous, costume, beautiful, performance, ke...</td>\n",
       "      <td>gorgeous costume beautiful performance kenneth...</td>\n",
       "      <td>1</td>\n",
       "    </tr>\n",
       "    <tr>\n",
       "      <td>3028</td>\n",
       "      <td>A really good adaption that doesn't go dark an...</td>\n",
       "      <td>cinderella</td>\n",
       "      <td>rottentomatoes</td>\n",
       "      <td>4</td>\n",
       "      <td>positive</td>\n",
       "      <td>[good, adaption, not, go, dark, gritty, old, f...</td>\n",
       "      <td>good adaption not go dark gritty old fashion s...</td>\n",
       "      <td>1</td>\n",
       "    </tr>\n",
       "    <tr>\n",
       "      <td>3029</td>\n",
       "      <td>A great live-action Disney take on Cinderella ...</td>\n",
       "      <td>cinderella</td>\n",
       "      <td>rottentomatoes</td>\n",
       "      <td>4</td>\n",
       "      <td>positive</td>\n",
       "      <td>[great, live, action, disney, cinderella, make...</td>\n",
       "      <td>great live action disney cinderella make good ...</td>\n",
       "      <td>1</td>\n",
       "    </tr>\n",
       "    <tr>\n",
       "      <td>3042</td>\n",
       "      <td>Magic....that's about right. A re-tell of the ...</td>\n",
       "      <td>cinderella</td>\n",
       "      <td>rottentomatoes</td>\n",
       "      <td>4</td>\n",
       "      <td>positive</td>\n",
       "      <td>[magic, ...., right, tell, original, disney, m...</td>\n",
       "      <td>magic .... right tell original disney movie wi...</td>\n",
       "      <td>1</td>\n",
       "    </tr>\n",
       "    <tr>\n",
       "      <td>3043</td>\n",
       "      <td>A good movie that sets it apart from the origi...</td>\n",
       "      <td>cinderella</td>\n",
       "      <td>rottentomatoes</td>\n",
       "      <td>4</td>\n",
       "      <td>positive</td>\n",
       "      <td>[good, movie, set, apart, original, story, cin...</td>\n",
       "      <td>good movie set apart original story cinderella...</td>\n",
       "      <td>1</td>\n",
       "    </tr>\n",
       "  </tbody>\n",
       "</table>\n",
       "<p>6176 rows × 8 columns</p>\n",
       "</div>"
      ],
      "text/plain": [
       "                                            review_text       movie  \\\n",
       "486    Timon and Pumba save the world If I'm being h...    lionking   \n",
       "500    Remind me of the old times If I hadn't watche...    lionking   \n",
       "615    Nostalgic So much emotions and sensations whe...    lionking   \n",
       "617    Great movie BUT.. I felt that I'm watching so...    lionking   \n",
       "629    It Was Awesome! You guys need to watch it. Re...    lionking   \n",
       "...                                                 ...         ...   \n",
       "3025  Gorgeous costumes, beautiful performances. Ken...  cinderella   \n",
       "3028  A really good adaption that doesn't go dark an...  cinderella   \n",
       "3029  A great live-action Disney take on Cinderella ...  cinderella   \n",
       "3042  Magic....that's about right. A re-tell of the ...  cinderella   \n",
       "3043  A good movie that sets it apart from the origi...  cinderella   \n",
       "\n",
       "         review_site  rating sentiment  \\\n",
       "486             imdb       7  positive   \n",
       "500             imdb       9  positive   \n",
       "615             imdb      10  positive   \n",
       "617             imdb      10  positive   \n",
       "629             imdb      10  positive   \n",
       "...              ...     ...       ...   \n",
       "3025  rottentomatoes       5  positive   \n",
       "3028  rottentomatoes       4  positive   \n",
       "3029  rottentomatoes       4  positive   \n",
       "3042  rottentomatoes       4  positive   \n",
       "3043  rottentomatoes       4  positive   \n",
       "\n",
       "                                          review_tokens  \\\n",
       "486   [timon, pumba, save, world, honest, well, timo...   \n",
       "500   [remind, old, time, not, watch, original, movi...   \n",
       "615   [nostalgic, emotion, sensation, movie, childho...   \n",
       "617      [great, movie, .., feel, watch, good, graphic]   \n",
       "629   [awesome, guy, need, watch, good, lil, improve...   \n",
       "...                                                 ...   \n",
       "3025  [gorgeous, costume, beautiful, performance, ke...   \n",
       "3028  [good, adaption, not, go, dark, gritty, old, f...   \n",
       "3029  [great, live, action, disney, cinderella, make...   \n",
       "3042  [magic, ...., right, tell, original, disney, m...   \n",
       "3043  [good, movie, set, apart, original, story, cin...   \n",
       "\n",
       "                                       review_processed  cluster  \n",
       "486   timon pumba save world honest well timon pumba...        1  \n",
       "500   remind old time not watch original movie easil...        1  \n",
       "615   nostalgic emotion sensation movie childhood un...        1  \n",
       "617              great movie .. feel watch good graphic        1  \n",
       "629   awesome guy need watch good lil improve not ma...        1  \n",
       "...                                                 ...      ...  \n",
       "3025  gorgeous costume beautiful performance kenneth...        1  \n",
       "3028  good adaption not go dark gritty old fashion s...        1  \n",
       "3029  great live action disney cinderella make good ...        1  \n",
       "3042  magic .... right tell original disney movie wi...        1  \n",
       "3043  good movie set apart original story cinderella...        1  \n",
       "\n",
       "[6176 rows x 8 columns]"
      ]
     },
     "execution_count": 23,
     "metadata": {},
     "output_type": "execute_result"
    }
   ],
   "source": [
    "positive_df[positive_df['cluster']==1]"
   ]
  },
  {
   "cell_type": "code",
   "execution_count": 24,
   "metadata": {
    "ExecuteTime": {
     "end_time": "2019-11-12T21:40:04.008341Z",
     "start_time": "2019-11-12T21:39:51.919892Z"
    }
   },
   "outputs": [
    {
     "name": "stdout",
     "output_type": "stream",
     "text": [
      "(38656, 47)\n",
      "(38656, 3)\n",
      "\n",
      "Topic  0\n",
      "not, good, original, with, like, well, disney, make, story, watch\n",
      "\n",
      "Topic  1\n",
      "love, absolutely, amaze, kid, smith, family, awesome, beautiful, music, song\n",
      "\n",
      "Topic  2\n",
      "great, smith, job, genie, loved, music, family, cast, awesome, fun\n"
     ]
    }
   ],
   "source": [
    "tfidfvec = TfidfVectorizer(ngram_range=(1,5), min_df=0.05, stop_words=['movie','film'])\n",
    "doc_word_tfidfvec_positive = tfidfvec.fit_transform(positive_corpus)\n",
    "print(doc_word_tfidfvec_positive.shape)\n",
    "tfidfvec.get_feature_names()\n",
    "NMF_dimreduc = NMF(n_components=3,random_state=10)\n",
    "tfidfvec_NMF_positive = NMF_dimreduc.fit_transform(doc_word_tfidfvec_positive) \n",
    "print(tfidfvec_NMF_positive.shape)\n",
    "display_topics(NMF_dimreduc, tfidfvec.get_feature_names(), 10)\n"
   ]
  },
  {
   "cell_type": "markdown",
   "metadata": {},
   "source": [
    "# Negative Reviews"
   ]
  },
  {
   "cell_type": "code",
   "execution_count": 25,
   "metadata": {
    "ExecuteTime": {
     "end_time": "2019-11-12T21:40:07.504766Z",
     "start_time": "2019-11-12T21:40:04.010101Z"
    }
   },
   "outputs": [],
   "source": [
    "negative_df = full_df[full_df['sentiment']=='negative']\n",
    "\n",
    "negative_corpus = [items[1] for items in negative_df['review_processed'].iteritems()]\n",
    "Pipeline_TFIDF_NMF = Pipeline([\n",
    "                ('tfidf', TfidfVectorizer(ngram_range=(1,5), min_df=0.05, stop_words=['movie','film'])),\n",
    "                ('NMF', NMF(n_components=3,random_state=10))])\n",
    "TFIDF_NMF_negative = Pipeline_TFIDF_NMF.fit_transform(negative_corpus)\n",
    "\n"
   ]
  },
  {
   "cell_type": "code",
   "execution_count": 26,
   "metadata": {
    "ExecuteTime": {
     "end_time": "2019-11-12T21:40:07.509328Z",
     "start_time": "2019-11-12T21:40:07.506328Z"
    }
   },
   "outputs": [],
   "source": [
    "normalized_doc_topic_nmf_tfidf_neg = sklearn.preprocessing.normalize(TFIDF_NMF_negative)"
   ]
  },
  {
   "cell_type": "code",
   "execution_count": 27,
   "metadata": {
    "ExecuteTime": {
     "end_time": "2019-11-12T21:40:09.067798Z",
     "start_time": "2019-11-12T21:40:07.511002Z"
    }
   },
   "outputs": [
    {
     "data": {
      "image/png": "[encoded data removed]",
      "text/plain": [
       "<Figure size 432x288 with 2 Axes>"
      ]
     },
     "metadata": {},
     "output_type": "display_data"
    }
   ],
   "source": [
    "visualizer = KElbowVisualizer(km, k=(2,12))\n",
    "\n",
    "visualizer.fit(normalized_doc_topic_nmf_tfidf_neg)        # Fit the data to the visualizer\n",
    "visualizer.show()  # Finalize and render the figure\n",
    "elbow_neg = visualizer.elbow_value_"
   ]
  },
  {
   "cell_type": "code",
   "execution_count": 28,
   "metadata": {
    "ExecuteTime": {
     "end_time": "2019-11-12T21:40:09.219788Z",
     "start_time": "2019-11-12T21:40:09.069197Z"
    }
   },
   "outputs": [
    {
     "name": "stderr",
     "output_type": "stream",
     "text": [
      "/Users/kristentokunaga/anaconda3/envs/metis/lib/python3.7/site-packages/ipykernel_launcher.py:3: SettingWithCopyWarning: \n",
      "A value is trying to be set on a copy of a slice from a DataFrame.\n",
      "Try using .loc[row_indexer,col_indexer] = value instead\n",
      "\n",
      "See the caveats in the documentation: http://pandas.pydata.org/pandas-docs/stable/user_guide/indexing.html#returning-a-view-versus-a-copy\n",
      "  This is separate from the ipykernel package so we can avoid doing imports until\n"
     ]
    },
    {
     "data": {
      "text/html": [
       "<div>\n",
       "<style scoped>\n",
       "    .dataframe tbody tr th:only-of-type {\n",
       "        vertical-align: middle;\n",
       "    }\n",
       "\n",
       "    .dataframe tbody tr th {\n",
       "        vertical-align: top;\n",
       "    }\n",
       "\n",
       "    .dataframe thead th {\n",
       "        text-align: right;\n",
       "    }\n",
       "</style>\n",
       "<table border=\"1\" class=\"dataframe\">\n",
       "  <thead>\n",
       "    <tr style=\"text-align: right;\">\n",
       "      <th></th>\n",
       "      <th>review_text</th>\n",
       "      <th>movie</th>\n",
       "      <th>review_site</th>\n",
       "      <th>rating</th>\n",
       "      <th>sentiment</th>\n",
       "      <th>review_tokens</th>\n",
       "      <th>review_processed</th>\n",
       "      <th>cluster</th>\n",
       "    </tr>\n",
       "  </thead>\n",
       "  <tbody>\n",
       "    <tr>\n",
       "      <td>0</td>\n",
       "      <td>Disney, WHAT. HAVE. YOU. DONE Just to be clea...</td>\n",
       "      <td>lionking</td>\n",
       "      <td>imdb</td>\n",
       "      <td>1</td>\n",
       "      <td>negative</td>\n",
       "      <td>[disney, clear, time, favorite, movie, not, st...</td>\n",
       "      <td>disney clear time favorite movie not stress en...</td>\n",
       "      <td>3</td>\n",
       "    </tr>\n",
       "    <tr>\n",
       "      <td>1</td>\n",
       "      <td>No soul. The original Lion King is one of my ...</td>\n",
       "      <td>lionking</td>\n",
       "      <td>imdb</td>\n",
       "      <td>1</td>\n",
       "      <td>negative</td>\n",
       "      <td>[no, soul, original, lion, king, favorite, mov...</td>\n",
       "      <td>no soul original lion king favorite movie time...</td>\n",
       "      <td>0</td>\n",
       "    </tr>\n",
       "    <tr>\n",
       "      <td>5</td>\n",
       "      <td>Seriously? So anyone else notice it has a hig...</td>\n",
       "      <td>lionking</td>\n",
       "      <td>imdb</td>\n",
       "      <td>1</td>\n",
       "      <td>negative</td>\n",
       "      <td>[seriously, notice, high, score, 7.5, rating, ...</td>\n",
       "      <td>seriously notice high score 7.5 rating not str...</td>\n",
       "      <td>1</td>\n",
       "    </tr>\n",
       "    <tr>\n",
       "      <td>6</td>\n",
       "      <td>Overrated and way too much spotlight on beyon...</td>\n",
       "      <td>lionking</td>\n",
       "      <td>imdb</td>\n",
       "      <td>1</td>\n",
       "      <td>negative</td>\n",
       "      <td>[overrated, way, spotlight, beyonce, lion, kin...</td>\n",
       "      <td>overrated way spotlight beyonce lion king only...</td>\n",
       "      <td>3</td>\n",
       "    </tr>\n",
       "    <tr>\n",
       "      <td>8</td>\n",
       "      <td>Terrible acting!! Doesn't compare to the orig...</td>\n",
       "      <td>lionking</td>\n",
       "      <td>imdb</td>\n",
       "      <td>1</td>\n",
       "      <td>negative</td>\n",
       "      <td>[terrible, act, not, compare, original, love, ...</td>\n",
       "      <td>terrible act not compare original love origina...</td>\n",
       "      <td>3</td>\n",
       "    </tr>\n",
       "    <tr>\n",
       "      <td>...</td>\n",
       "      <td>...</td>\n",
       "      <td>...</td>\n",
       "      <td>...</td>\n",
       "      <td>...</td>\n",
       "      <td>...</td>\n",
       "      <td>...</td>\n",
       "      <td>...</td>\n",
       "      <td>...</td>\n",
       "    </tr>\n",
       "    <tr>\n",
       "      <td>2954</td>\n",
       "      <td>nothing new to add. still think ever after was...</td>\n",
       "      <td>cinderella</td>\n",
       "      <td>rottentomatoes</td>\n",
       "      <td>2</td>\n",
       "      <td>negative</td>\n",
       "      <td>[nothing, new, add, think, well, adaptation, c...</td>\n",
       "      <td>nothing new add think well adaptation cinderella</td>\n",
       "      <td>2</td>\n",
       "    </tr>\n",
       "    <tr>\n",
       "      <td>2972</td>\n",
       "      <td>Waste of time.not for kids. Only for old foks</td>\n",
       "      <td>cinderella</td>\n",
       "      <td>rottentomatoes</td>\n",
       "      <td>1</td>\n",
       "      <td>negative</td>\n",
       "      <td>[waste, time.not, kid, only, old, foks]</td>\n",
       "      <td>waste time.not kid only old foks</td>\n",
       "      <td>1</td>\n",
       "    </tr>\n",
       "    <tr>\n",
       "      <td>2987</td>\n",
       "      <td>I feel like the real-life incarnation really b...</td>\n",
       "      <td>cinderella</td>\n",
       "      <td>rottentomatoes</td>\n",
       "      <td>2</td>\n",
       "      <td>negative</td>\n",
       "      <td>[feel, like, real, life, incarnation, bring, h...</td>\n",
       "      <td>feel like real life incarnation bring home rid...</td>\n",
       "      <td>3</td>\n",
       "    </tr>\n",
       "    <tr>\n",
       "      <td>3023</td>\n",
       "      <td>The only performance should be mentioned and m...</td>\n",
       "      <td>cinderella</td>\n",
       "      <td>rottentomatoes</td>\n",
       "      <td>2</td>\n",
       "      <td>negative</td>\n",
       "      <td>[only, performance, mention, mark, cate, perfo...</td>\n",
       "      <td>only performance mention mark cate performance...</td>\n",
       "      <td>0</td>\n",
       "    </tr>\n",
       "    <tr>\n",
       "      <td>3031</td>\n",
       "      <td>Though this adaptation of Cinderella has a rea...</td>\n",
       "      <td>cinderella</td>\n",
       "      <td>rottentomatoes</td>\n",
       "      <td>2</td>\n",
       "      <td>negative</td>\n",
       "      <td>[adaptation, cinderella, nice, charm, feel, nu...</td>\n",
       "      <td>adaptation cinderella nice charm feel number c...</td>\n",
       "      <td>0</td>\n",
       "    </tr>\n",
       "  </tbody>\n",
       "</table>\n",
       "<p>5941 rows × 8 columns</p>\n",
       "</div>"
      ],
      "text/plain": [
       "                                            review_text       movie  \\\n",
       "0      Disney, WHAT. HAVE. YOU. DONE Just to be clea...    lionking   \n",
       "1      No soul. The original Lion King is one of my ...    lionking   \n",
       "5      Seriously? So anyone else notice it has a hig...    lionking   \n",
       "6      Overrated and way too much spotlight on beyon...    lionking   \n",
       "8      Terrible acting!! Doesn't compare to the orig...    lionking   \n",
       "...                                                 ...         ...   \n",
       "2954  nothing new to add. still think ever after was...  cinderella   \n",
       "2972      Waste of time.not for kids. Only for old foks  cinderella   \n",
       "2987  I feel like the real-life incarnation really b...  cinderella   \n",
       "3023  The only performance should be mentioned and m...  cinderella   \n",
       "3031  Though this adaptation of Cinderella has a rea...  cinderella   \n",
       "\n",
       "         review_site  rating sentiment  \\\n",
       "0               imdb       1  negative   \n",
       "1               imdb       1  negative   \n",
       "5               imdb       1  negative   \n",
       "6               imdb       1  negative   \n",
       "8               imdb       1  negative   \n",
       "...              ...     ...       ...   \n",
       "2954  rottentomatoes       2  negative   \n",
       "2972  rottentomatoes       1  negative   \n",
       "2987  rottentomatoes       2  negative   \n",
       "3023  rottentomatoes       2  negative   \n",
       "3031  rottentomatoes       2  negative   \n",
       "\n",
       "                                          review_tokens  \\\n",
       "0     [disney, clear, time, favorite, movie, not, st...   \n",
       "1     [no, soul, original, lion, king, favorite, mov...   \n",
       "5     [seriously, notice, high, score, 7.5, rating, ...   \n",
       "6     [overrated, way, spotlight, beyonce, lion, kin...   \n",
       "8     [terrible, act, not, compare, original, love, ...   \n",
       "...                                                 ...   \n",
       "2954  [nothing, new, add, think, well, adaptation, c...   \n",
       "2972            [waste, time.not, kid, only, old, foks]   \n",
       "2987  [feel, like, real, life, incarnation, bring, h...   \n",
       "3023  [only, performance, mention, mark, cate, perfo...   \n",
       "3031  [adaptation, cinderella, nice, charm, feel, nu...   \n",
       "\n",
       "                                       review_processed  cluster  \n",
       "0     disney clear time favorite movie not stress en...        3  \n",
       "1     no soul original lion king favorite movie time...        0  \n",
       "5     seriously notice high score 7.5 rating not str...        1  \n",
       "6     overrated way spotlight beyonce lion king only...        3  \n",
       "8     terrible act not compare original love origina...        3  \n",
       "...                                                 ...      ...  \n",
       "2954   nothing new add think well adaptation cinderella        2  \n",
       "2972                   waste time.not kid only old foks        1  \n",
       "2987  feel like real life incarnation bring home rid...        3  \n",
       "3023  only performance mention mark cate performance...        0  \n",
       "3031  adaptation cinderella nice charm feel number c...        0  \n",
       "\n",
       "[5941 rows x 8 columns]"
      ]
     },
     "execution_count": 28,
     "metadata": {},
     "output_type": "execute_result"
    }
   ],
   "source": [
    "km = KMeans(n_clusters=elbow_neg, random_state=10, init='k-means++')\n",
    "km.fit_predict(sklearn.preprocessing.normalize(TFIDF_NMF_negative))\n",
    "negative_df['cluster'] = km.labels_\n",
    "negative_df\n"
   ]
  },
  {
   "cell_type": "code",
   "execution_count": 29,
   "metadata": {
    "ExecuteTime": {
     "end_time": "2019-11-12T21:40:09.228955Z",
     "start_time": "2019-11-12T21:40:09.221861Z"
    }
   },
   "outputs": [
    {
     "data": {
      "text/plain": [
       "0    1829\n",
       "3    1437\n",
       "2    1386\n",
       "1    1114\n",
       "4     175\n",
       "Name: cluster, dtype: int64"
      ]
     },
     "execution_count": 29,
     "metadata": {},
     "output_type": "execute_result"
    }
   ],
   "source": [
    "negative_df['cluster'].value_counts()"
   ]
  },
  {
   "cell_type": "code",
   "execution_count": 30,
   "metadata": {
    "ExecuteTime": {
     "end_time": "2019-11-12T21:40:12.624667Z",
     "start_time": "2019-11-12T21:40:09.231047Z"
    }
   },
   "outputs": [
    {
     "name": "stdout",
     "output_type": "stream",
     "text": [
      "(5941, 86)\n",
      "(5941, 5)\n",
      "\n",
      "Topic  0\n",
      "like, with, feel, no, character, make, voice, act, look, song\n",
      "\n",
      "Topic  1\n",
      "not, good, not good, think, great, smith, like, money, bad, kid\n",
      "\n",
      "Topic  2\n",
      "original, watch, lack, good, nothing, change, emotion, remake, new, music\n",
      "\n",
      "Topic  3\n",
      "well, version, cartoon, animate, way, think, watch, smith, like, old\n",
      "\n",
      "Topic  4\n",
      "remake, lion, king, lion king, disney, live, action, live action, classic, make\n"
     ]
    }
   ],
   "source": [
    "tfidfvec = TfidfVectorizer(ngram_range=(1,5), min_df=0.05, stop_words=['movie','film'])\n",
    "doc_word_tfidfvec_negative = tfidfvec.fit_transform(negative_corpus)\n",
    "print(doc_word_tfidfvec_negative.shape)\n",
    "tfidfvec.get_feature_names()\n",
    "NMF_dimreduc = NMF(n_components=5,random_state=10)\n",
    "tfidfvec_NMF_negative = NMF_dimreduc.fit_transform(doc_word_tfidfvec_negative) \n",
    "print(tfidfvec_NMF_negative.shape)\n",
    "display_topics(NMF_dimreduc, tfidfvec.get_feature_names(), 10)"
   ]
  },
  {
   "cell_type": "code",
   "execution_count": null,
   "metadata": {
    "ExecuteTime": {
     "end_time": "2019-11-11T23:04:40.531399Z",
     "start_time": "2019-11-11T23:02:35.338Z"
    },
    "code_folding": []
   },
   "outputs": [],
   "source": []
  },
  {
   "cell_type": "markdown",
   "metadata": {},
   "source": [
    "# Neutral Reviews"
   ]
  },
  {
   "cell_type": "code",
   "execution_count": 31,
   "metadata": {
    "ExecuteTime": {
     "end_time": "2019-11-12T21:40:16.306833Z",
     "start_time": "2019-11-12T21:40:12.626462Z"
    }
   },
   "outputs": [],
   "source": [
    "neutral_df = full_df[full_df['sentiment']=='neutral']\n",
    "\n",
    "neutral_corpus = [items[1] for items in neutral_df['review_processed'].iteritems()]\n",
    "Pipeline_TFIDF_NMF = Pipeline([\n",
    "                ('tfidf', TfidfVectorizer(ngram_range=(1,5), min_df=0.05, stop_words=['movie','film'])),\n",
    "                ('NMF', NMF(n_components=5,random_state=10))])\n",
    "TFIDF_NMF_neutral = Pipeline_TFIDF_NMF.fit_transform(neutral_corpus)\n",
    "\n"
   ]
  },
  {
   "cell_type": "code",
   "execution_count": 32,
   "metadata": {
    "ExecuteTime": {
     "end_time": "2019-11-12T21:40:16.311865Z",
     "start_time": "2019-11-12T21:40:16.308422Z"
    }
   },
   "outputs": [],
   "source": [
    "normalized_doc_topic_nmf_tfidf_neut = sklearn.preprocessing.normalize(TFIDF_NMF_neutral)"
   ]
  },
  {
   "cell_type": "code",
   "execution_count": 33,
   "metadata": {
    "ExecuteTime": {
     "end_time": "2019-11-12T21:40:18.093936Z",
     "start_time": "2019-11-12T21:40:16.313766Z"
    }
   },
   "outputs": [
    {
     "data": {
      "image/png": "[encoded data removed]",
      "text/plain": [
       "<Figure size 432x288 with 2 Axes>"
      ]
     },
     "metadata": {},
     "output_type": "display_data"
    }
   ],
   "source": [
    "visualizer = KElbowVisualizer(km, k=(2,12))\n",
    "\n",
    "visualizer.fit(normalized_doc_topic_nmf_tfidf_neut)        # Fit the data to the visualizer\n",
    "visualizer.show()  # Finalize and render the figure\n",
    "elbow_neut = visualizer.elbow_value_"
   ]
  },
  {
   "cell_type": "code",
   "execution_count": 34,
   "metadata": {
    "ExecuteTime": {
     "end_time": "2019-11-12T21:40:18.248818Z",
     "start_time": "2019-11-12T21:40:18.095797Z"
    }
   },
   "outputs": [
    {
     "name": "stderr",
     "output_type": "stream",
     "text": [
      "/Users/kristentokunaga/anaconda3/envs/metis/lib/python3.7/site-packages/ipykernel_launcher.py:3: SettingWithCopyWarning: \n",
      "A value is trying to be set on a copy of a slice from a DataFrame.\n",
      "Try using .loc[row_indexer,col_indexer] = value instead\n",
      "\n",
      "See the caveats in the documentation: http://pandas.pydata.org/pandas-docs/stable/user_guide/indexing.html#returning-a-view-versus-a-copy\n",
      "  This is separate from the ipykernel package so we can avoid doing imports until\n"
     ]
    },
    {
     "data": {
      "text/html": [
       "<div>\n",
       "<style scoped>\n",
       "    .dataframe tbody tr th:only-of-type {\n",
       "        vertical-align: middle;\n",
       "    }\n",
       "\n",
       "    .dataframe tbody tr th {\n",
       "        vertical-align: top;\n",
       "    }\n",
       "\n",
       "    .dataframe thead th {\n",
       "        text-align: right;\n",
       "    }\n",
       "</style>\n",
       "<table border=\"1\" class=\"dataframe\">\n",
       "  <thead>\n",
       "    <tr style=\"text-align: right;\">\n",
       "      <th></th>\n",
       "      <th>review_text</th>\n",
       "      <th>movie</th>\n",
       "      <th>review_site</th>\n",
       "      <th>rating</th>\n",
       "      <th>sentiment</th>\n",
       "      <th>review_tokens</th>\n",
       "      <th>review_processed</th>\n",
       "      <th>cluster</th>\n",
       "    </tr>\n",
       "  </thead>\n",
       "  <tbody>\n",
       "    <tr>\n",
       "      <td>245</td>\n",
       "      <td>Not bad but not great. I thought the CGI was ...</td>\n",
       "      <td>lionking</td>\n",
       "      <td>imdb</td>\n",
       "      <td>5</td>\n",
       "      <td>neutral</td>\n",
       "      <td>[not, bad, not, great, think, cgi, great, time...</td>\n",
       "      <td>not bad not great think cgi great time emotion...</td>\n",
       "      <td>3</td>\n",
       "    </tr>\n",
       "    <tr>\n",
       "      <td>282</td>\n",
       "      <td>Copyright Why they didn't yet give credit to ...</td>\n",
       "      <td>lionking</td>\n",
       "      <td>imdb</td>\n",
       "      <td>6</td>\n",
       "      <td>neutral</td>\n",
       "      <td>[copyright, not, give, credit, kimba, white, l...</td>\n",
       "      <td>copyright not give credit kimba white lion???t...</td>\n",
       "      <td>0</td>\n",
       "    </tr>\n",
       "    <tr>\n",
       "      <td>422</td>\n",
       "      <td>The same story + CG + blandness = pointless Y...</td>\n",
       "      <td>lionking</td>\n",
       "      <td>imdb</td>\n",
       "      <td>5</td>\n",
       "      <td>neutral</td>\n",
       "      <td>[story, cg, blandness, pointless, yes, cg, fil...</td>\n",
       "      <td>story cg blandness pointless yes cg film pheno...</td>\n",
       "      <td>3</td>\n",
       "    </tr>\n",
       "    <tr>\n",
       "      <td>423</td>\n",
       "      <td>Disappointed It was disappointed to watch it ...</td>\n",
       "      <td>lionking</td>\n",
       "      <td>imdb</td>\n",
       "      <td>5</td>\n",
       "      <td>neutral</td>\n",
       "      <td>[disappointed, disappoint, watch, with, nothin...</td>\n",
       "      <td>disappointed disappoint watch with nothing new...</td>\n",
       "      <td>2</td>\n",
       "    </tr>\n",
       "    <tr>\n",
       "      <td>427</td>\n",
       "      <td>no point Visually it's amazing, for the first...</td>\n",
       "      <td>lionking</td>\n",
       "      <td>imdb</td>\n",
       "      <td>5</td>\n",
       "      <td>neutral</td>\n",
       "      <td>[no, point, visually, amaze, ﻿1, 10, minute, s...</td>\n",
       "      <td>no point visually amaze ﻿1 10 minute story son...</td>\n",
       "      <td>2</td>\n",
       "    </tr>\n",
       "    <tr>\n",
       "      <td>...</td>\n",
       "      <td>...</td>\n",
       "      <td>...</td>\n",
       "      <td>...</td>\n",
       "      <td>...</td>\n",
       "      <td>...</td>\n",
       "      <td>...</td>\n",
       "      <td>...</td>\n",
       "      <td>...</td>\n",
       "    </tr>\n",
       "    <tr>\n",
       "      <td>3018</td>\n",
       "      <td>With unlimited card - Sai and Akeela</td>\n",
       "      <td>cinderella</td>\n",
       "      <td>rottentomatoes</td>\n",
       "      <td>3</td>\n",
       "      <td>neutral</td>\n",
       "      <td>[with, unlimited, card, sai, akeela]</td>\n",
       "      <td>with unlimited card sai akeela</td>\n",
       "      <td>2</td>\n",
       "    </tr>\n",
       "    <tr>\n",
       "      <td>3019</td>\n",
       "      <td>An alright movie. Though if you're looking for...</td>\n",
       "      <td>cinderella</td>\n",
       "      <td>rottentomatoes</td>\n",
       "      <td>3</td>\n",
       "      <td>neutral</td>\n",
       "      <td>[alright, movie, look, fresh, not]</td>\n",
       "      <td>alright movie look fresh not</td>\n",
       "      <td>3</td>\n",
       "    </tr>\n",
       "    <tr>\n",
       "      <td>3022</td>\n",
       "      <td>good but not as good as malificent.</td>\n",
       "      <td>cinderella</td>\n",
       "      <td>rottentomatoes</td>\n",
       "      <td>3</td>\n",
       "      <td>neutral</td>\n",
       "      <td>[good, not, good, malificent]</td>\n",
       "      <td>good not good malificent</td>\n",
       "      <td>0</td>\n",
       "    </tr>\n",
       "    <tr>\n",
       "      <td>3027</td>\n",
       "      <td>A delightful, beautiful take on the classic fa...</td>\n",
       "      <td>cinderella</td>\n",
       "      <td>rottentomatoes</td>\n",
       "      <td>3</td>\n",
       "      <td>neutral</td>\n",
       "      <td>[delightful, beautiful, classic, fairytale, ge...</td>\n",
       "      <td>delightful beautiful classic fairytale genuine...</td>\n",
       "      <td>3</td>\n",
       "    </tr>\n",
       "    <tr>\n",
       "      <td>3038</td>\n",
       "      <td>Great costume design and strong cast, though t...</td>\n",
       "      <td>cinderella</td>\n",
       "      <td>rottentomatoes</td>\n",
       "      <td>3</td>\n",
       "      <td>neutral</td>\n",
       "      <td>[great, costume, design, strong, cast, adaptat...</td>\n",
       "      <td>great costume design strong cast adaptation do...</td>\n",
       "      <td>1</td>\n",
       "    </tr>\n",
       "  </tbody>\n",
       "</table>\n",
       "<p>6915 rows × 8 columns</p>\n",
       "</div>"
      ],
      "text/plain": [
       "                                            review_text       movie  \\\n",
       "245    Not bad but not great. I thought the CGI was ...    lionking   \n",
       "282    Copyright Why they didn't yet give credit to ...    lionking   \n",
       "422    The same story + CG + blandness = pointless Y...    lionking   \n",
       "423    Disappointed It was disappointed to watch it ...    lionking   \n",
       "427    no point Visually it's amazing, for the first...    lionking   \n",
       "...                                                 ...         ...   \n",
       "3018               With unlimited card - Sai and Akeela  cinderella   \n",
       "3019  An alright movie. Though if you're looking for...  cinderella   \n",
       "3022                good but not as good as malificent.  cinderella   \n",
       "3027  A delightful, beautiful take on the classic fa...  cinderella   \n",
       "3038  Great costume design and strong cast, though t...  cinderella   \n",
       "\n",
       "         review_site  rating sentiment  \\\n",
       "245             imdb       5   neutral   \n",
       "282             imdb       6   neutral   \n",
       "422             imdb       5   neutral   \n",
       "423             imdb       5   neutral   \n",
       "427             imdb       5   neutral   \n",
       "...              ...     ...       ...   \n",
       "3018  rottentomatoes       3   neutral   \n",
       "3019  rottentomatoes       3   neutral   \n",
       "3022  rottentomatoes       3   neutral   \n",
       "3027  rottentomatoes       3   neutral   \n",
       "3038  rottentomatoes       3   neutral   \n",
       "\n",
       "                                          review_tokens  \\\n",
       "245   [not, bad, not, great, think, cgi, great, time...   \n",
       "282   [copyright, not, give, credit, kimba, white, l...   \n",
       "422   [story, cg, blandness, pointless, yes, cg, fil...   \n",
       "423   [disappointed, disappoint, watch, with, nothin...   \n",
       "427   [no, point, visually, amaze, ﻿1, 10, minute, s...   \n",
       "...                                                 ...   \n",
       "3018               [with, unlimited, card, sai, akeela]   \n",
       "3019                 [alright, movie, look, fresh, not]   \n",
       "3022                      [good, not, good, malificent]   \n",
       "3027  [delightful, beautiful, classic, fairytale, ge...   \n",
       "3038  [great, costume, design, strong, cast, adaptat...   \n",
       "\n",
       "                                       review_processed  cluster  \n",
       "245   not bad not great think cgi great time emotion...        3  \n",
       "282   copyright not give credit kimba white lion???t...        0  \n",
       "422   story cg blandness pointless yes cg film pheno...        3  \n",
       "423   disappointed disappoint watch with nothing new...        2  \n",
       "427   no point visually amaze ﻿1 10 minute story son...        2  \n",
       "...                                                 ...      ...  \n",
       "3018                     with unlimited card sai akeela        2  \n",
       "3019                       alright movie look fresh not        3  \n",
       "3022                           good not good malificent        0  \n",
       "3027  delightful beautiful classic fairytale genuine...        3  \n",
       "3038  great costume design strong cast adaptation do...        1  \n",
       "\n",
       "[6915 rows x 8 columns]"
      ]
     },
     "execution_count": 34,
     "metadata": {},
     "output_type": "execute_result"
    }
   ],
   "source": [
    "km = KMeans(n_clusters=elbow_neut, random_state=10, init='k-means++')\n",
    "km.fit_predict(normalized_doc_topic_nmf_tfidf_neut)\n",
    "neutral_df['cluster'] = km.labels_\n",
    "neutral_df"
   ]
  },
  {
   "cell_type": "code",
   "execution_count": 35,
   "metadata": {
    "ExecuteTime": {
     "end_time": "2019-11-12T21:40:18.256162Z",
     "start_time": "2019-11-12T21:40:18.250505Z"
    }
   },
   "outputs": [
    {
     "data": {
      "text/plain": [
       "2    1761\n",
       "1    1423\n",
       "3    1376\n",
       "4    1229\n",
       "0    1126\n",
       "Name: cluster, dtype: int64"
      ]
     },
     "execution_count": 35,
     "metadata": {},
     "output_type": "execute_result"
    }
   ],
   "source": [
    "neutral_df['cluster'].value_counts()"
   ]
  },
  {
   "cell_type": "code",
   "execution_count": 36,
   "metadata": {
    "ExecuteTime": {
     "end_time": "2019-11-12T21:40:21.743061Z",
     "start_time": "2019-11-12T21:40:18.257704Z"
    }
   },
   "outputs": [
    {
     "name": "stdout",
     "output_type": "stream",
     "text": [
      "(6915, 90)\n",
      "(6915, 3)\n",
      "\n",
      "Topic  0\n",
      "not, with, like, disney, feel, great, make, story, character, version, animate, song, live, voice, little\n",
      "\n",
      "Topic  1\n",
      "good, not, pretty, smith, think, great, overall, genie, cartoon, job, music, fun, kid, bad, act\n",
      "\n",
      "Topic  2\n",
      "original, well, remake, okay, not, like, change, song, nothing, scene, lack, amaze, music, enjoy, new\n"
     ]
    }
   ],
   "source": [
    "tfidfvec = TfidfVectorizer(ngram_range=(1,5), min_df=0.05, stop_words=['movie','film'])\n",
    "doc_word_tfidfvec_neutral = tfidfvec.fit_transform(neutral_corpus)\n",
    "print(doc_word_tfidfvec_neutral.shape)\n",
    "tfidfvec.get_feature_names()\n",
    "NMF_dimreduc = NMF(n_components=3,random_state=10)\n",
    "tfidfvec_NMF_neutral = NMF_dimreduc.fit_transform(doc_word_tfidfvec_neutral) \n",
    "print(tfidfvec_NMF_neutral.shape)\n",
    "display_topics(NMF_dimreduc, tfidfvec.get_feature_names(), 15)"
   ]
  },
  {
   "cell_type": "code",
   "execution_count": 37,
   "metadata": {
    "ExecuteTime": {
     "end_time": "2019-11-12T21:40:21.747113Z",
     "start_time": "2019-11-12T21:40:21.744782Z"
    }
   },
   "outputs": [],
   "source": [
    "#cluster then cosine similarity [find cluster that it's closest to, for that one document]"
   ]
  },
  {
   "cell_type": "code",
   "execution_count": null,
   "metadata": {},
   "outputs": [],
   "source": []
  },
  {
   "cell_type": "code",
   "execution_count": 38,
   "metadata": {
    "ExecuteTime": {
     "end_time": "2019-11-12T21:40:22.033108Z",
     "start_time": "2019-11-12T21:40:21.749677Z"
    }
   },
   "outputs": [
    {
     "ename": "ModuleNotFoundError",
     "evalue": "No module named 'wordcloud'",
     "output_type": "error",
     "traceback": [
      "\u001b[0;31m---------------------------------------------------------------------------\u001b[0m",
      "\u001b[0;31mModuleNotFoundError\u001b[0m                       Traceback (most recent call last)",
      "\u001b[0;32m<ipython-input-38-369a16939e1f>\u001b[0m in \u001b[0;36m<module>\u001b[0;34m\u001b[0m\n\u001b[0;32m----> 1\u001b[0;31m \u001b[0;32mfrom\u001b[0m \u001b[0mwordcloud\u001b[0m \u001b[0;32mimport\u001b[0m \u001b[0mWordCloud\u001b[0m\u001b[0;34m\u001b[0m\u001b[0;34m\u001b[0m\u001b[0m\n\u001b[0m\u001b[1;32m      2\u001b[0m \u001b[0;32mimport\u001b[0m \u001b[0mmatplotlib\u001b[0m\u001b[0;34m.\u001b[0m\u001b[0mpyplot\u001b[0m \u001b[0;32mas\u001b[0m \u001b[0mplt\u001b[0m\u001b[0;34m\u001b[0m\u001b[0;34m\u001b[0m\u001b[0m\n\u001b[1;32m      3\u001b[0m \u001b[0;34m\u001b[0m\u001b[0m\n\u001b[1;32m      4\u001b[0m \u001b[0;32mdef\u001b[0m \u001b[0mshow_wordcloud\u001b[0m\u001b[0;34m(\u001b[0m\u001b[0mdata\u001b[0m\u001b[0;34m,\u001b[0m \u001b[0mtitle\u001b[0m \u001b[0;34m=\u001b[0m \u001b[0;32mNone\u001b[0m\u001b[0;34m)\u001b[0m\u001b[0;34m:\u001b[0m\u001b[0;34m\u001b[0m\u001b[0;34m\u001b[0m\u001b[0m\n\u001b[1;32m      5\u001b[0m     wordcloud = WordCloud(\n",
      "\u001b[0;31mModuleNotFoundError\u001b[0m: No module named 'wordcloud'"
     ]
    }
   ],
   "source": [
    "from wordcloud import WordCloud\n",
    "import matplotlib.pyplot as plt\n",
    "\n",
    "def show_wordcloud(data, title = None):\n",
    "    wordcloud = WordCloud(\n",
    "        background_color = 'white',\n",
    "        max_words = 200,\n",
    "        max_font_size = 40, \n",
    "        scale = 3,\n",
    "        random_state = 42\n",
    "    ).generate(str(data))\n",
    "\n",
    "    fig = plt.figure(1, figsize = (20, 20))\n",
    "    plt.axis('off')\n",
    "    if title: \n",
    "        fig.suptitle(title, fontsize = 20)\n",
    "        fig.subplots_adjust(top = 2.3)\n",
    "\n",
    "    plt.imshow(wordcloud)\n",
    "    plt.show()\n",
    "    \n",
    "# print wordcloud\n",
    "show_wordcloud(reviews_df[\"review\"])"
   ]
  },
  {
   "cell_type": "code",
   "execution_count": null,
   "metadata": {},
   "outputs": [],
   "source": []
  }
 ],
 "metadata": {
  "kernelspec": {
   "display_name": "Python [conda env:metis] *",
   "language": "python",
   "name": "conda-env-metis-py"
  },
  "language_info": {
   "codemirror_mode": {
    "name": "ipython",
    "version": 3
   },
   "file_extension": ".py",
   "mimetype": "text/x-python",
   "name": "python",
   "nbconvert_exporter": "python",
   "pygments_lexer": "ipython3",
   "version": "3.7.3"
  },
  "toc": {
   "base_numbering": 1,
   "nav_menu": {},
   "number_sections": true,
   "sideBar": true,
   "skip_h1_title": false,
   "title_cell": "Table of Contents",
   "title_sidebar": "Contents",
   "toc_cell": false,
   "toc_position": {},
   "toc_section_display": true,
   "toc_window_display": false
  }
 },
 "nbformat": 4,
 "nbformat_minor": 2
}
