{
 "cells": [
  {
   "cell_type": "code",
   "execution_count": 1,
   "metadata": {
    "ExecuteTime": {
     "end_time": "2019-11-13T05:15:07.090251Z",
     "start_time": "2019-11-13T05:15:06.507457Z"
    }
   },
   "outputs": [],
   "source": [
    "import pandas as pd\n",
    "import numpy as np"
   ]
  },
  {
   "cell_type": "code",
   "execution_count": 2,
   "metadata": {
    "ExecuteTime": {
     "end_time": "2019-11-13T05:15:07.449593Z",
     "start_time": "2019-11-13T05:15:07.091993Z"
    }
   },
   "outputs": [],
   "source": [
    "imdblionking = pd.read_pickle('lionking.pkl')\n",
    "imdbaladdin = pd.read_pickle('aladdin.pkl')\n",
    "imdbbeautyandbeast = pd.read_pickle('beautyandbeast.pkl')\n",
    "imdbjunglebook = pd.read_pickle('junglebook.pkl')\n",
    "imdbcinderella = pd.read_pickle('cinderella.pkl')\n",
    "\n",
    "#removed Dumbo because different story from original film (characters, plot, etc.)"
   ]
  },
  {
   "cell_type": "code",
   "execution_count": 3,
   "metadata": {
    "ExecuteTime": {
     "end_time": "2019-11-13T05:15:07.484876Z",
     "start_time": "2019-11-13T05:15:07.451081Z"
    }
   },
   "outputs": [],
   "source": [
    "rottenlionking = pd.read_pickle('rottenlionking.pkl')\n",
    "rottenaladdin = pd.read_pickle('rottenaladdin.pkl')\n",
    "rottenbeautyandbeast = pd.read_pickle('rottenbeautyandbeast.pkl')\n",
    "rottenjunglebook = pd.read_pickle('rottenjunglebook.pkl')\n",
    "rottencinderella = pd.read_pickle('rottencinderella.pkl')\n",
    "\n",
    "#removed Dumbo because different story from original film (characters, plot, etc.)"
   ]
  },
  {
   "cell_type": "code",
   "execution_count": 4,
   "metadata": {
    "ExecuteTime": {
     "end_time": "2019-11-13T05:15:07.492632Z",
     "start_time": "2019-11-13T05:15:07.486026Z"
    }
   },
   "outputs": [],
   "source": [
    "imdblionking['movie'] = 'lionking'\n",
    "imdblionking['review_site'] = 'imdb'\n",
    "imdbaladdin['movie'] = 'aladdin'\n",
    "imdbaladdin['review_site'] = 'imdb'\n",
    "imdbbeautyandbeast['movie'] = 'beautyandbeast'\n",
    "imdbbeautyandbeast['review_site'] = 'imdb'\n",
    "imdbjunglebook['movie'] = 'junglebook'\n",
    "imdbjunglebook['review_site'] = 'imdb'\n",
    "imdbcinderella['movie'] = 'cinderella'\n",
    "imdbcinderella['review_site'] = 'imdb'"
   ]
  },
  {
   "cell_type": "code",
   "execution_count": 5,
   "metadata": {
    "ExecuteTime": {
     "end_time": "2019-11-13T05:15:07.501512Z",
     "start_time": "2019-11-13T05:15:07.493975Z"
    }
   },
   "outputs": [],
   "source": [
    "rottenlionking['movie'] = 'lionking'\n",
    "rottenlionking['review_site'] = 'rottentomatoes'\n",
    "rottenaladdin['movie'] = 'aladdin'\n",
    "rottenaladdin['review_site'] = 'rottentomatoes'\n",
    "rottenbeautyandbeast['movie'] = 'beautyandbeast'\n",
    "rottenbeautyandbeast['review_site'] = 'rottentomatoes'\n",
    "rottenjunglebook['movie'] = 'junglebook'\n",
    "rottenjunglebook['review_site'] = 'rottentomatoes'\n",
    "rottencinderella['movie'] = 'cinderella'\n",
    "rottencinderella['review_site'] = 'rottentomatoes'"
   ]
  },
  {
   "cell_type": "code",
   "execution_count": 6,
   "metadata": {
    "ExecuteTime": {
     "end_time": "2019-11-13T05:15:07.518775Z",
     "start_time": "2019-11-13T05:15:07.502830Z"
    }
   },
   "outputs": [],
   "source": [
    "imdblionking['concat_review_title_text'] = imdblionking['review_title'] + ' ' + imdblionking['review_text']\n",
    "imdbaladdin['concat_review_title_text'] = imdbaladdin['review_title'] + ' ' + imdbaladdin['review_text']\n",
    "imdbbeautyandbeast['concat_review_title_text'] = imdbbeautyandbeast['review_title'] + ' ' + imdbbeautyandbeast['review_text']\n",
    "imdbjunglebook['concat_review_title_text'] = imdbjunglebook['review_title'] + ' ' + imdbjunglebook['review_text']\n",
    "imdbcinderella['concat_review_title_text'] = imdbcinderella['review_title'] + ' ' + imdbcinderella['review_text']"
   ]
  },
  {
   "cell_type": "code",
   "execution_count": 7,
   "metadata": {
    "ExecuteTime": {
     "end_time": "2019-11-13T05:15:07.535670Z",
     "start_time": "2019-11-13T05:15:07.520005Z"
    },
    "scrolled": true
   },
   "outputs": [
    {
     "data": {
      "text/html": [
       "<div>\n",
       "<style scoped>\n",
       "    .dataframe tbody tr th:only-of-type {\n",
       "        vertical-align: middle;\n",
       "    }\n",
       "\n",
       "    .dataframe tbody tr th {\n",
       "        vertical-align: top;\n",
       "    }\n",
       "\n",
       "    .dataframe thead th {\n",
       "        text-align: right;\n",
       "    }\n",
       "</style>\n",
       "<table border=\"1\" class=\"dataframe\">\n",
       "  <thead>\n",
       "    <tr style=\"text-align: right;\">\n",
       "      <th></th>\n",
       "      <th>rating</th>\n",
       "      <th>review_title</th>\n",
       "      <th>review_text</th>\n",
       "      <th>movie</th>\n",
       "      <th>review_site</th>\n",
       "      <th>concat_review_title_text</th>\n",
       "    </tr>\n",
       "  </thead>\n",
       "  <tbody>\n",
       "    <tr>\n",
       "      <td>0</td>\n",
       "      <td>1/10</td>\n",
       "      <td>Disney, WHAT. HAVE. YOU. DONE\\n</td>\n",
       "      <td>Just to be clear, this is my all time favorite...</td>\n",
       "      <td>lionking</td>\n",
       "      <td>imdb</td>\n",
       "      <td>Disney, WHAT. HAVE. YOU. DONE\\n Just to be cl...</td>\n",
       "    </tr>\n",
       "    <tr>\n",
       "      <td>1</td>\n",
       "      <td>1/10</td>\n",
       "      <td>No soul.\\n</td>\n",
       "      <td>The original Lion King is one of my favorite m...</td>\n",
       "      <td>lionking</td>\n",
       "      <td>imdb</td>\n",
       "      <td>No soul.\\n The original Lion King is one of m...</td>\n",
       "    </tr>\n",
       "    <tr>\n",
       "      <td>2</td>\n",
       "      <td>1/10</td>\n",
       "      <td>Shocking flat. Lacked any emotion. Completely...</td>\n",
       "      <td>The CGI in this is incredible, it's mesmerisin...</td>\n",
       "      <td>lionking</td>\n",
       "      <td>imdb</td>\n",
       "      <td>Shocking flat. Lacked any emotion. Completely...</td>\n",
       "    </tr>\n",
       "    <tr>\n",
       "      <td>3</td>\n",
       "      <td>1/10</td>\n",
       "      <td>Ruined the music\\n</td>\n",
       "      <td>Felt like a corporate movie and they know peop...</td>\n",
       "      <td>lionking</td>\n",
       "      <td>imdb</td>\n",
       "      <td>Ruined the music\\n Felt like a corporate movi...</td>\n",
       "    </tr>\n",
       "    <tr>\n",
       "      <td>4</td>\n",
       "      <td>3/10</td>\n",
       "      <td>Looks so good, has no heart.\\n</td>\n",
       "      <td>The movie is adequate, that's not good enough ...</td>\n",
       "      <td>lionking</td>\n",
       "      <td>imdb</td>\n",
       "      <td>Looks so good, has no heart.\\n The movie is a...</td>\n",
       "    </tr>\n",
       "    <tr>\n",
       "      <td>...</td>\n",
       "      <td>...</td>\n",
       "      <td>...</td>\n",
       "      <td>...</td>\n",
       "      <td>...</td>\n",
       "      <td>...</td>\n",
       "      <td>...</td>\n",
       "    </tr>\n",
       "    <tr>\n",
       "      <td>2398</td>\n",
       "      <td>7/10</td>\n",
       "      <td>Nostalgic and uncreative\\n</td>\n",
       "      <td>Had a smile on my face all the way long , but ...</td>\n",
       "      <td>lionking</td>\n",
       "      <td>imdb</td>\n",
       "      <td>Nostalgic and uncreative\\n Had a smile on my ...</td>\n",
       "    </tr>\n",
       "    <tr>\n",
       "      <td>2399</td>\n",
       "      <td>8/10</td>\n",
       "      <td>Movie was gret, but some voice actors could h...</td>\n",
       "      <td>Timon was to odd and not cynical enough. Scar ...</td>\n",
       "      <td>lionking</td>\n",
       "      <td>imdb</td>\n",
       "      <td>Movie was gret, but some voice actors could h...</td>\n",
       "    </tr>\n",
       "    <tr>\n",
       "      <td>2400</td>\n",
       "      <td>8/10</td>\n",
       "      <td>Nostalgia at its best\\n</td>\n",
       "      <td>Yes I get the idea of people not liking remake...</td>\n",
       "      <td>lionking</td>\n",
       "      <td>imdb</td>\n",
       "      <td>Nostalgia at its best\\n Yes I get the idea of...</td>\n",
       "    </tr>\n",
       "    <tr>\n",
       "      <td>2401</td>\n",
       "      <td>8/10</td>\n",
       "      <td>Nice Remake and stunning visual effects\\n</td>\n",
       "      <td>It was a pleasure to watch a reamke of one of ...</td>\n",
       "      <td>lionking</td>\n",
       "      <td>imdb</td>\n",
       "      <td>Nice Remake and stunning visual effects\\n It ...</td>\n",
       "    </tr>\n",
       "    <tr>\n",
       "      <td>2402</td>\n",
       "      <td>6/10</td>\n",
       "      <td>The Remix is not as good as the original\\n</td>\n",
       "      <td>It's been 27 years since we received the origi...</td>\n",
       "      <td>lionking</td>\n",
       "      <td>imdb</td>\n",
       "      <td>The Remix is not as good as the original\\n It...</td>\n",
       "    </tr>\n",
       "  </tbody>\n",
       "</table>\n",
       "<p>2403 rows × 6 columns</p>\n",
       "</div>"
      ],
      "text/plain": [
       "     rating                                       review_title  \\\n",
       "0      1/10                    Disney, WHAT. HAVE. YOU. DONE\\n   \n",
       "1      1/10                                         No soul.\\n   \n",
       "2      1/10   Shocking flat. Lacked any emotion. Completely...   \n",
       "3      1/10                                 Ruined the music\\n   \n",
       "4      3/10                     Looks so good, has no heart.\\n   \n",
       "...     ...                                                ...   \n",
       "2398   7/10                         Nostalgic and uncreative\\n   \n",
       "2399   8/10   Movie was gret, but some voice actors could h...   \n",
       "2400   8/10                            Nostalgia at its best\\n   \n",
       "2401   8/10          Nice Remake and stunning visual effects\\n   \n",
       "2402   6/10         The Remix is not as good as the original\\n   \n",
       "\n",
       "                                            review_text     movie review_site  \\\n",
       "0     Just to be clear, this is my all time favorite...  lionking        imdb   \n",
       "1     The original Lion King is one of my favorite m...  lionking        imdb   \n",
       "2     The CGI in this is incredible, it's mesmerisin...  lionking        imdb   \n",
       "3     Felt like a corporate movie and they know peop...  lionking        imdb   \n",
       "4     The movie is adequate, that's not good enough ...  lionking        imdb   \n",
       "...                                                 ...       ...         ...   \n",
       "2398  Had a smile on my face all the way long , but ...  lionking        imdb   \n",
       "2399  Timon was to odd and not cynical enough. Scar ...  lionking        imdb   \n",
       "2400  Yes I get the idea of people not liking remake...  lionking        imdb   \n",
       "2401  It was a pleasure to watch a reamke of one of ...  lionking        imdb   \n",
       "2402  It's been 27 years since we received the origi...  lionking        imdb   \n",
       "\n",
       "                               concat_review_title_text  \n",
       "0      Disney, WHAT. HAVE. YOU. DONE\\n Just to be cl...  \n",
       "1      No soul.\\n The original Lion King is one of m...  \n",
       "2      Shocking flat. Lacked any emotion. Completely...  \n",
       "3      Ruined the music\\n Felt like a corporate movi...  \n",
       "4      Looks so good, has no heart.\\n The movie is a...  \n",
       "...                                                 ...  \n",
       "2398   Nostalgic and uncreative\\n Had a smile on my ...  \n",
       "2399   Movie was gret, but some voice actors could h...  \n",
       "2400   Nostalgia at its best\\n Yes I get the idea of...  \n",
       "2401   Nice Remake and stunning visual effects\\n It ...  \n",
       "2402   The Remix is not as good as the original\\n It...  \n",
       "\n",
       "[2403 rows x 6 columns]"
      ]
     },
     "execution_count": 7,
     "metadata": {},
     "output_type": "execute_result"
    }
   ],
   "source": [
    "imdblionking"
   ]
  },
  {
   "cell_type": "code",
   "execution_count": 8,
   "metadata": {
    "ExecuteTime": {
     "end_time": "2019-11-13T05:15:07.553097Z",
     "start_time": "2019-11-13T05:15:07.537889Z"
    }
   },
   "outputs": [
    {
     "data": {
      "text/html": [
       "<div>\n",
       "<style scoped>\n",
       "    .dataframe tbody tr th:only-of-type {\n",
       "        vertical-align: middle;\n",
       "    }\n",
       "\n",
       "    .dataframe tbody tr th {\n",
       "        vertical-align: top;\n",
       "    }\n",
       "\n",
       "    .dataframe thead th {\n",
       "        text-align: right;\n",
       "    }\n",
       "</style>\n",
       "<table border=\"1\" class=\"dataframe\">\n",
       "  <thead>\n",
       "    <tr style=\"text-align: right;\">\n",
       "      <th></th>\n",
       "      <th>rating</th>\n",
       "      <th>review_title</th>\n",
       "      <th>review_text</th>\n",
       "      <th>movie</th>\n",
       "      <th>review_site</th>\n",
       "      <th>concat_review_title_text</th>\n",
       "    </tr>\n",
       "  </thead>\n",
       "  <tbody>\n",
       "    <tr>\n",
       "      <td>0</td>\n",
       "      <td>1/10</td>\n",
       "      <td>Disney, WHAT. HAVE. YOU. DONE\\n</td>\n",
       "      <td>Just to be clear, this is my all time favorite...</td>\n",
       "      <td>lionking</td>\n",
       "      <td>imdb</td>\n",
       "      <td>Disney, WHAT. HAVE. YOU. DONE\\n Just to be cl...</td>\n",
       "    </tr>\n",
       "    <tr>\n",
       "      <td>1</td>\n",
       "      <td>1/10</td>\n",
       "      <td>No soul.\\n</td>\n",
       "      <td>The original Lion King is one of my favorite m...</td>\n",
       "      <td>lionking</td>\n",
       "      <td>imdb</td>\n",
       "      <td>No soul.\\n The original Lion King is one of m...</td>\n",
       "    </tr>\n",
       "    <tr>\n",
       "      <td>2</td>\n",
       "      <td>1/10</td>\n",
       "      <td>Shocking flat. Lacked any emotion. Completely...</td>\n",
       "      <td>The CGI in this is incredible, it's mesmerisin...</td>\n",
       "      <td>lionking</td>\n",
       "      <td>imdb</td>\n",
       "      <td>Shocking flat. Lacked any emotion. Completely...</td>\n",
       "    </tr>\n",
       "    <tr>\n",
       "      <td>3</td>\n",
       "      <td>1/10</td>\n",
       "      <td>Ruined the music\\n</td>\n",
       "      <td>Felt like a corporate movie and they know peop...</td>\n",
       "      <td>lionking</td>\n",
       "      <td>imdb</td>\n",
       "      <td>Ruined the music\\n Felt like a corporate movi...</td>\n",
       "    </tr>\n",
       "    <tr>\n",
       "      <td>4</td>\n",
       "      <td>3/10</td>\n",
       "      <td>Looks so good, has no heart.\\n</td>\n",
       "      <td>The movie is adequate, that's not good enough ...</td>\n",
       "      <td>lionking</td>\n",
       "      <td>imdb</td>\n",
       "      <td>Looks so good, has no heart.\\n The movie is a...</td>\n",
       "    </tr>\n",
       "    <tr>\n",
       "      <td>...</td>\n",
       "      <td>...</td>\n",
       "      <td>...</td>\n",
       "      <td>...</td>\n",
       "      <td>...</td>\n",
       "      <td>...</td>\n",
       "      <td>...</td>\n",
       "    </tr>\n",
       "    <tr>\n",
       "      <td>402</td>\n",
       "      <td>7/10</td>\n",
       "      <td>A heartfelt adaptation of the beloved Disney ...</td>\n",
       "      <td>When I heard Disney was going to adapt their v...</td>\n",
       "      <td>cinderella</td>\n",
       "      <td>imdb</td>\n",
       "      <td>A heartfelt adaptation of the beloved Disney ...</td>\n",
       "    </tr>\n",
       "    <tr>\n",
       "      <td>403</td>\n",
       "      <td>9/10</td>\n",
       "      <td>***1/2\\n</td>\n",
       "      <td>The story follows the standard line with the e...</td>\n",
       "      <td>cinderella</td>\n",
       "      <td>imdb</td>\n",
       "      <td>***1/2\\n The story follows the standard line ...</td>\n",
       "    </tr>\n",
       "    <tr>\n",
       "      <td>404</td>\n",
       "      <td>8/10</td>\n",
       "      <td>Giving Family Entertainment Back to the Family\\n</td>\n",
       "      <td>There has been a cinematic vogue in recent yea...</td>\n",
       "      <td>cinderella</td>\n",
       "      <td>imdb</td>\n",
       "      <td>Giving Family Entertainment Back to the Famil...</td>\n",
       "    </tr>\n",
       "    <tr>\n",
       "      <td>405</td>\n",
       "      <td>7/10</td>\n",
       "      <td>A Great Retelling Fairy Tale! It is suitable ...</td>\n",
       "      <td>After watching this movie, personally speaking...</td>\n",
       "      <td>cinderella</td>\n",
       "      <td>imdb</td>\n",
       "      <td>A Great Retelling Fairy Tale! It is suitable ...</td>\n",
       "    </tr>\n",
       "    <tr>\n",
       "      <td>406</td>\n",
       "      <td>7/10</td>\n",
       "      <td>prefer no children see this\\n</td>\n",
       "      <td>While this is fine for telling the story of Ci...</td>\n",
       "      <td>cinderella</td>\n",
       "      <td>imdb</td>\n",
       "      <td>prefer no children see this\\n While this is f...</td>\n",
       "    </tr>\n",
       "  </tbody>\n",
       "</table>\n",
       "<p>6364 rows × 6 columns</p>\n",
       "</div>"
      ],
      "text/plain": [
       "    rating                                       review_title  \\\n",
       "0     1/10                    Disney, WHAT. HAVE. YOU. DONE\\n   \n",
       "1     1/10                                         No soul.\\n   \n",
       "2     1/10   Shocking flat. Lacked any emotion. Completely...   \n",
       "3     1/10                                 Ruined the music\\n   \n",
       "4     3/10                     Looks so good, has no heart.\\n   \n",
       "..     ...                                                ...   \n",
       "402   7/10   A heartfelt adaptation of the beloved Disney ...   \n",
       "403   9/10                                           ***1/2\\n   \n",
       "404   8/10   Giving Family Entertainment Back to the Family\\n   \n",
       "405   7/10   A Great Retelling Fairy Tale! It is suitable ...   \n",
       "406   7/10                      prefer no children see this\\n   \n",
       "\n",
       "                                           review_text       movie  \\\n",
       "0    Just to be clear, this is my all time favorite...    lionking   \n",
       "1    The original Lion King is one of my favorite m...    lionking   \n",
       "2    The CGI in this is incredible, it's mesmerisin...    lionking   \n",
       "3    Felt like a corporate movie and they know peop...    lionking   \n",
       "4    The movie is adequate, that's not good enough ...    lionking   \n",
       "..                                                 ...         ...   \n",
       "402  When I heard Disney was going to adapt their v...  cinderella   \n",
       "403  The story follows the standard line with the e...  cinderella   \n",
       "404  There has been a cinematic vogue in recent yea...  cinderella   \n",
       "405  After watching this movie, personally speaking...  cinderella   \n",
       "406  While this is fine for telling the story of Ci...  cinderella   \n",
       "\n",
       "    review_site                           concat_review_title_text  \n",
       "0          imdb   Disney, WHAT. HAVE. YOU. DONE\\n Just to be cl...  \n",
       "1          imdb   No soul.\\n The original Lion King is one of m...  \n",
       "2          imdb   Shocking flat. Lacked any emotion. Completely...  \n",
       "3          imdb   Ruined the music\\n Felt like a corporate movi...  \n",
       "4          imdb   Looks so good, has no heart.\\n The movie is a...  \n",
       "..          ...                                                ...  \n",
       "402        imdb   A heartfelt adaptation of the beloved Disney ...  \n",
       "403        imdb   ***1/2\\n The story follows the standard line ...  \n",
       "404        imdb   Giving Family Entertainment Back to the Famil...  \n",
       "405        imdb   A Great Retelling Fairy Tale! It is suitable ...  \n",
       "406        imdb   prefer no children see this\\n While this is f...  \n",
       "\n",
       "[6364 rows x 6 columns]"
      ]
     },
     "execution_count": 8,
     "metadata": {},
     "output_type": "execute_result"
    }
   ],
   "source": [
    "imdblka = imdblionking.append(imdbaladdin)\n",
    "imdblkabb = imdblka.append(imdbbeautyandbeast)\n",
    "imdblkabbjb = imdblkabb.append(imdbjunglebook)\n",
    "imdbfull = imdblkabbjb.append(imdbcinderella)\n",
    "imdbfull"
   ]
  },
  {
   "cell_type": "code",
   "execution_count": 9,
   "metadata": {
    "ExecuteTime": {
     "end_time": "2019-11-13T05:15:07.561753Z",
     "start_time": "2019-11-13T05:15:07.554549Z"
    }
   },
   "outputs": [],
   "source": [
    "imdbfull['rating'] = imdbfull.rating.str.replace('/10', '')"
   ]
  },
  {
   "cell_type": "code",
   "execution_count": 10,
   "metadata": {
    "ExecuteTime": {
     "end_time": "2019-11-13T05:15:07.571577Z",
     "start_time": "2019-11-13T05:15:07.562903Z"
    }
   },
   "outputs": [
    {
     "data": {
      "text/plain": [
       "0      1\n",
       "1      1\n",
       "2      1\n",
       "3      1\n",
       "4      3\n",
       "      ..\n",
       "402    7\n",
       "403    9\n",
       "404    8\n",
       "405    7\n",
       "406    7\n",
       "Name: rating, Length: 6231, dtype: int32"
      ]
     },
     "execution_count": 10,
     "metadata": {},
     "output_type": "execute_result"
    }
   ],
   "source": [
    "imdbfull.dropna(inplace=True)\n",
    "imdbfull['rating'].astype('int32', copy=False)"
   ]
  },
  {
   "cell_type": "code",
   "execution_count": 11,
   "metadata": {
    "ExecuteTime": {
     "end_time": "2019-11-13T05:15:07.579784Z",
     "start_time": "2019-11-13T05:15:07.572586Z"
    }
   },
   "outputs": [
    {
     "name": "stdout",
     "output_type": "stream",
     "text": [
      "<class 'pandas.core.frame.DataFrame'>\n",
      "Int64Index: 6231 entries, 0 to 406\n",
      "Data columns (total 6 columns):\n",
      "rating                      6231 non-null object\n",
      "review_title                6231 non-null object\n",
      "review_text                 6231 non-null object\n",
      "movie                       6231 non-null object\n",
      "review_site                 6231 non-null object\n",
      "concat_review_title_text    6231 non-null object\n",
      "dtypes: object(6)\n",
      "memory usage: 340.8+ KB\n"
     ]
    }
   ],
   "source": [
    "imdbfull['rating'].value_counts()\n",
    "imdbfull.info()"
   ]
  },
  {
   "cell_type": "code",
   "execution_count": 12,
   "metadata": {
    "ExecuteTime": {
     "end_time": "2019-11-13T05:15:07.584509Z",
     "start_time": "2019-11-13T05:15:07.580900Z"
    }
   },
   "outputs": [],
   "source": [
    "imdbfull['rating'] = imdbfull['rating'].astype('int32')"
   ]
  },
  {
   "cell_type": "code",
   "execution_count": 13,
   "metadata": {
    "ExecuteTime": {
     "end_time": "2019-11-13T05:15:07.589592Z",
     "start_time": "2019-11-13T05:15:07.585580Z"
    }
   },
   "outputs": [],
   "source": [
    "# imdbfull.loc[(imdbfull['rating'] < 5), 'sentiment'] = 'negative'\n",
    "# imdbfull.loc[imdbfull['rating'] > 6, 'sentiment'] = 'positive'\n",
    "# imdbfull.loc[imdbfull['rating'] == 5, 'sentiment'] = 'neutral'\n",
    "# imdbfull.loc[imdbfull['rating'] == 6, 'sentiment'] = 'neutral'\n",
    "\n",
    "\n",
    "imdbfull['sentiment'] = np.where(imdbfull.rating < 5, 'negative', \n",
    "                                 np.where(imdbfull.rating > 6, 'positive', 'neutral'))"
   ]
  },
  {
   "cell_type": "code",
   "execution_count": 14,
   "metadata": {
    "ExecuteTime": {
     "end_time": "2019-11-13T05:15:07.595482Z",
     "start_time": "2019-11-13T05:15:07.590697Z"
    }
   },
   "outputs": [
    {
     "data": {
      "text/plain": [
       "positive    3996\n",
       "negative    1323\n",
       "neutral      912\n",
       "Name: sentiment, dtype: int64"
      ]
     },
     "execution_count": 14,
     "metadata": {},
     "output_type": "execute_result"
    }
   ],
   "source": [
    "imdbfull['sentiment'].value_counts()"
   ]
  },
  {
   "cell_type": "code",
   "execution_count": 15,
   "metadata": {
    "ExecuteTime": {
     "end_time": "2019-11-13T05:15:07.601781Z",
     "start_time": "2019-11-13T05:15:07.596523Z"
    }
   },
   "outputs": [],
   "source": [
    "final_imdbfull = imdbfull.drop('review_title', axis = 1).drop('review_text', axis = 1)"
   ]
  },
  {
   "cell_type": "code",
   "execution_count": 16,
   "metadata": {
    "ExecuteTime": {
     "end_time": "2019-11-13T05:15:07.621044Z",
     "start_time": "2019-11-13T05:15:07.602842Z"
    }
   },
   "outputs": [],
   "source": [
    "rottenlka = rottenlionking.append(rottenaladdin)\n",
    "rottenlkabb = rottenlka.append(rottenbeautyandbeast)\n",
    "rottenlkabbjb = rottenlkabb.append(rottenjunglebook)\n",
    "rottenfull = rottenlkabbjb.append(rottencinderella)"
   ]
  },
  {
   "cell_type": "code",
   "execution_count": 17,
   "metadata": {
    "ExecuteTime": {
     "end_time": "2019-11-13T05:15:07.626850Z",
     "start_time": "2019-11-13T05:15:07.622822Z"
    }
   },
   "outputs": [],
   "source": [
    "rottenfull['rating'] = rottenfull['Stars'].astype('int32')"
   ]
  },
  {
   "cell_type": "code",
   "execution_count": 18,
   "metadata": {
    "ExecuteTime": {
     "end_time": "2019-11-13T05:15:07.638350Z",
     "start_time": "2019-11-13T05:15:07.628255Z"
    }
   },
   "outputs": [],
   "source": [
    "rottenfull['sentiment'] = np.where(rottenfull.rating < 3, 'negative', \n",
    "                                 np.where(rottenfull.rating > 3, 'positive', 'neutral'))"
   ]
  },
  {
   "cell_type": "code",
   "execution_count": 19,
   "metadata": {
    "ExecuteTime": {
     "end_time": "2019-11-13T05:15:07.648486Z",
     "start_time": "2019-11-13T05:15:07.639560Z"
    }
   },
   "outputs": [
    {
     "data": {
      "text/plain": [
       "positive    37288\n",
       "negative     6695\n",
       "neutral      6659\n",
       "Name: sentiment, dtype: int64"
      ]
     },
     "execution_count": 19,
     "metadata": {},
     "output_type": "execute_result"
    }
   ],
   "source": [
    "rottenfull['sentiment'].value_counts()"
   ]
  },
  {
   "cell_type": "code",
   "execution_count": 20,
   "metadata": {
    "ExecuteTime": {
     "end_time": "2019-11-13T05:15:07.658858Z",
     "start_time": "2019-11-13T05:15:07.649455Z"
    }
   },
   "outputs": [],
   "source": [
    "final_rottenfull = rottenfull.drop('Stars', axis = 1)"
   ]
  },
  {
   "cell_type": "code",
   "execution_count": 21,
   "metadata": {
    "ExecuteTime": {
     "end_time": "2019-11-13T05:15:07.669444Z",
     "start_time": "2019-11-13T05:15:07.660047Z"
    }
   },
   "outputs": [
    {
     "data": {
      "text/html": [
       "<div>\n",
       "<style scoped>\n",
       "    .dataframe tbody tr th:only-of-type {\n",
       "        vertical-align: middle;\n",
       "    }\n",
       "\n",
       "    .dataframe tbody tr th {\n",
       "        vertical-align: top;\n",
       "    }\n",
       "\n",
       "    .dataframe thead th {\n",
       "        text-align: right;\n",
       "    }\n",
       "</style>\n",
       "<table border=\"1\" class=\"dataframe\">\n",
       "  <thead>\n",
       "    <tr style=\"text-align: right;\">\n",
       "      <th></th>\n",
       "      <th>review_text</th>\n",
       "      <th>movie</th>\n",
       "      <th>review_site</th>\n",
       "      <th>rating</th>\n",
       "      <th>sentiment</th>\n",
       "    </tr>\n",
       "  </thead>\n",
       "  <tbody>\n",
       "    <tr>\n",
       "      <td>0</td>\n",
       "      <td>The visual effects are incredible, but almost ...</td>\n",
       "      <td>lionking</td>\n",
       "      <td>rottentomatoes</td>\n",
       "      <td>3</td>\n",
       "      <td>neutral</td>\n",
       "    </tr>\n",
       "    <tr>\n",
       "      <td>1</td>\n",
       "      <td>It was just as good as the jungle book I love ...</td>\n",
       "      <td>lionking</td>\n",
       "      <td>rottentomatoes</td>\n",
       "      <td>5</td>\n",
       "      <td>positive</td>\n",
       "    </tr>\n",
       "    <tr>\n",
       "      <td>2</td>\n",
       "      <td>Completely lacks everything that made the orig...</td>\n",
       "      <td>lionking</td>\n",
       "      <td>rottentomatoes</td>\n",
       "      <td>0</td>\n",
       "      <td>negative</td>\n",
       "    </tr>\n",
       "    <tr>\n",
       "      <td>3</td>\n",
       "      <td>They ruined an excellent movie. Songs are cut ...</td>\n",
       "      <td>lionking</td>\n",
       "      <td>rottentomatoes</td>\n",
       "      <td>0</td>\n",
       "      <td>negative</td>\n",
       "    </tr>\n",
       "    <tr>\n",
       "      <td>4</td>\n",
       "      <td>The Lion King is a retelling of the masterful ...</td>\n",
       "      <td>lionking</td>\n",
       "      <td>rottentomatoes</td>\n",
       "      <td>3</td>\n",
       "      <td>neutral</td>\n",
       "    </tr>\n",
       "    <tr>\n",
       "      <td>...</td>\n",
       "      <td>...</td>\n",
       "      <td>...</td>\n",
       "      <td>...</td>\n",
       "      <td>...</td>\n",
       "      <td>...</td>\n",
       "    </tr>\n",
       "    <tr>\n",
       "      <td>3040</td>\n",
       "      <td>A magically wonderful film filled with adventu...</td>\n",
       "      <td>cinderella</td>\n",
       "      <td>rottentomatoes</td>\n",
       "      <td>5</td>\n",
       "      <td>positive</td>\n",
       "    </tr>\n",
       "    <tr>\n",
       "      <td>3041</td>\n",
       "      <td>Disney has overdid the faithfulness of their o...</td>\n",
       "      <td>cinderella</td>\n",
       "      <td>rottentomatoes</td>\n",
       "      <td>4</td>\n",
       "      <td>positive</td>\n",
       "    </tr>\n",
       "    <tr>\n",
       "      <td>3042</td>\n",
       "      <td>Magic....that's about right. A re-tell of the ...</td>\n",
       "      <td>cinderella</td>\n",
       "      <td>rottentomatoes</td>\n",
       "      <td>4</td>\n",
       "      <td>positive</td>\n",
       "    </tr>\n",
       "    <tr>\n",
       "      <td>3043</td>\n",
       "      <td>A good movie that sets it apart from the origi...</td>\n",
       "      <td>cinderella</td>\n",
       "      <td>rottentomatoes</td>\n",
       "      <td>4</td>\n",
       "      <td>positive</td>\n",
       "    </tr>\n",
       "    <tr>\n",
       "      <td>3044</td>\n",
       "      <td>It's the Cinderella you know but it's really d...</td>\n",
       "      <td>cinderella</td>\n",
       "      <td>rottentomatoes</td>\n",
       "      <td>4</td>\n",
       "      <td>positive</td>\n",
       "    </tr>\n",
       "  </tbody>\n",
       "</table>\n",
       "<p>50642 rows × 5 columns</p>\n",
       "</div>"
      ],
      "text/plain": [
       "                                            review_text       movie  \\\n",
       "0     The visual effects are incredible, but almost ...    lionking   \n",
       "1     It was just as good as the jungle book I love ...    lionking   \n",
       "2     Completely lacks everything that made the orig...    lionking   \n",
       "3     They ruined an excellent movie. Songs are cut ...    lionking   \n",
       "4     The Lion King is a retelling of the masterful ...    lionking   \n",
       "...                                                 ...         ...   \n",
       "3040  A magically wonderful film filled with adventu...  cinderella   \n",
       "3041  Disney has overdid the faithfulness of their o...  cinderella   \n",
       "3042  Magic....that's about right. A re-tell of the ...  cinderella   \n",
       "3043  A good movie that sets it apart from the origi...  cinderella   \n",
       "3044  It's the Cinderella you know but it's really d...  cinderella   \n",
       "\n",
       "         review_site  rating sentiment  \n",
       "0     rottentomatoes       3   neutral  \n",
       "1     rottentomatoes       5  positive  \n",
       "2     rottentomatoes       0  negative  \n",
       "3     rottentomatoes       0  negative  \n",
       "4     rottentomatoes       3   neutral  \n",
       "...              ...     ...       ...  \n",
       "3040  rottentomatoes       5  positive  \n",
       "3041  rottentomatoes       4  positive  \n",
       "3042  rottentomatoes       4  positive  \n",
       "3043  rottentomatoes       4  positive  \n",
       "3044  rottentomatoes       4  positive  \n",
       "\n",
       "[50642 rows x 5 columns]"
      ]
     },
     "execution_count": 21,
     "metadata": {},
     "output_type": "execute_result"
    }
   ],
   "source": [
    "final_rottenfull"
   ]
  },
  {
   "cell_type": "code",
   "execution_count": 22,
   "metadata": {
    "ExecuteTime": {
     "end_time": "2019-11-13T05:15:07.678808Z",
     "start_time": "2019-11-13T05:15:07.670528Z"
    }
   },
   "outputs": [
    {
     "data": {
      "text/html": [
       "<div>\n",
       "<style scoped>\n",
       "    .dataframe tbody tr th:only-of-type {\n",
       "        vertical-align: middle;\n",
       "    }\n",
       "\n",
       "    .dataframe tbody tr th {\n",
       "        vertical-align: top;\n",
       "    }\n",
       "\n",
       "    .dataframe thead th {\n",
       "        text-align: right;\n",
       "    }\n",
       "</style>\n",
       "<table border=\"1\" class=\"dataframe\">\n",
       "  <thead>\n",
       "    <tr style=\"text-align: right;\">\n",
       "      <th></th>\n",
       "      <th>rating</th>\n",
       "      <th>movie</th>\n",
       "      <th>review_site</th>\n",
       "      <th>concat_review_title_text</th>\n",
       "      <th>sentiment</th>\n",
       "    </tr>\n",
       "  </thead>\n",
       "  <tbody>\n",
       "    <tr>\n",
       "      <td>0</td>\n",
       "      <td>1</td>\n",
       "      <td>lionking</td>\n",
       "      <td>imdb</td>\n",
       "      <td>Disney, WHAT. HAVE. YOU. DONE\\n Just to be cl...</td>\n",
       "      <td>negative</td>\n",
       "    </tr>\n",
       "    <tr>\n",
       "      <td>1</td>\n",
       "      <td>1</td>\n",
       "      <td>lionking</td>\n",
       "      <td>imdb</td>\n",
       "      <td>No soul.\\n The original Lion King is one of m...</td>\n",
       "      <td>negative</td>\n",
       "    </tr>\n",
       "    <tr>\n",
       "      <td>2</td>\n",
       "      <td>1</td>\n",
       "      <td>lionking</td>\n",
       "      <td>imdb</td>\n",
       "      <td>Shocking flat. Lacked any emotion. Completely...</td>\n",
       "      <td>negative</td>\n",
       "    </tr>\n",
       "    <tr>\n",
       "      <td>3</td>\n",
       "      <td>1</td>\n",
       "      <td>lionking</td>\n",
       "      <td>imdb</td>\n",
       "      <td>Ruined the music\\n Felt like a corporate movi...</td>\n",
       "      <td>negative</td>\n",
       "    </tr>\n",
       "    <tr>\n",
       "      <td>4</td>\n",
       "      <td>3</td>\n",
       "      <td>lionking</td>\n",
       "      <td>imdb</td>\n",
       "      <td>Looks so good, has no heart.\\n The movie is a...</td>\n",
       "      <td>negative</td>\n",
       "    </tr>\n",
       "    <tr>\n",
       "      <td>...</td>\n",
       "      <td>...</td>\n",
       "      <td>...</td>\n",
       "      <td>...</td>\n",
       "      <td>...</td>\n",
       "      <td>...</td>\n",
       "    </tr>\n",
       "    <tr>\n",
       "      <td>402</td>\n",
       "      <td>7</td>\n",
       "      <td>cinderella</td>\n",
       "      <td>imdb</td>\n",
       "      <td>A heartfelt adaptation of the beloved Disney ...</td>\n",
       "      <td>positive</td>\n",
       "    </tr>\n",
       "    <tr>\n",
       "      <td>403</td>\n",
       "      <td>9</td>\n",
       "      <td>cinderella</td>\n",
       "      <td>imdb</td>\n",
       "      <td>***1/2\\n The story follows the standard line ...</td>\n",
       "      <td>positive</td>\n",
       "    </tr>\n",
       "    <tr>\n",
       "      <td>404</td>\n",
       "      <td>8</td>\n",
       "      <td>cinderella</td>\n",
       "      <td>imdb</td>\n",
       "      <td>Giving Family Entertainment Back to the Famil...</td>\n",
       "      <td>positive</td>\n",
       "    </tr>\n",
       "    <tr>\n",
       "      <td>405</td>\n",
       "      <td>7</td>\n",
       "      <td>cinderella</td>\n",
       "      <td>imdb</td>\n",
       "      <td>A Great Retelling Fairy Tale! It is suitable ...</td>\n",
       "      <td>positive</td>\n",
       "    </tr>\n",
       "    <tr>\n",
       "      <td>406</td>\n",
       "      <td>7</td>\n",
       "      <td>cinderella</td>\n",
       "      <td>imdb</td>\n",
       "      <td>prefer no children see this\\n While this is f...</td>\n",
       "      <td>positive</td>\n",
       "    </tr>\n",
       "  </tbody>\n",
       "</table>\n",
       "<p>6231 rows × 5 columns</p>\n",
       "</div>"
      ],
      "text/plain": [
       "     rating       movie review_site  \\\n",
       "0         1    lionking        imdb   \n",
       "1         1    lionking        imdb   \n",
       "2         1    lionking        imdb   \n",
       "3         1    lionking        imdb   \n",
       "4         3    lionking        imdb   \n",
       "..      ...         ...         ...   \n",
       "402       7  cinderella        imdb   \n",
       "403       9  cinderella        imdb   \n",
       "404       8  cinderella        imdb   \n",
       "405       7  cinderella        imdb   \n",
       "406       7  cinderella        imdb   \n",
       "\n",
       "                              concat_review_title_text sentiment  \n",
       "0     Disney, WHAT. HAVE. YOU. DONE\\n Just to be cl...  negative  \n",
       "1     No soul.\\n The original Lion King is one of m...  negative  \n",
       "2     Shocking flat. Lacked any emotion. Completely...  negative  \n",
       "3     Ruined the music\\n Felt like a corporate movi...  negative  \n",
       "4     Looks so good, has no heart.\\n The movie is a...  negative  \n",
       "..                                                 ...       ...  \n",
       "402   A heartfelt adaptation of the beloved Disney ...  positive  \n",
       "403   ***1/2\\n The story follows the standard line ...  positive  \n",
       "404   Giving Family Entertainment Back to the Famil...  positive  \n",
       "405   A Great Retelling Fairy Tale! It is suitable ...  positive  \n",
       "406   prefer no children see this\\n While this is f...  positive  \n",
       "\n",
       "[6231 rows x 5 columns]"
      ]
     },
     "execution_count": 22,
     "metadata": {},
     "output_type": "execute_result"
    }
   ],
   "source": [
    "final_imdbfull"
   ]
  },
  {
   "cell_type": "code",
   "execution_count": 23,
   "metadata": {
    "ExecuteTime": {
     "end_time": "2019-11-13T05:15:07.684946Z",
     "start_time": "2019-11-13T05:15:07.681773Z"
    }
   },
   "outputs": [],
   "source": [
    "final_imdbfull = final_imdbfull.reindex(columns=['concat_review_title_text', 'movie', 'review_site', 'rating', 'sentiment'])\n"
   ]
  },
  {
   "cell_type": "code",
   "execution_count": 24,
   "metadata": {
    "ExecuteTime": {
     "end_time": "2019-11-13T05:15:07.689645Z",
     "start_time": "2019-11-13T05:15:07.686730Z"
    }
   },
   "outputs": [],
   "source": [
    "final_imdbfull.rename(columns={\"concat_review_title_text\": \"review_text\"}, inplace=True)"
   ]
  },
  {
   "cell_type": "code",
   "execution_count": 25,
   "metadata": {
    "ExecuteTime": {
     "end_time": "2019-11-13T05:15:07.699050Z",
     "start_time": "2019-11-13T05:15:07.690792Z"
    }
   },
   "outputs": [],
   "source": [
    "full_df = final_imdbfull.append(final_rottenfull)"
   ]
  },
  {
   "cell_type": "code",
   "execution_count": 26,
   "metadata": {
    "ExecuteTime": {
     "end_time": "2019-11-13T05:15:07.709845Z",
     "start_time": "2019-11-13T05:15:07.700171Z"
    }
   },
   "outputs": [
    {
     "data": {
      "text/html": [
       "<div>\n",
       "<style scoped>\n",
       "    .dataframe tbody tr th:only-of-type {\n",
       "        vertical-align: middle;\n",
       "    }\n",
       "\n",
       "    .dataframe tbody tr th {\n",
       "        vertical-align: top;\n",
       "    }\n",
       "\n",
       "    .dataframe thead th {\n",
       "        text-align: right;\n",
       "    }\n",
       "</style>\n",
       "<table border=\"1\" class=\"dataframe\">\n",
       "  <thead>\n",
       "    <tr style=\"text-align: right;\">\n",
       "      <th></th>\n",
       "      <th>review_text</th>\n",
       "      <th>movie</th>\n",
       "      <th>review_site</th>\n",
       "      <th>rating</th>\n",
       "      <th>sentiment</th>\n",
       "    </tr>\n",
       "  </thead>\n",
       "  <tbody>\n",
       "    <tr>\n",
       "      <td>0</td>\n",
       "      <td>Disney, WHAT. HAVE. YOU. DONE\\n Just to be cl...</td>\n",
       "      <td>lionking</td>\n",
       "      <td>imdb</td>\n",
       "      <td>1</td>\n",
       "      <td>negative</td>\n",
       "    </tr>\n",
       "    <tr>\n",
       "      <td>1</td>\n",
       "      <td>No soul.\\n The original Lion King is one of m...</td>\n",
       "      <td>lionking</td>\n",
       "      <td>imdb</td>\n",
       "      <td>1</td>\n",
       "      <td>negative</td>\n",
       "    </tr>\n",
       "    <tr>\n",
       "      <td>2</td>\n",
       "      <td>Shocking flat. Lacked any emotion. Completely...</td>\n",
       "      <td>lionking</td>\n",
       "      <td>imdb</td>\n",
       "      <td>1</td>\n",
       "      <td>negative</td>\n",
       "    </tr>\n",
       "    <tr>\n",
       "      <td>3</td>\n",
       "      <td>Ruined the music\\n Felt like a corporate movi...</td>\n",
       "      <td>lionking</td>\n",
       "      <td>imdb</td>\n",
       "      <td>1</td>\n",
       "      <td>negative</td>\n",
       "    </tr>\n",
       "    <tr>\n",
       "      <td>4</td>\n",
       "      <td>Looks so good, has no heart.\\n The movie is a...</td>\n",
       "      <td>lionking</td>\n",
       "      <td>imdb</td>\n",
       "      <td>3</td>\n",
       "      <td>negative</td>\n",
       "    </tr>\n",
       "    <tr>\n",
       "      <td>...</td>\n",
       "      <td>...</td>\n",
       "      <td>...</td>\n",
       "      <td>...</td>\n",
       "      <td>...</td>\n",
       "      <td>...</td>\n",
       "    </tr>\n",
       "    <tr>\n",
       "      <td>3040</td>\n",
       "      <td>A magically wonderful film filled with adventu...</td>\n",
       "      <td>cinderella</td>\n",
       "      <td>rottentomatoes</td>\n",
       "      <td>5</td>\n",
       "      <td>positive</td>\n",
       "    </tr>\n",
       "    <tr>\n",
       "      <td>3041</td>\n",
       "      <td>Disney has overdid the faithfulness of their o...</td>\n",
       "      <td>cinderella</td>\n",
       "      <td>rottentomatoes</td>\n",
       "      <td>4</td>\n",
       "      <td>positive</td>\n",
       "    </tr>\n",
       "    <tr>\n",
       "      <td>3042</td>\n",
       "      <td>Magic....that's about right. A re-tell of the ...</td>\n",
       "      <td>cinderella</td>\n",
       "      <td>rottentomatoes</td>\n",
       "      <td>4</td>\n",
       "      <td>positive</td>\n",
       "    </tr>\n",
       "    <tr>\n",
       "      <td>3043</td>\n",
       "      <td>A good movie that sets it apart from the origi...</td>\n",
       "      <td>cinderella</td>\n",
       "      <td>rottentomatoes</td>\n",
       "      <td>4</td>\n",
       "      <td>positive</td>\n",
       "    </tr>\n",
       "    <tr>\n",
       "      <td>3044</td>\n",
       "      <td>It's the Cinderella you know but it's really d...</td>\n",
       "      <td>cinderella</td>\n",
       "      <td>rottentomatoes</td>\n",
       "      <td>4</td>\n",
       "      <td>positive</td>\n",
       "    </tr>\n",
       "  </tbody>\n",
       "</table>\n",
       "<p>56873 rows × 5 columns</p>\n",
       "</div>"
      ],
      "text/plain": [
       "                                            review_text       movie  \\\n",
       "0      Disney, WHAT. HAVE. YOU. DONE\\n Just to be cl...    lionking   \n",
       "1      No soul.\\n The original Lion King is one of m...    lionking   \n",
       "2      Shocking flat. Lacked any emotion. Completely...    lionking   \n",
       "3      Ruined the music\\n Felt like a corporate movi...    lionking   \n",
       "4      Looks so good, has no heart.\\n The movie is a...    lionking   \n",
       "...                                                 ...         ...   \n",
       "3040  A magically wonderful film filled with adventu...  cinderella   \n",
       "3041  Disney has overdid the faithfulness of their o...  cinderella   \n",
       "3042  Magic....that's about right. A re-tell of the ...  cinderella   \n",
       "3043  A good movie that sets it apart from the origi...  cinderella   \n",
       "3044  It's the Cinderella you know but it's really d...  cinderella   \n",
       "\n",
       "         review_site  rating sentiment  \n",
       "0               imdb       1  negative  \n",
       "1               imdb       1  negative  \n",
       "2               imdb       1  negative  \n",
       "3               imdb       1  negative  \n",
       "4               imdb       3  negative  \n",
       "...              ...     ...       ...  \n",
       "3040  rottentomatoes       5  positive  \n",
       "3041  rottentomatoes       4  positive  \n",
       "3042  rottentomatoes       4  positive  \n",
       "3043  rottentomatoes       4  positive  \n",
       "3044  rottentomatoes       4  positive  \n",
       "\n",
       "[56873 rows x 5 columns]"
      ]
     },
     "execution_count": 26,
     "metadata": {},
     "output_type": "execute_result"
    }
   ],
   "source": [
    "full_df"
   ]
  },
  {
   "cell_type": "code",
   "execution_count": 27,
   "metadata": {
    "ExecuteTime": {
     "end_time": "2019-11-13T05:15:07.746142Z",
     "start_time": "2019-11-13T05:15:07.710906Z"
    }
   },
   "outputs": [
    {
     "data": {
      "text/html": [
       "<div>\n",
       "<style scoped>\n",
       "    .dataframe tbody tr th:only-of-type {\n",
       "        vertical-align: middle;\n",
       "    }\n",
       "\n",
       "    .dataframe tbody tr th {\n",
       "        vertical-align: top;\n",
       "    }\n",
       "\n",
       "    .dataframe thead th {\n",
       "        text-align: right;\n",
       "    }\n",
       "</style>\n",
       "<table border=\"1\" class=\"dataframe\">\n",
       "  <thead>\n",
       "    <tr style=\"text-align: right;\">\n",
       "      <th></th>\n",
       "      <th>review_text</th>\n",
       "      <th>movie</th>\n",
       "      <th>review_site</th>\n",
       "      <th>rating</th>\n",
       "      <th>sentiment</th>\n",
       "    </tr>\n",
       "  </thead>\n",
       "  <tbody>\n",
       "    <tr>\n",
       "      <td>0</td>\n",
       "      <td>Disney, WHAT. HAVE. YOU. DONE\\n Just to be cl...</td>\n",
       "      <td>lionking</td>\n",
       "      <td>imdb</td>\n",
       "      <td>1</td>\n",
       "      <td>negative</td>\n",
       "    </tr>\n",
       "    <tr>\n",
       "      <td>1</td>\n",
       "      <td>No soul.\\n The original Lion King is one of m...</td>\n",
       "      <td>lionking</td>\n",
       "      <td>imdb</td>\n",
       "      <td>1</td>\n",
       "      <td>negative</td>\n",
       "    </tr>\n",
       "    <tr>\n",
       "      <td>5</td>\n",
       "      <td>Seriously?\\n So anyone else notice it has a h...</td>\n",
       "      <td>lionking</td>\n",
       "      <td>imdb</td>\n",
       "      <td>1</td>\n",
       "      <td>negative</td>\n",
       "    </tr>\n",
       "    <tr>\n",
       "      <td>6</td>\n",
       "      <td>Overrated and way too much spotlight on beyon...</td>\n",
       "      <td>lionking</td>\n",
       "      <td>imdb</td>\n",
       "      <td>1</td>\n",
       "      <td>negative</td>\n",
       "    </tr>\n",
       "    <tr>\n",
       "      <td>8</td>\n",
       "      <td>Terrible acting!! Doesn't compare to the orig...</td>\n",
       "      <td>lionking</td>\n",
       "      <td>imdb</td>\n",
       "      <td>1</td>\n",
       "      <td>negative</td>\n",
       "    </tr>\n",
       "    <tr>\n",
       "      <td>...</td>\n",
       "      <td>...</td>\n",
       "      <td>...</td>\n",
       "      <td>...</td>\n",
       "      <td>...</td>\n",
       "      <td>...</td>\n",
       "    </tr>\n",
       "    <tr>\n",
       "      <td>3040</td>\n",
       "      <td>A magically wonderful film filled with adventu...</td>\n",
       "      <td>cinderella</td>\n",
       "      <td>rottentomatoes</td>\n",
       "      <td>5</td>\n",
       "      <td>positive</td>\n",
       "    </tr>\n",
       "    <tr>\n",
       "      <td>3041</td>\n",
       "      <td>Disney has overdid the faithfulness of their o...</td>\n",
       "      <td>cinderella</td>\n",
       "      <td>rottentomatoes</td>\n",
       "      <td>4</td>\n",
       "      <td>positive</td>\n",
       "    </tr>\n",
       "    <tr>\n",
       "      <td>3042</td>\n",
       "      <td>Magic....that's about right. A re-tell of the ...</td>\n",
       "      <td>cinderella</td>\n",
       "      <td>rottentomatoes</td>\n",
       "      <td>4</td>\n",
       "      <td>positive</td>\n",
       "    </tr>\n",
       "    <tr>\n",
       "      <td>3043</td>\n",
       "      <td>A good movie that sets it apart from the origi...</td>\n",
       "      <td>cinderella</td>\n",
       "      <td>rottentomatoes</td>\n",
       "      <td>4</td>\n",
       "      <td>positive</td>\n",
       "    </tr>\n",
       "    <tr>\n",
       "      <td>3044</td>\n",
       "      <td>It's the Cinderella you know but it's really d...</td>\n",
       "      <td>cinderella</td>\n",
       "      <td>rottentomatoes</td>\n",
       "      <td>4</td>\n",
       "      <td>positive</td>\n",
       "    </tr>\n",
       "  </tbody>\n",
       "</table>\n",
       "<p>51512 rows × 5 columns</p>\n",
       "</div>"
      ],
      "text/plain": [
       "                                            review_text       movie  \\\n",
       "0      Disney, WHAT. HAVE. YOU. DONE\\n Just to be cl...    lionking   \n",
       "1      No soul.\\n The original Lion King is one of m...    lionking   \n",
       "5      Seriously?\\n So anyone else notice it has a h...    lionking   \n",
       "6      Overrated and way too much spotlight on beyon...    lionking   \n",
       "8      Terrible acting!! Doesn't compare to the orig...    lionking   \n",
       "...                                                 ...         ...   \n",
       "3040  A magically wonderful film filled with adventu...  cinderella   \n",
       "3041  Disney has overdid the faithfulness of their o...  cinderella   \n",
       "3042  Magic....that's about right. A re-tell of the ...  cinderella   \n",
       "3043  A good movie that sets it apart from the origi...  cinderella   \n",
       "3044  It's the Cinderella you know but it's really d...  cinderella   \n",
       "\n",
       "         review_site  rating sentiment  \n",
       "0               imdb       1  negative  \n",
       "1               imdb       1  negative  \n",
       "5               imdb       1  negative  \n",
       "6               imdb       1  negative  \n",
       "8               imdb       1  negative  \n",
       "...              ...     ...       ...  \n",
       "3040  rottentomatoes       5  positive  \n",
       "3041  rottentomatoes       4  positive  \n",
       "3042  rottentomatoes       4  positive  \n",
       "3043  rottentomatoes       4  positive  \n",
       "3044  rottentomatoes       4  positive  \n",
       "\n",
       "[51512 rows x 5 columns]"
      ]
     },
     "execution_count": 27,
     "metadata": {},
     "output_type": "execute_result"
    }
   ],
   "source": [
    "#drop ratings of zeroes ('N/A')\n",
    "full_df.drop(full_df.index[full_df['rating'] == 0], inplace = True)\n",
    "full_df\n",
    "\n",
    "\n",
    "#reduce docs to n dimensions: do clustering --> read a few articles; what do they have in common? \n",
    "#ex. if the clusters are talking about certain topics, identify patterns (clustering is the MVP)"
   ]
  },
  {
   "cell_type": "code",
   "execution_count": 28,
   "metadata": {
    "ExecuteTime": {
     "end_time": "2019-11-13T05:15:07.793187Z",
     "start_time": "2019-11-13T05:15:07.747607Z"
    }
   },
   "outputs": [],
   "source": [
    "full_df.to_pickle('full_df.pkl')"
   ]
  },
  {
   "cell_type": "markdown",
   "metadata": {},
   "source": [
    "# Text Pre-Processing"
   ]
  },
  {
   "cell_type": "markdown",
   "metadata": {},
   "source": [
    "1. Lowercase all text? \n",
    "2. Remove stop words\n",
    "3. Remove emojis\n",
    "4. Lemmatization (to convert words to their base words)\n",
    "5. Unigrams/bi-grams/tri-grams? "
   ]
  },
  {
   "cell_type": "code",
   "execution_count": 29,
   "metadata": {
    "ExecuteTime": {
     "end_time": "2019-11-13T05:15:07.843922Z",
     "start_time": "2019-11-13T05:15:07.794647Z"
    }
   },
   "outputs": [
    {
     "data": {
      "text/html": [
       "<div>\n",
       "<style scoped>\n",
       "    .dataframe tbody tr th:only-of-type {\n",
       "        vertical-align: middle;\n",
       "    }\n",
       "\n",
       "    .dataframe tbody tr th {\n",
       "        vertical-align: top;\n",
       "    }\n",
       "\n",
       "    .dataframe thead th {\n",
       "        text-align: right;\n",
       "    }\n",
       "</style>\n",
       "<table border=\"1\" class=\"dataframe\">\n",
       "  <thead>\n",
       "    <tr style=\"text-align: right;\">\n",
       "      <th></th>\n",
       "      <th>review_text</th>\n",
       "      <th>movie</th>\n",
       "      <th>review_site</th>\n",
       "      <th>rating</th>\n",
       "      <th>sentiment</th>\n",
       "    </tr>\n",
       "  </thead>\n",
       "  <tbody>\n",
       "    <tr>\n",
       "      <td>0</td>\n",
       "      <td>Disney, WHAT. HAVE. YOU. DONE Just to be clea...</td>\n",
       "      <td>lionking</td>\n",
       "      <td>imdb</td>\n",
       "      <td>1</td>\n",
       "      <td>negative</td>\n",
       "    </tr>\n",
       "    <tr>\n",
       "      <td>1</td>\n",
       "      <td>No soul. The original Lion King is one of my ...</td>\n",
       "      <td>lionking</td>\n",
       "      <td>imdb</td>\n",
       "      <td>1</td>\n",
       "      <td>negative</td>\n",
       "    </tr>\n",
       "    <tr>\n",
       "      <td>5</td>\n",
       "      <td>Seriously? So anyone else notice it has a hig...</td>\n",
       "      <td>lionking</td>\n",
       "      <td>imdb</td>\n",
       "      <td>1</td>\n",
       "      <td>negative</td>\n",
       "    </tr>\n",
       "    <tr>\n",
       "      <td>6</td>\n",
       "      <td>Overrated and way too much spotlight on beyon...</td>\n",
       "      <td>lionking</td>\n",
       "      <td>imdb</td>\n",
       "      <td>1</td>\n",
       "      <td>negative</td>\n",
       "    </tr>\n",
       "    <tr>\n",
       "      <td>8</td>\n",
       "      <td>Terrible acting!! Doesn't compare to the orig...</td>\n",
       "      <td>lionking</td>\n",
       "      <td>imdb</td>\n",
       "      <td>1</td>\n",
       "      <td>negative</td>\n",
       "    </tr>\n",
       "    <tr>\n",
       "      <td>...</td>\n",
       "      <td>...</td>\n",
       "      <td>...</td>\n",
       "      <td>...</td>\n",
       "      <td>...</td>\n",
       "      <td>...</td>\n",
       "    </tr>\n",
       "    <tr>\n",
       "      <td>3040</td>\n",
       "      <td>A magically wonderful film filled with adventu...</td>\n",
       "      <td>cinderella</td>\n",
       "      <td>rottentomatoes</td>\n",
       "      <td>5</td>\n",
       "      <td>positive</td>\n",
       "    </tr>\n",
       "    <tr>\n",
       "      <td>3041</td>\n",
       "      <td>Disney has overdid the faithfulness of their o...</td>\n",
       "      <td>cinderella</td>\n",
       "      <td>rottentomatoes</td>\n",
       "      <td>4</td>\n",
       "      <td>positive</td>\n",
       "    </tr>\n",
       "    <tr>\n",
       "      <td>3042</td>\n",
       "      <td>Magic....that's about right. A re-tell of the ...</td>\n",
       "      <td>cinderella</td>\n",
       "      <td>rottentomatoes</td>\n",
       "      <td>4</td>\n",
       "      <td>positive</td>\n",
       "    </tr>\n",
       "    <tr>\n",
       "      <td>3043</td>\n",
       "      <td>A good movie that sets it apart from the origi...</td>\n",
       "      <td>cinderella</td>\n",
       "      <td>rottentomatoes</td>\n",
       "      <td>4</td>\n",
       "      <td>positive</td>\n",
       "    </tr>\n",
       "    <tr>\n",
       "      <td>3044</td>\n",
       "      <td>It's the Cinderella you know but it's really d...</td>\n",
       "      <td>cinderella</td>\n",
       "      <td>rottentomatoes</td>\n",
       "      <td>4</td>\n",
       "      <td>positive</td>\n",
       "    </tr>\n",
       "  </tbody>\n",
       "</table>\n",
       "<p>51512 rows × 5 columns</p>\n",
       "</div>"
      ],
      "text/plain": [
       "                                            review_text       movie  \\\n",
       "0      Disney, WHAT. HAVE. YOU. DONE Just to be clea...    lionking   \n",
       "1      No soul. The original Lion King is one of my ...    lionking   \n",
       "5      Seriously? So anyone else notice it has a hig...    lionking   \n",
       "6      Overrated and way too much spotlight on beyon...    lionking   \n",
       "8      Terrible acting!! Doesn't compare to the orig...    lionking   \n",
       "...                                                 ...         ...   \n",
       "3040  A magically wonderful film filled with adventu...  cinderella   \n",
       "3041  Disney has overdid the faithfulness of their o...  cinderella   \n",
       "3042  Magic....that's about right. A re-tell of the ...  cinderella   \n",
       "3043  A good movie that sets it apart from the origi...  cinderella   \n",
       "3044  It's the Cinderella you know but it's really d...  cinderella   \n",
       "\n",
       "         review_site  rating sentiment  \n",
       "0               imdb       1  negative  \n",
       "1               imdb       1  negative  \n",
       "5               imdb       1  negative  \n",
       "6               imdb       1  negative  \n",
       "8               imdb       1  negative  \n",
       "...              ...     ...       ...  \n",
       "3040  rottentomatoes       5  positive  \n",
       "3041  rottentomatoes       4  positive  \n",
       "3042  rottentomatoes       4  positive  \n",
       "3043  rottentomatoes       4  positive  \n",
       "3044  rottentomatoes       4  positive  \n",
       "\n",
       "[51512 rows x 5 columns]"
      ]
     },
     "execution_count": 29,
     "metadata": {},
     "output_type": "execute_result"
    }
   ],
   "source": [
    "full_df['review_text'] = full_df['review_text'].str.replace('\\n','')\n",
    "full_df"
   ]
  },
  {
   "cell_type": "code",
   "execution_count": 30,
   "metadata": {
    "ExecuteTime": {
     "end_time": "2019-11-13T05:15:08.499553Z",
     "start_time": "2019-11-13T05:15:07.845431Z"
    }
   },
   "outputs": [],
   "source": [
    "import string\n",
    "import spacy\n",
    "from spacy import displacy\n",
    "from spacymoji import Emoji\n",
    "from spacy import lemmatizer\n",
    "from spacy.lookups import Lookups"
   ]
  },
  {
   "cell_type": "code",
   "execution_count": 31,
   "metadata": {
    "ExecuteTime": {
     "end_time": "2019-11-13T05:15:09.486168Z",
     "start_time": "2019-11-13T05:15:08.500935Z"
    }
   },
   "outputs": [
    {
     "data": {
      "text/plain": [
       "[('emoji', <spacymoji.Emoji at 0x1270ccf28>),\n",
       " ('merge_noun_chunks',\n",
       "  <function spacy.pipeline.functions.merge_noun_chunks(doc)>),\n",
       " ('merge_entities', <function spacy.pipeline.functions.merge_entities(doc)>)]"
      ]
     },
     "execution_count": 31,
     "metadata": {},
     "output_type": "execute_result"
    }
   ],
   "source": [
    "nlp = spacy.load('en_core_web_sm')\n",
    "\n",
    "# Word tokenization\n",
    "from spacy.lang.en import English\n",
    "\n",
    "# Load English tokenizer, tagger, parser, NER and word vectors\n",
    "nlp = English()\n",
    "\n",
    "emoji = Emoji(nlp)\n",
    "nlp.add_pipe(emoji, first=True)\n",
    "merge_nps = nlp.create_pipe('merge_noun_chunks')\n",
    "nlp.add_pipe(merge_nps)\n",
    "merge_ent = nlp.create_pipe('merge_entities')\n",
    "nlp.add_pipe(merge_ent)\n",
    "nlp.pipeline\n"
   ]
  },
  {
   "cell_type": "code",
   "execution_count": 32,
   "metadata": {
    "ExecuteTime": {
     "end_time": "2019-11-13T05:15:27.268654Z",
     "start_time": "2019-11-13T05:15:09.487540Z"
    }
   },
   "outputs": [
    {
     "name": "stdout",
     "output_type": "stream",
     "text": [
      "[\"'d\", \"'ll\", \"'m\", \"'re\", \"'s\", \"'ve\", 'a', 'about', 'across', 'after', 'afterwards', 'again', 'all', 'almost', 'alone', 'along', 'already', 'also', 'although', 'always', 'am', 'among', 'amongst', 'amount', 'an', 'and', 'any', 'anyhow', 'anyone', 'anything', 'anyway', 'anywhere', 'are', 'around', 'as', 'at', 'back', 'be', 'became', 'because', 'become', 'becomes', 'becoming', 'been', 'before', 'beforehand', 'behind', 'being', 'beside', 'besides', 'between', 'beyond', 'both', 'bottom', 'but', 'by', 'ca', 'call', 'can', 'could', 'did', 'do', 'does', 'doing', 'done', 'down', 'due', 'during', 'each', 'eight', 'either', 'eleven', 'else', 'elsewhere', 'even', 'ever', 'every', 'everyone', 'everything', 'everywhere', 'few', 'fifteen', 'fifty', 'five', 'for', 'former', 'formerly', 'forty', 'four', 'from', 'front', 'full', 'further', 'get', 'had', 'has', 'have', 'he', 'hence', 'her', 'here', 'hereafter', 'hereby', 'herein', 'hereupon', 'hers', 'herself', 'him', 'himself', 'his', 'how', 'however', 'hundred', 'i', 'if', 'in', 'indeed', 'into', 'is', 'it', 'its', 'itself', 'just', 'keep', 'latter', 'latterly', 'made', 'many', 'may', 'me', 'meanwhile', 'might', 'mine', 'moreover', 'mostly', 'much', 'must', 'my', 'myself', \"n't\", 'name', 'namely', 'neither', 'nevertheless', 'next', 'nine', 'nobody', 'none', 'noone', 'nor', 'now', 'nowhere', 'n‘t', 'n’t', 'of', 'often', 'on', 'one', 'onto', 'or', 'others', 'otherwise', 'our', 'ours', 'ourselves', 'out', 'over', 'own', 'part', 'per', 'perhaps', 'please', 'put', 'quite', 'rather', 're', 'really', 'regarding', 'same', 'say', 'see', 'seem', 'seemed', 'seeming', 'seems', 'serious', 'several', 'she', 'should', 'show', 'side', 'since', 'six', 'sixty', 'so', 'some', 'somehow', 'someone', 'something', 'sometime', 'sometimes', 'somewhere', 'still', 'such', 'take', 'ten', 'than', 'that', 'the', 'their', 'them', 'themselves', 'then', 'thence', 'there', 'thereafter', 'thereby', 'therefore', 'therein', 'thereupon', 'these', 'they', 'third', 'this', 'those', 'though', 'three', 'through', 'throughout', 'thru', 'thus', 'to', 'together', 'too', 'top', 'toward', 'towards', 'twelve', 'twenty', 'two', 'up', 'upon', 'us', 'used', 'using', 'various', 'very', 'via', 'was', 'we', 'were', 'what', 'whatever', 'when', 'whence', 'whenever', 'where', 'whereafter', 'whereas', 'whereby', 'wherein', 'whereupon', 'wherever', 'whether', 'which', 'while', 'whither', 'who', 'whoever', 'whole', 'whom', 'whose', 'why', 'will', 'with', 'within', 'without', 'would', 'yet', 'you', 'your', 'yours', 'yourself', 'yourselves', '‘d', '‘ll', '‘m', '‘re', '‘s', '‘ve', '’d', '’ll', '’m', '’re', '’s', '’ve']\n"
     ]
    }
   ],
   "source": [
    "# Create our list of punctuation marks\n",
    "punctuations = string.punctuation\n",
    "#Create list of digits\n",
    "digits = string.digits\n",
    "\n",
    "# Create our list of stopwords\n",
    "spacy.lang.en.stop_words.STOP_WORDS -= {\"above\",\"against\", \"another\", \"below\", \"cannot\", \"empty\", \"enough\",  \"except\", \"film\", \"first\",  \"give\", \"go\", \"last\", \"least\", \"less\", \"make\", \"more\",  \"most\", \"move\", \"movie\", \"never\", \"no\", \"not\", \"nothing\", \"off\", \"once\", \"only\", \"other\", \"under\", \"until\", \"unless\", \"use\", \"well\"}\n",
    "print(sorted(spacy.lang.en.stop_words.STOP_WORDS))\n",
    "stop_words = spacy.lang.en.stop_words.STOP_WORDS\n",
    "\n",
    "review_text_list = full_df['review_text'].tolist()\n",
    "\n",
    "review_list_token = []\n",
    "\n",
    "# Creating our tokenizer function\n",
    "def spacy_tokenizer(review):\n",
    "    # Creating our token object, which is used to create documents with linguistic annotations.\n",
    "    \n",
    "    for idx, text in enumerate(review_text_list):\n",
    "    \n",
    "        if isinstance(text, list):\n",
    "            for word in text:\n",
    "                mytokens = nlp(word)\n",
    "    #             filtered = filter_spans(spans)\n",
    "        else:\n",
    "                mytokens = nlp(text)\n",
    "\n",
    "        # Lemmatizing each token and converting each token into lowercase\n",
    "        mytokens = [ word.lemma_.lower().strip() if word.lemma_ != \"-PRON-\" else word.lower_ for word in mytokens ]\n",
    "\n",
    "        # Removing stop words\n",
    "        mytokens = [ word for word in mytokens if word not in stop_words and word not in punctuations and word not in digits]\n",
    "        \n",
    "        \n",
    "        # return preprocessed list of tokens\n",
    "    #     full_df['tokens'] = mytokens\n",
    "#         print(mytokens)\n",
    "        review_list_token.append(mytokens)\n",
    "\n",
    "    # full_df['review_text'].apply(lambda x: spacy_tokenizer(x))\n",
    "\n",
    "spacy_tokenizer(review_text_list)\n",
    "\n"
   ]
  },
  {
   "cell_type": "code",
   "execution_count": 33,
   "metadata": {
    "ExecuteTime": {
     "end_time": "2019-11-13T05:15:27.320907Z",
     "start_time": "2019-11-13T05:15:27.270031Z"
    }
   },
   "outputs": [
    {
     "data": {
      "text/html": [
       "<div>\n",
       "<style scoped>\n",
       "    .dataframe tbody tr th:only-of-type {\n",
       "        vertical-align: middle;\n",
       "    }\n",
       "\n",
       "    .dataframe tbody tr th {\n",
       "        vertical-align: top;\n",
       "    }\n",
       "\n",
       "    .dataframe thead th {\n",
       "        text-align: right;\n",
       "    }\n",
       "</style>\n",
       "<table border=\"1\" class=\"dataframe\">\n",
       "  <thead>\n",
       "    <tr style=\"text-align: right;\">\n",
       "      <th></th>\n",
       "      <th>review_text</th>\n",
       "      <th>movie</th>\n",
       "      <th>review_site</th>\n",
       "      <th>rating</th>\n",
       "      <th>sentiment</th>\n",
       "      <th>review_tokens</th>\n",
       "    </tr>\n",
       "  </thead>\n",
       "  <tbody>\n",
       "    <tr>\n",
       "      <td>0</td>\n",
       "      <td>Disney, WHAT. HAVE. YOU. DONE Just to be clea...</td>\n",
       "      <td>lionking</td>\n",
       "      <td>imdb</td>\n",
       "      <td>1</td>\n",
       "      <td>negative</td>\n",
       "      <td>[disney, clear, time, favorite, movie, not, st...</td>\n",
       "    </tr>\n",
       "    <tr>\n",
       "      <td>1</td>\n",
       "      <td>No soul. The original Lion King is one of my ...</td>\n",
       "      <td>lionking</td>\n",
       "      <td>imdb</td>\n",
       "      <td>1</td>\n",
       "      <td>negative</td>\n",
       "      <td>[no, soul, original, lion, king, favorite, mov...</td>\n",
       "    </tr>\n",
       "    <tr>\n",
       "      <td>5</td>\n",
       "      <td>Seriously? So anyone else notice it has a hig...</td>\n",
       "      <td>lionking</td>\n",
       "      <td>imdb</td>\n",
       "      <td>1</td>\n",
       "      <td>negative</td>\n",
       "      <td>[seriously, notice, high, score, 7.5, rating, ...</td>\n",
       "    </tr>\n",
       "    <tr>\n",
       "      <td>6</td>\n",
       "      <td>Overrated and way too much spotlight on beyon...</td>\n",
       "      <td>lionking</td>\n",
       "      <td>imdb</td>\n",
       "      <td>1</td>\n",
       "      <td>negative</td>\n",
       "      <td>[overrated, way, spotlight, beyonce, lion, kin...</td>\n",
       "    </tr>\n",
       "    <tr>\n",
       "      <td>8</td>\n",
       "      <td>Terrible acting!! Doesn't compare to the orig...</td>\n",
       "      <td>lionking</td>\n",
       "      <td>imdb</td>\n",
       "      <td>1</td>\n",
       "      <td>negative</td>\n",
       "      <td>[terrible, act, not, compare, original, love, ...</td>\n",
       "    </tr>\n",
       "    <tr>\n",
       "      <td>...</td>\n",
       "      <td>...</td>\n",
       "      <td>...</td>\n",
       "      <td>...</td>\n",
       "      <td>...</td>\n",
       "      <td>...</td>\n",
       "      <td>...</td>\n",
       "    </tr>\n",
       "    <tr>\n",
       "      <td>3040</td>\n",
       "      <td>A magically wonderful film filled with adventu...</td>\n",
       "      <td>cinderella</td>\n",
       "      <td>rottentomatoes</td>\n",
       "      <td>5</td>\n",
       "      <td>positive</td>\n",
       "      <td>[magically, wonderful, film, fill, adventure, ...</td>\n",
       "    </tr>\n",
       "    <tr>\n",
       "      <td>3041</td>\n",
       "      <td>Disney has overdid the faithfulness of their o...</td>\n",
       "      <td>cinderella</td>\n",
       "      <td>rottentomatoes</td>\n",
       "      <td>4</td>\n",
       "      <td>positive</td>\n",
       "      <td>[disney, overdo, faithfulness, animate, classi...</td>\n",
       "    </tr>\n",
       "    <tr>\n",
       "      <td>3042</td>\n",
       "      <td>Magic....that's about right. A re-tell of the ...</td>\n",
       "      <td>cinderella</td>\n",
       "      <td>rottentomatoes</td>\n",
       "      <td>4</td>\n",
       "      <td>positive</td>\n",
       "      <td>[magic, ...., right, tell, original, disney, m...</td>\n",
       "    </tr>\n",
       "    <tr>\n",
       "      <td>3043</td>\n",
       "      <td>A good movie that sets it apart from the origi...</td>\n",
       "      <td>cinderella</td>\n",
       "      <td>rottentomatoes</td>\n",
       "      <td>4</td>\n",
       "      <td>positive</td>\n",
       "      <td>[good, movie, set, apart, original, story, cin...</td>\n",
       "    </tr>\n",
       "    <tr>\n",
       "      <td>3044</td>\n",
       "      <td>It's the Cinderella you know but it's really d...</td>\n",
       "      <td>cinderella</td>\n",
       "      <td>rottentomatoes</td>\n",
       "      <td>4</td>\n",
       "      <td>positive</td>\n",
       "      <td>[cinderella, know, delightfully, charm]</td>\n",
       "    </tr>\n",
       "  </tbody>\n",
       "</table>\n",
       "<p>51512 rows × 6 columns</p>\n",
       "</div>"
      ],
      "text/plain": [
       "                                            review_text       movie  \\\n",
       "0      Disney, WHAT. HAVE. YOU. DONE Just to be clea...    lionking   \n",
       "1      No soul. The original Lion King is one of my ...    lionking   \n",
       "5      Seriously? So anyone else notice it has a hig...    lionking   \n",
       "6      Overrated and way too much spotlight on beyon...    lionking   \n",
       "8      Terrible acting!! Doesn't compare to the orig...    lionking   \n",
       "...                                                 ...         ...   \n",
       "3040  A magically wonderful film filled with adventu...  cinderella   \n",
       "3041  Disney has overdid the faithfulness of their o...  cinderella   \n",
       "3042  Magic....that's about right. A re-tell of the ...  cinderella   \n",
       "3043  A good movie that sets it apart from the origi...  cinderella   \n",
       "3044  It's the Cinderella you know but it's really d...  cinderella   \n",
       "\n",
       "         review_site  rating sentiment  \\\n",
       "0               imdb       1  negative   \n",
       "1               imdb       1  negative   \n",
       "5               imdb       1  negative   \n",
       "6               imdb       1  negative   \n",
       "8               imdb       1  negative   \n",
       "...              ...     ...       ...   \n",
       "3040  rottentomatoes       5  positive   \n",
       "3041  rottentomatoes       4  positive   \n",
       "3042  rottentomatoes       4  positive   \n",
       "3043  rottentomatoes       4  positive   \n",
       "3044  rottentomatoes       4  positive   \n",
       "\n",
       "                                          review_tokens  \n",
       "0     [disney, clear, time, favorite, movie, not, st...  \n",
       "1     [no, soul, original, lion, king, favorite, mov...  \n",
       "5     [seriously, notice, high, score, 7.5, rating, ...  \n",
       "6     [overrated, way, spotlight, beyonce, lion, kin...  \n",
       "8     [terrible, act, not, compare, original, love, ...  \n",
       "...                                                 ...  \n",
       "3040  [magically, wonderful, film, fill, adventure, ...  \n",
       "3041  [disney, overdo, faithfulness, animate, classi...  \n",
       "3042  [magic, ...., right, tell, original, disney, m...  \n",
       "3043  [good, movie, set, apart, original, story, cin...  \n",
       "3044            [cinderella, know, delightfully, charm]  \n",
       "\n",
       "[51512 rows x 6 columns]"
      ]
     },
     "execution_count": 33,
     "metadata": {},
     "output_type": "execute_result"
    }
   ],
   "source": [
    "full_df['review_tokens'] = review_list_token\n",
    "full_df"
   ]
  },
  {
   "cell_type": "markdown",
   "metadata": {},
   "source": [
    "# Vectorization"
   ]
  },
  {
   "cell_type": "markdown",
   "metadata": {},
   "source": [
    "2 Options\n",
    "1. CountVectorizer\n",
    "2. TF-IDF"
   ]
  },
  {
   "cell_type": "code",
   "execution_count": 34,
   "metadata": {
    "ExecuteTime": {
     "end_time": "2019-11-13T05:15:27.967805Z",
     "start_time": "2019-11-13T05:15:27.322276Z"
    }
   },
   "outputs": [],
   "source": [
    "import sklearn\n",
    "from sklearn.feature_extraction.text import CountVectorizer \n",
    "from sklearn.feature_extraction.text import TfidfVectorizer"
   ]
  },
  {
   "cell_type": "code",
   "execution_count": 35,
   "metadata": {
    "ExecuteTime": {
     "end_time": "2019-11-13T05:15:28.047853Z",
     "start_time": "2019-11-13T05:15:27.969221Z"
    }
   },
   "outputs": [
    {
     "data": {
      "text/html": [
       "<div>\n",
       "<style scoped>\n",
       "    .dataframe tbody tr th:only-of-type {\n",
       "        vertical-align: middle;\n",
       "    }\n",
       "\n",
       "    .dataframe tbody tr th {\n",
       "        vertical-align: top;\n",
       "    }\n",
       "\n",
       "    .dataframe thead th {\n",
       "        text-align: right;\n",
       "    }\n",
       "</style>\n",
       "<table border=\"1\" class=\"dataframe\">\n",
       "  <thead>\n",
       "    <tr style=\"text-align: right;\">\n",
       "      <th></th>\n",
       "      <th>review_text</th>\n",
       "      <th>movie</th>\n",
       "      <th>review_site</th>\n",
       "      <th>rating</th>\n",
       "      <th>sentiment</th>\n",
       "      <th>review_tokens</th>\n",
       "      <th>review_processed</th>\n",
       "    </tr>\n",
       "  </thead>\n",
       "  <tbody>\n",
       "    <tr>\n",
       "      <td>0</td>\n",
       "      <td>Disney, WHAT. HAVE. YOU. DONE Just to be clea...</td>\n",
       "      <td>lionking</td>\n",
       "      <td>imdb</td>\n",
       "      <td>1</td>\n",
       "      <td>negative</td>\n",
       "      <td>[disney, clear, time, favorite, movie, not, st...</td>\n",
       "      <td>disney clear time favorite movie not stress en...</td>\n",
       "    </tr>\n",
       "    <tr>\n",
       "      <td>1</td>\n",
       "      <td>No soul. The original Lion King is one of my ...</td>\n",
       "      <td>lionking</td>\n",
       "      <td>imdb</td>\n",
       "      <td>1</td>\n",
       "      <td>negative</td>\n",
       "      <td>[no, soul, original, lion, king, favorite, mov...</td>\n",
       "      <td>no soul original lion king favorite movie time...</td>\n",
       "    </tr>\n",
       "    <tr>\n",
       "      <td>5</td>\n",
       "      <td>Seriously? So anyone else notice it has a hig...</td>\n",
       "      <td>lionking</td>\n",
       "      <td>imdb</td>\n",
       "      <td>1</td>\n",
       "      <td>negative</td>\n",
       "      <td>[seriously, notice, high, score, 7.5, rating, ...</td>\n",
       "      <td>seriously notice high score 7.5 rating not str...</td>\n",
       "    </tr>\n",
       "    <tr>\n",
       "      <td>6</td>\n",
       "      <td>Overrated and way too much spotlight on beyon...</td>\n",
       "      <td>lionking</td>\n",
       "      <td>imdb</td>\n",
       "      <td>1</td>\n",
       "      <td>negative</td>\n",
       "      <td>[overrated, way, spotlight, beyonce, lion, kin...</td>\n",
       "      <td>overrated way spotlight beyonce lion king only...</td>\n",
       "    </tr>\n",
       "    <tr>\n",
       "      <td>8</td>\n",
       "      <td>Terrible acting!! Doesn't compare to the orig...</td>\n",
       "      <td>lionking</td>\n",
       "      <td>imdb</td>\n",
       "      <td>1</td>\n",
       "      <td>negative</td>\n",
       "      <td>[terrible, act, not, compare, original, love, ...</td>\n",
       "      <td>terrible act not compare original love origina...</td>\n",
       "    </tr>\n",
       "    <tr>\n",
       "      <td>...</td>\n",
       "      <td>...</td>\n",
       "      <td>...</td>\n",
       "      <td>...</td>\n",
       "      <td>...</td>\n",
       "      <td>...</td>\n",
       "      <td>...</td>\n",
       "      <td>...</td>\n",
       "    </tr>\n",
       "    <tr>\n",
       "      <td>3040</td>\n",
       "      <td>A magically wonderful film filled with adventu...</td>\n",
       "      <td>cinderella</td>\n",
       "      <td>rottentomatoes</td>\n",
       "      <td>5</td>\n",
       "      <td>positive</td>\n",
       "      <td>[magically, wonderful, film, fill, adventure, ...</td>\n",
       "      <td>magically wonderful film fill adventure fantas...</td>\n",
       "    </tr>\n",
       "    <tr>\n",
       "      <td>3041</td>\n",
       "      <td>Disney has overdid the faithfulness of their o...</td>\n",
       "      <td>cinderella</td>\n",
       "      <td>rottentomatoes</td>\n",
       "      <td>4</td>\n",
       "      <td>positive</td>\n",
       "      <td>[disney, overdo, faithfulness, animate, classi...</td>\n",
       "      <td>disney overdo faithfulness animate classic pro...</td>\n",
       "    </tr>\n",
       "    <tr>\n",
       "      <td>3042</td>\n",
       "      <td>Magic....that's about right. A re-tell of the ...</td>\n",
       "      <td>cinderella</td>\n",
       "      <td>rottentomatoes</td>\n",
       "      <td>4</td>\n",
       "      <td>positive</td>\n",
       "      <td>[magic, ...., right, tell, original, disney, m...</td>\n",
       "      <td>magic .... right tell original disney movie li...</td>\n",
       "    </tr>\n",
       "    <tr>\n",
       "      <td>3043</td>\n",
       "      <td>A good movie that sets it apart from the origi...</td>\n",
       "      <td>cinderella</td>\n",
       "      <td>rottentomatoes</td>\n",
       "      <td>4</td>\n",
       "      <td>positive</td>\n",
       "      <td>[good, movie, set, apart, original, story, cin...</td>\n",
       "      <td>good movie set apart original story cinderella...</td>\n",
       "    </tr>\n",
       "    <tr>\n",
       "      <td>3044</td>\n",
       "      <td>It's the Cinderella you know but it's really d...</td>\n",
       "      <td>cinderella</td>\n",
       "      <td>rottentomatoes</td>\n",
       "      <td>4</td>\n",
       "      <td>positive</td>\n",
       "      <td>[cinderella, know, delightfully, charm]</td>\n",
       "      <td>cinderella know delightfully charm</td>\n",
       "    </tr>\n",
       "  </tbody>\n",
       "</table>\n",
       "<p>51512 rows × 7 columns</p>\n",
       "</div>"
      ],
      "text/plain": [
       "                                            review_text       movie  \\\n",
       "0      Disney, WHAT. HAVE. YOU. DONE Just to be clea...    lionking   \n",
       "1      No soul. The original Lion King is one of my ...    lionking   \n",
       "5      Seriously? So anyone else notice it has a hig...    lionking   \n",
       "6      Overrated and way too much spotlight on beyon...    lionking   \n",
       "8      Terrible acting!! Doesn't compare to the orig...    lionking   \n",
       "...                                                 ...         ...   \n",
       "3040  A magically wonderful film filled with adventu...  cinderella   \n",
       "3041  Disney has overdid the faithfulness of their o...  cinderella   \n",
       "3042  Magic....that's about right. A re-tell of the ...  cinderella   \n",
       "3043  A good movie that sets it apart from the origi...  cinderella   \n",
       "3044  It's the Cinderella you know but it's really d...  cinderella   \n",
       "\n",
       "         review_site  rating sentiment  \\\n",
       "0               imdb       1  negative   \n",
       "1               imdb       1  negative   \n",
       "5               imdb       1  negative   \n",
       "6               imdb       1  negative   \n",
       "8               imdb       1  negative   \n",
       "...              ...     ...       ...   \n",
       "3040  rottentomatoes       5  positive   \n",
       "3041  rottentomatoes       4  positive   \n",
       "3042  rottentomatoes       4  positive   \n",
       "3043  rottentomatoes       4  positive   \n",
       "3044  rottentomatoes       4  positive   \n",
       "\n",
       "                                          review_tokens  \\\n",
       "0     [disney, clear, time, favorite, movie, not, st...   \n",
       "1     [no, soul, original, lion, king, favorite, mov...   \n",
       "5     [seriously, notice, high, score, 7.5, rating, ...   \n",
       "6     [overrated, way, spotlight, beyonce, lion, kin...   \n",
       "8     [terrible, act, not, compare, original, love, ...   \n",
       "...                                                 ...   \n",
       "3040  [magically, wonderful, film, fill, adventure, ...   \n",
       "3041  [disney, overdo, faithfulness, animate, classi...   \n",
       "3042  [magic, ...., right, tell, original, disney, m...   \n",
       "3043  [good, movie, set, apart, original, story, cin...   \n",
       "3044            [cinderella, know, delightfully, charm]   \n",
       "\n",
       "                                       review_processed  \n",
       "0     disney clear time favorite movie not stress en...  \n",
       "1     no soul original lion king favorite movie time...  \n",
       "5     seriously notice high score 7.5 rating not str...  \n",
       "6     overrated way spotlight beyonce lion king only...  \n",
       "8     terrible act not compare original love origina...  \n",
       "...                                                 ...  \n",
       "3040  magically wonderful film fill adventure fantas...  \n",
       "3041  disney overdo faithfulness animate classic pro...  \n",
       "3042  magic .... right tell original disney movie li...  \n",
       "3043  good movie set apart original story cinderella...  \n",
       "3044                 cinderella know delightfully charm  \n",
       "\n",
       "[51512 rows x 7 columns]"
      ]
     },
     "execution_count": 35,
     "metadata": {},
     "output_type": "execute_result"
    }
   ],
   "source": [
    "full_df['review_processed'] = full_df['review_tokens'].str.join(\" \")\n",
    "full_df"
   ]
  },
  {
   "cell_type": "code",
   "execution_count": 36,
   "metadata": {
    "ExecuteTime": {
     "end_time": "2019-11-13T05:15:28.565814Z",
     "start_time": "2019-11-13T05:15:28.049128Z"
    }
   },
   "outputs": [],
   "source": [
    "full_df.to_pickle('full_df_preprocessed.pkl')"
   ]
  },
  {
   "cell_type": "code",
   "execution_count": 37,
   "metadata": {
    "ExecuteTime": {
     "end_time": "2019-11-13T05:15:31.171971Z",
     "start_time": "2019-11-13T05:15:28.567496Z"
    }
   },
   "outputs": [
    {
     "name": "stdout",
     "output_type": "stream",
     "text": [
      "(51512, 28802)\n"
     ]
    },
    {
     "data": {
      "text/plain": [
       "array([[0, 0, 0, ..., 0, 0, 0],\n",
       "       [0, 0, 0, ..., 0, 0, 0],\n",
       "       [0, 0, 0, ..., 0, 0, 0],\n",
       "       ...,\n",
       "       [0, 0, 0, ..., 0, 0, 0],\n",
       "       [0, 0, 0, ..., 0, 0, 0],\n",
       "       [0, 0, 0, ..., 0, 0, 0]])"
      ]
     },
     "execution_count": 37,
     "metadata": {},
     "output_type": "execute_result"
    }
   ],
   "source": [
    "corpus = [items[1] for items in full_df['review_processed'].iteritems()]\n",
    "\n",
    "countvec = CountVectorizer()\n",
    "doc_word_countvec = countvec.fit_transform(corpus)\n",
    "print(doc_word_countvec.shape)\n",
    "doc_word_countvec.toarray()\n"
   ]
  },
  {
   "cell_type": "code",
   "execution_count": 38,
   "metadata": {
    "ExecuteTime": {
     "end_time": "2019-11-13T05:15:33.944052Z",
     "start_time": "2019-11-13T05:15:31.173780Z"
    }
   },
   "outputs": [
    {
     "name": "stdout",
     "output_type": "stream",
     "text": [
      "(51512, 28802)\n"
     ]
    },
    {
     "data": {
      "text/plain": [
       "array([[0., 0., 0., ..., 0., 0., 0.],\n",
       "       [0., 0., 0., ..., 0., 0., 0.],\n",
       "       [0., 0., 0., ..., 0., 0., 0.],\n",
       "       ...,\n",
       "       [0., 0., 0., ..., 0., 0., 0.],\n",
       "       [0., 0., 0., ..., 0., 0., 0.],\n",
       "       [0., 0., 0., ..., 0., 0., 0.]])"
      ]
     },
     "execution_count": 38,
     "metadata": {},
     "output_type": "execute_result"
    }
   ],
   "source": [
    "tfidfvec = TfidfVectorizer()\n",
    "doc_word_tfidf = tfidfvec.fit_transform(corpus)\n",
    "print(doc_word_tfidf.shape)\n",
    "doc_word_tfidf.toarray()"
   ]
  },
  {
   "cell_type": "markdown",
   "metadata": {},
   "source": [
    "# Dimensionality Reduction"
   ]
  },
  {
   "cell_type": "markdown",
   "metadata": {},
   "source": [
    "3 Options\n",
    "1. LSA (text version of SVD/PCA)\n",
    "2. NMF \n",
    "3. LDA (takes longer to run--not recommended for MVP)"
   ]
  },
  {
   "cell_type": "code",
   "execution_count": 39,
   "metadata": {
    "ExecuteTime": {
     "end_time": "2019-11-13T05:15:34.050678Z",
     "start_time": "2019-11-13T05:15:33.945667Z"
    }
   },
   "outputs": [],
   "source": [
    "from sklearn.decomposition import TruncatedSVD #LSA\n",
    "from sklearn.decomposition import NMF\n",
    "from sklearn.metrics.pairwise import cosine_similarity"
   ]
  },
  {
   "cell_type": "code",
   "execution_count": 40,
   "metadata": {
    "ExecuteTime": {
     "end_time": "2019-11-13T05:15:34.056873Z",
     "start_time": "2019-11-13T05:15:34.052101Z"
    }
   },
   "outputs": [],
   "source": [
    "def display_topics(model, feature_names, no_top_words, topic_names=None):\n",
    "    for ix, topic in enumerate(model.components_):\n",
    "        if not topic_names or not topic_names[ix]:\n",
    "            print(\"\\nTopic \", ix)\n",
    "        else:\n",
    "            print(\"\\nTopic: '\",topic_names[ix],\"'\")\n",
    "        print(\", \".join([feature_names[i]\n",
    "                        for i in topic.argsort()[:-no_top_words - 1:-1]]))"
   ]
  },
  {
   "cell_type": "code",
   "execution_count": 41,
   "metadata": {
    "ExecuteTime": {
     "end_time": "2019-11-13T05:15:34.668116Z",
     "start_time": "2019-11-13T05:15:34.058915Z"
    }
   },
   "outputs": [
    {
     "name": "stdout",
     "output_type": "stream",
     "text": [
      "[0.17985328 0.03863595 0.02531983 0.01983578 0.01811423 0.01682529\n",
      " 0.01387321 0.01303441 0.01213145 0.01098936]\n"
     ]
    }
   ],
   "source": [
    "lsa_countvec = TruncatedSVD(10)\n",
    "doc_topic_lsa_countvec = lsa_countvec.fit_transform(doc_word_countvec)\n",
    "print(lsa_countvec.explained_variance_ratio_)"
   ]
  },
  {
   "cell_type": "code",
   "execution_count": 42,
   "metadata": {
    "ExecuteTime": {
     "end_time": "2019-11-13T05:15:34.725534Z",
     "start_time": "2019-11-13T05:15:34.669874Z"
    }
   },
   "outputs": [
    {
     "name": "stdout",
     "output_type": "stream",
     "text": [
      "\n",
      "Topic  0\n",
      "not, movie, film, original, like, good, make, disney, character, story\n",
      "\n",
      "Topic  1\n",
      "movie, great, love, good, watch, smith, amaze, genie, kid, aladdin\n",
      "\n",
      "Topic  2\n",
      "not, like, original, feel, think, bad, aladdin, no, song, go\n",
      "\n",
      "Topic  3\n",
      "beast, belle, love, beauty, emma, gaston, watson, good, disney, animate\n",
      "\n",
      "Topic  4\n",
      "not, jungle, mowgli, book, cinderella, movie, beast, belle, khan, story\n",
      "\n",
      "Topic  5\n",
      "aladdin, genie, smith, good, jasmine, jafar, film, great, williams, robin\n",
      "\n",
      "Topic  6\n",
      "jungle, mowgli, aladdin, book, genie, like, beast, smith, live, song\n",
      "\n",
      "Topic  7\n",
      "disney, cinderella, aladdin, love, lion, live, king, make, new, story\n",
      "\n",
      "Topic  8\n",
      "good, cinderella, story, disney, ella, original, fairy, tale, classic, prince\n",
      "\n",
      "Topic  9\n",
      "like, good, feel, make, look, cinderella, lion, simba, character, king\n"
     ]
    }
   ],
   "source": [
    "display_topics(lsa_countvec, countvec.get_feature_names(), 10)"
   ]
  },
  {
   "cell_type": "code",
   "execution_count": 43,
   "metadata": {
    "ExecuteTime": {
     "end_time": "2019-11-13T05:15:35.268234Z",
     "start_time": "2019-11-13T05:15:34.727378Z"
    }
   },
   "outputs": [
    {
     "data": {
      "text/plain": [
       "array([0.0097706 , 0.01596891, 0.01395959, 0.01140796, 0.01062011,\n",
       "       0.01025418, 0.00920615, 0.00826752, 0.0079446 , 0.00776925])"
      ]
     },
     "execution_count": 43,
     "metadata": {},
     "output_type": "execute_result"
    }
   ],
   "source": [
    "lsa_tfidf = TruncatedSVD(10)\n",
    "doc_topic_lsa_tfidf = lsa_tfidf.fit_transform(doc_word_tfidf)\n",
    "lsa_tfidf.explained_variance_ratio_"
   ]
  },
  {
   "cell_type": "code",
   "execution_count": 44,
   "metadata": {
    "ExecuteTime": {
     "end_time": "2019-11-13T05:15:35.324852Z",
     "start_time": "2019-11-13T05:15:35.270005Z"
    }
   },
   "outputs": [
    {
     "name": "stdout",
     "output_type": "stream",
     "text": [
      "\n",
      "Topic  0\n",
      "movie, great, love, good, not, original, like, well, smith, loved\n",
      "\n",
      "Topic  1\n",
      "love, great, movie, loved, family, smith, awesome, absolutely, amaze, kid\n",
      "\n",
      "Topic  2\n",
      "love, absolutely, original, not, like, well, lion, king, version, kid\n",
      "\n",
      "Topic  3\n",
      "loved, smith, amaze, genie, music, awesome, absolutely, original, beautiful, amazing\n",
      "\n",
      "Topic  4\n",
      "good, movie, loved, awesome, enjoy, family, entertain, pretty, funny, kid\n",
      "\n",
      "Topic  5\n",
      "smith, good, genie, job, love, robin, williams, amaze, aladdin, awesome\n",
      "\n",
      "Topic  6\n",
      "awesome, amaze, movie, smith, genie, well, enjoy, disney, make, watch\n",
      "\n",
      "Topic  7\n",
      "well, original, awesome, smith, like, genie, true, cartoon, expect, job\n",
      "\n",
      "Topic  8\n",
      "like, awesome, not, original, kid, feel, smith, genie, song, change\n",
      "\n",
      "Topic  9\n",
      "amaze, original, like, absolutely, great, true, animation, animal, movie, real\n"
     ]
    }
   ],
   "source": [
    "display_topics(lsa_tfidf, tfidfvec.get_feature_names(), 10)"
   ]
  },
  {
   "cell_type": "code",
   "execution_count": 45,
   "metadata": {
    "ExecuteTime": {
     "end_time": "2019-11-13T05:15:37.397988Z",
     "start_time": "2019-11-13T05:15:35.326539Z"
    }
   },
   "outputs": [],
   "source": [
    "nmf_countvec = NMF(10)\n",
    "doc_topic_nmf_countvec = nmf_countvec.fit_transform(doc_word_countvec)"
   ]
  },
  {
   "cell_type": "code",
   "execution_count": 46,
   "metadata": {
    "ExecuteTime": {
     "end_time": "2019-11-13T05:15:37.446535Z",
     "start_time": "2019-11-13T05:15:37.399952Z"
    }
   },
   "outputs": [
    {
     "name": "stdout",
     "output_type": "stream",
     "text": [
      "\n",
      "Topic  0\n",
      "not, go, think, know, no, time, watch, make, bad, scene\n",
      "\n",
      "Topic  1\n",
      "movie, great, love, watch, amaze, enjoy, kid, go, well, make\n",
      "\n",
      "Topic  2\n",
      "film, animate, disney, character, make, great, action, cast, well, performance\n",
      "\n",
      "Topic  3\n",
      "beast, belle, beauty, emma, gaston, love, watson, animate, disney, live\n",
      "\n",
      "Topic  4\n",
      "original, remake, lion, king, new, simba, make, voice, song, scar\n",
      "\n",
      "Topic  5\n",
      "aladdin, genie, smith, jasmine, jafar, new, great, williams, robin, song\n",
      "\n",
      "Topic  6\n",
      "jungle, mowgli, book, animal, story, khan, voice, shere, baloo, disney\n",
      "\n",
      "Topic  7\n",
      "good, great, think, original, act, pretty, job, well, overall, story\n",
      "\n",
      "Topic  8\n",
      "cinderella, story, disney, ella, fairy, prince, tale, live, classic, love\n",
      "\n",
      "Topic  9\n",
      "like, feel, look, character, make, thing, little, think, no, real\n"
     ]
    }
   ],
   "source": [
    "display_topics(nmf_countvec, countvec.get_feature_names(), 10)"
   ]
  },
  {
   "cell_type": "code",
   "execution_count": 47,
   "metadata": {
    "ExecuteTime": {
     "end_time": "2019-11-13T05:15:42.593700Z",
     "start_time": "2019-11-13T05:15:37.448004Z"
    }
   },
   "outputs": [],
   "source": [
    "nmf_tfidf = NMF(10)\n",
    "doc_topic_nmf_tfidf = nmf_tfidf.fit_transform(doc_word_tfidf)"
   ]
  },
  {
   "cell_type": "code",
   "execution_count": 48,
   "metadata": {
    "ExecuteTime": {
     "end_time": "2019-11-13T05:15:42.638136Z",
     "start_time": "2019-11-13T05:15:42.594901Z"
    }
   },
   "outputs": [
    {
     "name": "stdout",
     "output_type": "stream",
     "text": [
      "\n",
      "Topic  0\n",
      "not, like, movie, feel, watch, go, song, think, make, voice\n",
      "\n",
      "Topic  1\n",
      "great, movie, family, enjoy, music, job, kid, fun, entertain, effect\n",
      "\n",
      "Topic  2\n",
      "love, absolutely, movie, kid, daughter, family, beautiful, song, old, lion\n",
      "\n",
      "Topic  3\n",
      "loved, music, movie, amazing, beautiful, animal, minute, costume, dance, animation\n",
      "\n",
      "Topic  4\n",
      "good, movie, pretty, enjoy, entertain, think, overall, original, funny, family\n",
      "\n",
      "Topic  5\n",
      "smith, genie, job, robin, williams, aladdin, jasmine, make, fantastic, excellent\n",
      "\n",
      "Topic  6\n",
      "awesome, movie, enjoy, music, family, animation, graphic, 3d, smith, entire\n",
      "\n",
      "Topic  7\n",
      "original, well, true, cartoon, expect, version, stay, close, way, better\n",
      "\n",
      "Topic  8\n",
      "disney, film, remake, live, action, classic, animate, story, version, beautiful\n",
      "\n",
      "Topic  9\n",
      "amaze, absolutely, movie, animation, beautiful, amazing, graphic, watch, music, animal\n"
     ]
    }
   ],
   "source": [
    "display_topics(nmf_tfidf, tfidfvec.get_feature_names(), 10)"
   ]
  },
  {
   "cell_type": "markdown",
   "metadata": {},
   "source": [
    "# Clustering "
   ]
  },
  {
   "cell_type": "markdown",
   "metadata": {},
   "source": [
    "Options: \n",
    "1. K-means\n",
    "2. DB Scan\n",
    "3. Hierarchical\n",
    "4. Other"
   ]
  },
  {
   "cell_type": "code",
   "execution_count": 49,
   "metadata": {
    "ExecuteTime": {
     "end_time": "2019-11-13T05:15:42.693576Z",
     "start_time": "2019-11-13T05:15:42.640094Z"
    }
   },
   "outputs": [],
   "source": [
    "from sklearn.preprocessing import scale\n",
    "from sklearn.cluster import KMeans"
   ]
  },
  {
   "cell_type": "markdown",
   "metadata": {},
   "source": [
    "For anything with distances, scale first! "
   ]
  },
  {
   "cell_type": "code",
   "execution_count": 50,
   "metadata": {
    "ExecuteTime": {
     "end_time": "2019-11-13T05:15:42.784724Z",
     "start_time": "2019-11-13T05:15:42.694980Z"
    }
   },
   "outputs": [],
   "source": [
    "scaled_doc_topic_lsa_countvec = sklearn.preprocessing.scale(doc_topic_lsa_countvec)\n",
    "scaled_doc_topic_lsa_tfidf = sklearn.preprocessing.scale(doc_topic_lsa_tfidf)\n",
    "scaled_doc_topic_nmf_countvec = sklearn.preprocessing.scale(doc_topic_nmf_countvec)\n",
    "scaled_doc_topic_nmf_tfidf = sklearn.preprocessing.scale(doc_topic_nmf_tfidf)"
   ]
  },
  {
   "cell_type": "code",
   "execution_count": 51,
   "metadata": {
    "ExecuteTime": {
     "end_time": "2019-11-13T05:15:42.793454Z",
     "start_time": "2019-11-13T05:15:42.786431Z"
    }
   },
   "outputs": [],
   "source": [
    "def display_cluster(X,km=[],num_clusters=0):\n",
    "    color = 'brgcmyk'\n",
    "    alpha = 0.5\n",
    "    s = 20\n",
    "    if num_clusters == 0:\n",
    "        plt.scatter(X[:,0],X[:,1],c = color[0],alpha = alpha,s = s)\n",
    "    else:\n",
    "        for i in range(num_clusters):\n",
    "            plt.scatter(X[km.labels_==i,0],X[km.labels_==i,1],c = color[i],alpha = alpha,s=s)\n",
    "            plt.scatter(km.cluster_centers_[i][0],km.cluster_centers_[i][1],c = color[i], marker = 'x', s = 100)"
   ]
  },
  {
   "cell_type": "code",
   "execution_count": 52,
   "metadata": {
    "ExecuteTime": {
     "end_time": "2019-11-13T05:15:58.457431Z",
     "start_time": "2019-11-13T05:15:42.795790Z"
    }
   },
   "outputs": [],
   "source": [
    "list_num_clusters = list(range(2,11))\n",
    "import matplotlib.pyplot as plt\n",
    "\n",
    "inertia = []\n",
    "\n",
    "for num_clusters in list_num_clusters:\n",
    "    km = KMeans(n_clusters=num_clusters, random_state=10, init='k-means++')\n",
    "    km.fit_predict(scaled_doc_topic_lsa_countvec)\n",
    "    inertia.append(km.inertia_)\n",
    "    \n",
    "plt.plot(list_num_clusters,inertia)\n",
    "plt.scatter(list_num_clusters,inertia)\n",
    "plt.xlabel('Number of Clusters')\n",
    "plt.ylabel('Inertia');\n"
   ]
  },
  {
   "cell_type": "code",
   "execution_count": 53,
   "metadata": {
    "ExecuteTime": {
     "end_time": "2019-11-13T05:15:58.930887Z",
     "start_time": "2019-11-13T05:15:58.458672Z"
    }
   },
   "outputs": [
    {
     "data": {
      "image/png": "[encoded data removed]",
      "text/plain": [
       "<Figure size 432x288 with 1 Axes>"
      ]
     },
     "metadata": {
      "needs_background": "light"
     },
     "output_type": "display_data"
    }
   ],
   "source": [
    "display_cluster(scaled_doc_topic_lsa_countvec, km, 5)"
   ]
  },
  {
   "cell_type": "code",
   "execution_count": 54,
   "metadata": {
    "ExecuteTime": {
     "end_time": "2019-11-13T05:16:15.649469Z",
     "start_time": "2019-11-13T05:15:58.932222Z"
    },
    "scrolled": true
   },
   "outputs": [
    {
     "data": {
      "image/png": "[encoded data removed]",
      "text/plain": [
       "<Figure size 432x288 with 1 Axes>"
      ]
     },
     "metadata": {
      "needs_background": "light"
     },
     "output_type": "display_data"
    }
   ],
   "source": [
    "list_num_clusters = list(range(2,11))\n",
    "\n",
    "\n",
    "inertia = []\n",
    "\n",
    "for num_clusters in list_num_clusters:\n",
    "    km = KMeans(n_clusters=num_clusters, random_state=10, init='k-means++')\n",
    "    km.fit_predict(scaled_doc_topic_lsa_tfidf)\n",
    "    inertia.append(km.inertia_)\n",
    "    \n",
    "plt.plot(list_num_clusters,inertia)\n",
    "plt.scatter(list_num_clusters,inertia)\n",
    "plt.xlabel('Number of Clusters')\n",
    "plt.ylabel('Inertia');"
   ]
  },
  {
   "cell_type": "code",
   "execution_count": 55,
   "metadata": {
    "ExecuteTime": {
     "end_time": "2019-11-13T05:16:16.024319Z",
     "start_time": "2019-11-13T05:16:15.650666Z"
    }
   },
   "outputs": [
    {
     "data": {
      "image/png": "[encoded data removed]",
      "text/plain": [
       "<Figure size 432x288 with 1 Axes>"
      ]
     },
     "metadata": {
      "needs_background": "light"
     },
     "output_type": "display_data"
    }
   ],
   "source": [
    "display_cluster(scaled_doc_topic_lsa_tfidf, km, 5)"
   ]
  },
  {
   "cell_type": "code",
   "execution_count": 56,
   "metadata": {
    "ExecuteTime": {
     "end_time": "2019-11-13T05:16:28.945906Z",
     "start_time": "2019-11-13T05:16:16.025537Z"
    }
   },
   "outputs": [
    {
     "data": {
      "image/png": "[encoded data removed]",
      "text/plain": [
       "<Figure size 432x288 with 1 Axes>"
      ]
     },
     "metadata": {
      "needs_background": "light"
     },
     "output_type": "display_data"
    }
   ],
   "source": [
    "list_num_clusters = list(range(2,11))\n",
    "\n",
    "\n",
    "inertia = []\n",
    "\n",
    "for num_clusters in list_num_clusters:\n",
    "    km = KMeans(n_clusters=num_clusters, random_state=10, init='k-means++')\n",
    "    km.fit_predict(scaled_doc_topic_nmf_countvec)\n",
    "    inertia.append(km.inertia_)\n",
    "    \n",
    "plt.plot(list_num_clusters,inertia)\n",
    "plt.scatter(list_num_clusters,inertia)\n",
    "plt.xlabel('Number of Clusters')\n",
    "plt.ylabel('Inertia');"
   ]
  },
  {
   "cell_type": "code",
   "execution_count": 57,
   "metadata": {
    "ExecuteTime": {
     "end_time": "2019-11-13T05:16:29.268972Z",
     "start_time": "2019-11-13T05:16:28.947186Z"
    }
   },
   "outputs": [
    {
     "data": {
      "image/png": "[encoded data removed]",
      "text/plain": [
       "<Figure size 432x288 with 1 Axes>"
      ]
     },
     "metadata": {
      "needs_background": "light"
     },
     "output_type": "display_data"
    }
   ],
   "source": [
    "display_cluster(scaled_doc_topic_nmf_countvec, km, 5)"
   ]
  },
  {
   "cell_type": "code",
   "execution_count": 58,
   "metadata": {
    "ExecuteTime": {
     "end_time": "2019-11-13T05:16:40.800080Z",
     "start_time": "2019-11-13T05:16:29.272976Z"
    }
   },
   "outputs": [
    {
     "data": {
      "image/png": "[encoded data removed]",
      "text/plain": [
       "<Figure size 432x288 with 1 Axes>"
      ]
     },
     "metadata": {
      "needs_background": "light"
     },
     "output_type": "display_data"
    }
   ],
   "source": [
    "list_num_clusters = list(range(2,11))\n",
    "\n",
    "\n",
    "inertia = []\n",
    "\n",
    "for num_clusters in list_num_clusters:\n",
    "    km = KMeans(n_clusters=num_clusters, random_state=10, init='k-means++', n_init=10)\n",
    "    km.fit_predict(scaled_doc_topic_nmf_tfidf)\n",
    "    inertia.append(km.inertia_)\n",
    "    \n",
    "plt.plot(list_num_clusters,inertia)\n",
    "plt.scatter(list_num_clusters,inertia)\n",
    "plt.xlabel('Number of Clusters')\n",
    "plt.ylabel('Inertia');"
   ]
  },
  {
   "cell_type": "code",
   "execution_count": 59,
   "metadata": {
    "ExecuteTime": {
     "end_time": "2019-11-13T05:16:41.350529Z",
     "start_time": "2019-11-13T05:16:40.802830Z"
    }
   },
   "outputs": [
    {
     "data": {
      "text/plain": [
       "(51512, 10)"
      ]
     },
     "execution_count": 59,
     "metadata": {},
     "output_type": "execute_result"
    },
    {
     "data": {
      "image/png": "[encoded data removed]",
      "text/plain": [
       "<Figure size 432x288 with 1 Axes>"
      ]
     },
     "metadata": {
      "needs_background": "light"
     },
     "output_type": "display_data"
    }
   ],
   "source": [
    "display_cluster(scaled_doc_topic_nmf_tfidf, km, 5)\n",
    "\n",
    "scaled_doc_topic_nmf_tfidf.shape"
   ]
  },
  {
   "cell_type": "code",
   "execution_count": 60,
   "metadata": {
    "ExecuteTime": {
     "end_time": "2019-11-13T05:16:41.354622Z",
     "start_time": "2019-11-13T05:16:41.351638Z"
    }
   },
   "outputs": [
    {
     "data": {
      "text/plain": [
       "array([ 1.61360853, -0.24274767, -0.19741814, -0.21342111, -0.08866182,\n",
       "       -0.22690485, -0.15897004,  0.11270766, -0.21419344, -0.1601984 ])"
      ]
     },
     "execution_count": 60,
     "metadata": {},
     "output_type": "execute_result"
    }
   ],
   "source": [
    "km.cluster_centers_[1]"
   ]
  },
  {
   "cell_type": "code",
   "execution_count": 61,
   "metadata": {
    "ExecuteTime": {
     "end_time": "2019-11-13T05:16:41.375519Z",
     "start_time": "2019-11-13T05:16:41.355857Z"
    }
   },
   "outputs": [
    {
     "data": {
      "text/html": [
       "<div>\n",
       "<style scoped>\n",
       "    .dataframe tbody tr th:only-of-type {\n",
       "        vertical-align: middle;\n",
       "    }\n",
       "\n",
       "    .dataframe tbody tr th {\n",
       "        vertical-align: top;\n",
       "    }\n",
       "\n",
       "    .dataframe thead th {\n",
       "        text-align: right;\n",
       "    }\n",
       "</style>\n",
       "<table border=\"1\" class=\"dataframe\">\n",
       "  <thead>\n",
       "    <tr style=\"text-align: right;\">\n",
       "      <th></th>\n",
       "      <th>review_text</th>\n",
       "      <th>movie</th>\n",
       "      <th>review_site</th>\n",
       "      <th>rating</th>\n",
       "      <th>sentiment</th>\n",
       "      <th>review_tokens</th>\n",
       "      <th>review_processed</th>\n",
       "      <th>cluster</th>\n",
       "    </tr>\n",
       "  </thead>\n",
       "  <tbody>\n",
       "    <tr>\n",
       "      <td>0</td>\n",
       "      <td>Disney, WHAT. HAVE. YOU. DONE Just to be clea...</td>\n",
       "      <td>lionking</td>\n",
       "      <td>imdb</td>\n",
       "      <td>1</td>\n",
       "      <td>negative</td>\n",
       "      <td>[disney, clear, time, favorite, movie, not, st...</td>\n",
       "      <td>disney clear time favorite movie not stress en...</td>\n",
       "      <td>1</td>\n",
       "    </tr>\n",
       "    <tr>\n",
       "      <td>1</td>\n",
       "      <td>No soul. The original Lion King is one of my ...</td>\n",
       "      <td>lionking</td>\n",
       "      <td>imdb</td>\n",
       "      <td>1</td>\n",
       "      <td>negative</td>\n",
       "      <td>[no, soul, original, lion, king, favorite, mov...</td>\n",
       "      <td>no soul original lion king favorite movie time...</td>\n",
       "      <td>1</td>\n",
       "    </tr>\n",
       "    <tr>\n",
       "      <td>5</td>\n",
       "      <td>Seriously? So anyone else notice it has a hig...</td>\n",
       "      <td>lionking</td>\n",
       "      <td>imdb</td>\n",
       "      <td>1</td>\n",
       "      <td>negative</td>\n",
       "      <td>[seriously, notice, high, score, 7.5, rating, ...</td>\n",
       "      <td>seriously notice high score 7.5 rating not str...</td>\n",
       "      <td>0</td>\n",
       "    </tr>\n",
       "    <tr>\n",
       "      <td>6</td>\n",
       "      <td>Overrated and way too much spotlight on beyon...</td>\n",
       "      <td>lionking</td>\n",
       "      <td>imdb</td>\n",
       "      <td>1</td>\n",
       "      <td>negative</td>\n",
       "      <td>[overrated, way, spotlight, beyonce, lion, kin...</td>\n",
       "      <td>overrated way spotlight beyonce lion king only...</td>\n",
       "      <td>1</td>\n",
       "    </tr>\n",
       "    <tr>\n",
       "      <td>8</td>\n",
       "      <td>Terrible acting!! Doesn't compare to the orig...</td>\n",
       "      <td>lionking</td>\n",
       "      <td>imdb</td>\n",
       "      <td>1</td>\n",
       "      <td>negative</td>\n",
       "      <td>[terrible, act, not, compare, original, love, ...</td>\n",
       "      <td>terrible act not compare original love origina...</td>\n",
       "      <td>1</td>\n",
       "    </tr>\n",
       "    <tr>\n",
       "      <td>...</td>\n",
       "      <td>...</td>\n",
       "      <td>...</td>\n",
       "      <td>...</td>\n",
       "      <td>...</td>\n",
       "      <td>...</td>\n",
       "      <td>...</td>\n",
       "      <td>...</td>\n",
       "      <td>...</td>\n",
       "    </tr>\n",
       "    <tr>\n",
       "      <td>3040</td>\n",
       "      <td>A magically wonderful film filled with adventu...</td>\n",
       "      <td>cinderella</td>\n",
       "      <td>rottentomatoes</td>\n",
       "      <td>5</td>\n",
       "      <td>positive</td>\n",
       "      <td>[magically, wonderful, film, fill, adventure, ...</td>\n",
       "      <td>magically wonderful film fill adventure fantas...</td>\n",
       "      <td>8</td>\n",
       "    </tr>\n",
       "    <tr>\n",
       "      <td>3041</td>\n",
       "      <td>Disney has overdid the faithfulness of their o...</td>\n",
       "      <td>cinderella</td>\n",
       "      <td>rottentomatoes</td>\n",
       "      <td>4</td>\n",
       "      <td>positive</td>\n",
       "      <td>[disney, overdo, faithfulness, animate, classi...</td>\n",
       "      <td>disney overdo faithfulness animate classic pro...</td>\n",
       "      <td>8</td>\n",
       "    </tr>\n",
       "    <tr>\n",
       "      <td>3042</td>\n",
       "      <td>Magic....that's about right. A re-tell of the ...</td>\n",
       "      <td>cinderella</td>\n",
       "      <td>rottentomatoes</td>\n",
       "      <td>4</td>\n",
       "      <td>positive</td>\n",
       "      <td>[magic, ...., right, tell, original, disney, m...</td>\n",
       "      <td>magic .... right tell original disney movie li...</td>\n",
       "      <td>8</td>\n",
       "    </tr>\n",
       "    <tr>\n",
       "      <td>3043</td>\n",
       "      <td>A good movie that sets it apart from the origi...</td>\n",
       "      <td>cinderella</td>\n",
       "      <td>rottentomatoes</td>\n",
       "      <td>4</td>\n",
       "      <td>positive</td>\n",
       "      <td>[good, movie, set, apart, original, story, cin...</td>\n",
       "      <td>good movie set apart original story cinderella...</td>\n",
       "      <td>7</td>\n",
       "    </tr>\n",
       "    <tr>\n",
       "      <td>3044</td>\n",
       "      <td>It's the Cinderella you know but it's really d...</td>\n",
       "      <td>cinderella</td>\n",
       "      <td>rottentomatoes</td>\n",
       "      <td>4</td>\n",
       "      <td>positive</td>\n",
       "      <td>[cinderella, know, delightfully, charm]</td>\n",
       "      <td>cinderella know delightfully charm</td>\n",
       "      <td>0</td>\n",
       "    </tr>\n",
       "  </tbody>\n",
       "</table>\n",
       "<p>51512 rows × 8 columns</p>\n",
       "</div>"
      ],
      "text/plain": [
       "                                            review_text       movie  \\\n",
       "0      Disney, WHAT. HAVE. YOU. DONE Just to be clea...    lionking   \n",
       "1      No soul. The original Lion King is one of my ...    lionking   \n",
       "5      Seriously? So anyone else notice it has a hig...    lionking   \n",
       "6      Overrated and way too much spotlight on beyon...    lionking   \n",
       "8      Terrible acting!! Doesn't compare to the orig...    lionking   \n",
       "...                                                 ...         ...   \n",
       "3040  A magically wonderful film filled with adventu...  cinderella   \n",
       "3041  Disney has overdid the faithfulness of their o...  cinderella   \n",
       "3042  Magic....that's about right. A re-tell of the ...  cinderella   \n",
       "3043  A good movie that sets it apart from the origi...  cinderella   \n",
       "3044  It's the Cinderella you know but it's really d...  cinderella   \n",
       "\n",
       "         review_site  rating sentiment  \\\n",
       "0               imdb       1  negative   \n",
       "1               imdb       1  negative   \n",
       "5               imdb       1  negative   \n",
       "6               imdb       1  negative   \n",
       "8               imdb       1  negative   \n",
       "...              ...     ...       ...   \n",
       "3040  rottentomatoes       5  positive   \n",
       "3041  rottentomatoes       4  positive   \n",
       "3042  rottentomatoes       4  positive   \n",
       "3043  rottentomatoes       4  positive   \n",
       "3044  rottentomatoes       4  positive   \n",
       "\n",
       "                                          review_tokens  \\\n",
       "0     [disney, clear, time, favorite, movie, not, st...   \n",
       "1     [no, soul, original, lion, king, favorite, mov...   \n",
       "5     [seriously, notice, high, score, 7.5, rating, ...   \n",
       "6     [overrated, way, spotlight, beyonce, lion, kin...   \n",
       "8     [terrible, act, not, compare, original, love, ...   \n",
       "...                                                 ...   \n",
       "3040  [magically, wonderful, film, fill, adventure, ...   \n",
       "3041  [disney, overdo, faithfulness, animate, classi...   \n",
       "3042  [magic, ...., right, tell, original, disney, m...   \n",
       "3043  [good, movie, set, apart, original, story, cin...   \n",
       "3044            [cinderella, know, delightfully, charm]   \n",
       "\n",
       "                                       review_processed  cluster  \n",
       "0     disney clear time favorite movie not stress en...        1  \n",
       "1     no soul original lion king favorite movie time...        1  \n",
       "5     seriously notice high score 7.5 rating not str...        0  \n",
       "6     overrated way spotlight beyonce lion king only...        1  \n",
       "8     terrible act not compare original love origina...        1  \n",
       "...                                                 ...      ...  \n",
       "3040  magically wonderful film fill adventure fantas...        8  \n",
       "3041  disney overdo faithfulness animate classic pro...        8  \n",
       "3042  magic .... right tell original disney movie li...        8  \n",
       "3043  good movie set apart original story cinderella...        7  \n",
       "3044                 cinderella know delightfully charm        0  \n",
       "\n",
       "[51512 rows x 8 columns]"
      ]
     },
     "execution_count": 61,
     "metadata": {},
     "output_type": "execute_result"
    }
   ],
   "source": [
    "full_df['cluster'] = km.labels_\n",
    "full_df"
   ]
  },
  {
   "cell_type": "code",
   "execution_count": 62,
   "metadata": {
    "ExecuteTime": {
     "end_time": "2019-11-13T05:16:41.382146Z",
     "start_time": "2019-11-13T05:16:41.376857Z"
    }
   },
   "outputs": [
    {
     "data": {
      "text/plain": [
       "0    17377\n",
       "1     8929\n",
       "8     6687\n",
       "3     3715\n",
       "7     3319\n",
       "6     3116\n",
       "5     2756\n",
       "4     2087\n",
       "9     2071\n",
       "2     1455\n",
       "Name: cluster, dtype: int64"
      ]
     },
     "execution_count": 62,
     "metadata": {},
     "output_type": "execute_result"
    }
   ],
   "source": [
    "full_df['cluster'].value_counts()"
   ]
  },
  {
   "cell_type": "code",
   "execution_count": 63,
   "metadata": {
    "ExecuteTime": {
     "end_time": "2019-11-13T05:16:41.431995Z",
     "start_time": "2019-11-13T05:16:41.383369Z"
    }
   },
   "outputs": [
    {
     "data": {
      "text/html": [
       "<div>\n",
       "<style scoped>\n",
       "    .dataframe tbody tr th:only-of-type {\n",
       "        vertical-align: middle;\n",
       "    }\n",
       "\n",
       "    .dataframe tbody tr th {\n",
       "        vertical-align: top;\n",
       "    }\n",
       "\n",
       "    .dataframe thead th {\n",
       "        text-align: right;\n",
       "    }\n",
       "</style>\n",
       "<table border=\"1\" class=\"dataframe\">\n",
       "  <thead>\n",
       "    <tr style=\"text-align: right;\">\n",
       "      <th></th>\n",
       "      <th></th>\n",
       "      <th>review_text</th>\n",
       "      <th>movie</th>\n",
       "      <th>review_site</th>\n",
       "      <th>rating</th>\n",
       "      <th>review_tokens</th>\n",
       "      <th>review_processed</th>\n",
       "    </tr>\n",
       "    <tr>\n",
       "      <th>sentiment</th>\n",
       "      <th>cluster</th>\n",
       "      <th></th>\n",
       "      <th></th>\n",
       "      <th></th>\n",
       "      <th></th>\n",
       "      <th></th>\n",
       "      <th></th>\n",
       "    </tr>\n",
       "  </thead>\n",
       "  <tbody>\n",
       "    <tr>\n",
       "      <td rowspan=\"10\" valign=\"top\">negative</td>\n",
       "      <td>0</td>\n",
       "      <td>2620</td>\n",
       "      <td>2620</td>\n",
       "      <td>2620</td>\n",
       "      <td>2620</td>\n",
       "      <td>2620</td>\n",
       "      <td>2620</td>\n",
       "    </tr>\n",
       "    <tr>\n",
       "      <td>1</td>\n",
       "      <td>2190</td>\n",
       "      <td>2190</td>\n",
       "      <td>2190</td>\n",
       "      <td>2190</td>\n",
       "      <td>2190</td>\n",
       "      <td>2190</td>\n",
       "    </tr>\n",
       "    <tr>\n",
       "      <td>2</td>\n",
       "      <td>9</td>\n",
       "      <td>9</td>\n",
       "      <td>9</td>\n",
       "      <td>9</td>\n",
       "      <td>9</td>\n",
       "      <td>9</td>\n",
       "    </tr>\n",
       "    <tr>\n",
       "      <td>3</td>\n",
       "      <td>166</td>\n",
       "      <td>166</td>\n",
       "      <td>166</td>\n",
       "      <td>166</td>\n",
       "      <td>166</td>\n",
       "      <td>166</td>\n",
       "    </tr>\n",
       "    <tr>\n",
       "      <td>4</td>\n",
       "      <td>8</td>\n",
       "      <td>8</td>\n",
       "      <td>8</td>\n",
       "      <td>8</td>\n",
       "      <td>8</td>\n",
       "      <td>8</td>\n",
       "    </tr>\n",
       "    <tr>\n",
       "      <td>5</td>\n",
       "      <td>16</td>\n",
       "      <td>16</td>\n",
       "      <td>16</td>\n",
       "      <td>16</td>\n",
       "      <td>16</td>\n",
       "      <td>16</td>\n",
       "    </tr>\n",
       "    <tr>\n",
       "      <td>6</td>\n",
       "      <td>38</td>\n",
       "      <td>38</td>\n",
       "      <td>38</td>\n",
       "      <td>38</td>\n",
       "      <td>38</td>\n",
       "      <td>38</td>\n",
       "    </tr>\n",
       "    <tr>\n",
       "      <td>7</td>\n",
       "      <td>161</td>\n",
       "      <td>161</td>\n",
       "      <td>161</td>\n",
       "      <td>161</td>\n",
       "      <td>161</td>\n",
       "      <td>161</td>\n",
       "    </tr>\n",
       "    <tr>\n",
       "      <td>8</td>\n",
       "      <td>713</td>\n",
       "      <td>713</td>\n",
       "      <td>713</td>\n",
       "      <td>713</td>\n",
       "      <td>713</td>\n",
       "      <td>713</td>\n",
       "    </tr>\n",
       "    <tr>\n",
       "      <td>9</td>\n",
       "      <td>20</td>\n",
       "      <td>20</td>\n",
       "      <td>20</td>\n",
       "      <td>20</td>\n",
       "      <td>20</td>\n",
       "      <td>20</td>\n",
       "    </tr>\n",
       "    <tr>\n",
       "      <td rowspan=\"10\" valign=\"top\">neutral</td>\n",
       "      <td>0</td>\n",
       "      <td>2586</td>\n",
       "      <td>2586</td>\n",
       "      <td>2586</td>\n",
       "      <td>2586</td>\n",
       "      <td>2586</td>\n",
       "      <td>2586</td>\n",
       "    </tr>\n",
       "    <tr>\n",
       "      <td>1</td>\n",
       "      <td>2021</td>\n",
       "      <td>2021</td>\n",
       "      <td>2021</td>\n",
       "      <td>2021</td>\n",
       "      <td>2021</td>\n",
       "      <td>2021</td>\n",
       "    </tr>\n",
       "    <tr>\n",
       "      <td>2</td>\n",
       "      <td>29</td>\n",
       "      <td>29</td>\n",
       "      <td>29</td>\n",
       "      <td>29</td>\n",
       "      <td>29</td>\n",
       "      <td>29</td>\n",
       "    </tr>\n",
       "    <tr>\n",
       "      <td>3</td>\n",
       "      <td>323</td>\n",
       "      <td>323</td>\n",
       "      <td>323</td>\n",
       "      <td>323</td>\n",
       "      <td>323</td>\n",
       "      <td>323</td>\n",
       "    </tr>\n",
       "    <tr>\n",
       "      <td>4</td>\n",
       "      <td>28</td>\n",
       "      <td>28</td>\n",
       "      <td>28</td>\n",
       "      <td>28</td>\n",
       "      <td>28</td>\n",
       "      <td>28</td>\n",
       "    </tr>\n",
       "    <tr>\n",
       "      <td>5</td>\n",
       "      <td>60</td>\n",
       "      <td>60</td>\n",
       "      <td>60</td>\n",
       "      <td>60</td>\n",
       "      <td>60</td>\n",
       "      <td>60</td>\n",
       "    </tr>\n",
       "    <tr>\n",
       "      <td>6</td>\n",
       "      <td>127</td>\n",
       "      <td>127</td>\n",
       "      <td>127</td>\n",
       "      <td>127</td>\n",
       "      <td>127</td>\n",
       "      <td>127</td>\n",
       "    </tr>\n",
       "    <tr>\n",
       "      <td>7</td>\n",
       "      <td>586</td>\n",
       "      <td>586</td>\n",
       "      <td>586</td>\n",
       "      <td>586</td>\n",
       "      <td>586</td>\n",
       "      <td>586</td>\n",
       "    </tr>\n",
       "    <tr>\n",
       "      <td>8</td>\n",
       "      <td>1079</td>\n",
       "      <td>1079</td>\n",
       "      <td>1079</td>\n",
       "      <td>1079</td>\n",
       "      <td>1079</td>\n",
       "      <td>1079</td>\n",
       "    </tr>\n",
       "    <tr>\n",
       "      <td>9</td>\n",
       "      <td>76</td>\n",
       "      <td>76</td>\n",
       "      <td>76</td>\n",
       "      <td>76</td>\n",
       "      <td>76</td>\n",
       "      <td>76</td>\n",
       "    </tr>\n",
       "    <tr>\n",
       "      <td rowspan=\"10\" valign=\"top\">positive</td>\n",
       "      <td>0</td>\n",
       "      <td>12171</td>\n",
       "      <td>12171</td>\n",
       "      <td>12171</td>\n",
       "      <td>12171</td>\n",
       "      <td>12171</td>\n",
       "      <td>12171</td>\n",
       "    </tr>\n",
       "    <tr>\n",
       "      <td>1</td>\n",
       "      <td>4718</td>\n",
       "      <td>4718</td>\n",
       "      <td>4718</td>\n",
       "      <td>4718</td>\n",
       "      <td>4718</td>\n",
       "      <td>4718</td>\n",
       "    </tr>\n",
       "    <tr>\n",
       "      <td>2</td>\n",
       "      <td>1417</td>\n",
       "      <td>1417</td>\n",
       "      <td>1417</td>\n",
       "      <td>1417</td>\n",
       "      <td>1417</td>\n",
       "      <td>1417</td>\n",
       "    </tr>\n",
       "    <tr>\n",
       "      <td>3</td>\n",
       "      <td>3226</td>\n",
       "      <td>3226</td>\n",
       "      <td>3226</td>\n",
       "      <td>3226</td>\n",
       "      <td>3226</td>\n",
       "      <td>3226</td>\n",
       "    </tr>\n",
       "    <tr>\n",
       "      <td>4</td>\n",
       "      <td>2051</td>\n",
       "      <td>2051</td>\n",
       "      <td>2051</td>\n",
       "      <td>2051</td>\n",
       "      <td>2051</td>\n",
       "      <td>2051</td>\n",
       "    </tr>\n",
       "    <tr>\n",
       "      <td>5</td>\n",
       "      <td>2680</td>\n",
       "      <td>2680</td>\n",
       "      <td>2680</td>\n",
       "      <td>2680</td>\n",
       "      <td>2680</td>\n",
       "      <td>2680</td>\n",
       "    </tr>\n",
       "    <tr>\n",
       "      <td>6</td>\n",
       "      <td>2951</td>\n",
       "      <td>2951</td>\n",
       "      <td>2951</td>\n",
       "      <td>2951</td>\n",
       "      <td>2951</td>\n",
       "      <td>2951</td>\n",
       "    </tr>\n",
       "    <tr>\n",
       "      <td>7</td>\n",
       "      <td>2572</td>\n",
       "      <td>2572</td>\n",
       "      <td>2572</td>\n",
       "      <td>2572</td>\n",
       "      <td>2572</td>\n",
       "      <td>2572</td>\n",
       "    </tr>\n",
       "    <tr>\n",
       "      <td>8</td>\n",
       "      <td>4895</td>\n",
       "      <td>4895</td>\n",
       "      <td>4895</td>\n",
       "      <td>4895</td>\n",
       "      <td>4895</td>\n",
       "      <td>4895</td>\n",
       "    </tr>\n",
       "    <tr>\n",
       "      <td>9</td>\n",
       "      <td>1975</td>\n",
       "      <td>1975</td>\n",
       "      <td>1975</td>\n",
       "      <td>1975</td>\n",
       "      <td>1975</td>\n",
       "      <td>1975</td>\n",
       "    </tr>\n",
       "  </tbody>\n",
       "</table>\n",
       "</div>"
      ],
      "text/plain": [
       "                   review_text  movie  review_site  rating  review_tokens  \\\n",
       "sentiment cluster                                                           \n",
       "negative  0               2620   2620         2620    2620           2620   \n",
       "          1               2190   2190         2190    2190           2190   \n",
       "          2                  9      9            9       9              9   \n",
       "          3                166    166          166     166            166   \n",
       "          4                  8      8            8       8              8   \n",
       "          5                 16     16           16      16             16   \n",
       "          6                 38     38           38      38             38   \n",
       "          7                161    161          161     161            161   \n",
       "          8                713    713          713     713            713   \n",
       "          9                 20     20           20      20             20   \n",
       "neutral   0               2586   2586         2586    2586           2586   \n",
       "          1               2021   2021         2021    2021           2021   \n",
       "          2                 29     29           29      29             29   \n",
       "          3                323    323          323     323            323   \n",
       "          4                 28     28           28      28             28   \n",
       "          5                 60     60           60      60             60   \n",
       "          6                127    127          127     127            127   \n",
       "          7                586    586          586     586            586   \n",
       "          8               1079   1079         1079    1079           1079   \n",
       "          9                 76     76           76      76             76   \n",
       "positive  0              12171  12171        12171   12171          12171   \n",
       "          1               4718   4718         4718    4718           4718   \n",
       "          2               1417   1417         1417    1417           1417   \n",
       "          3               3226   3226         3226    3226           3226   \n",
       "          4               2051   2051         2051    2051           2051   \n",
       "          5               2680   2680         2680    2680           2680   \n",
       "          6               2951   2951         2951    2951           2951   \n",
       "          7               2572   2572         2572    2572           2572   \n",
       "          8               4895   4895         4895    4895           4895   \n",
       "          9               1975   1975         1975    1975           1975   \n",
       "\n",
       "                   review_processed  \n",
       "sentiment cluster                    \n",
       "negative  0                    2620  \n",
       "          1                    2190  \n",
       "          2                       9  \n",
       "          3                     166  \n",
       "          4                       8  \n",
       "          5                      16  \n",
       "          6                      38  \n",
       "          7                     161  \n",
       "          8                     713  \n",
       "          9                      20  \n",
       "neutral   0                    2586  \n",
       "          1                    2021  \n",
       "          2                      29  \n",
       "          3                     323  \n",
       "          4                      28  \n",
       "          5                      60  \n",
       "          6                     127  \n",
       "          7                     586  \n",
       "          8                    1079  \n",
       "          9                      76  \n",
       "positive  0                   12171  \n",
       "          1                    4718  \n",
       "          2                    1417  \n",
       "          3                    3226  \n",
       "          4                    2051  \n",
       "          5                    2680  \n",
       "          6                    2951  \n",
       "          7                    2572  \n",
       "          8                    4895  \n",
       "          9                    1975  "
      ]
     },
     "execution_count": 63,
     "metadata": {},
     "output_type": "execute_result"
    }
   ],
   "source": [
    "full_df.groupby(['sentiment','cluster']).count()"
   ]
  },
  {
   "cell_type": "code",
   "execution_count": 64,
   "metadata": {
    "ExecuteTime": {
     "end_time": "2019-11-13T05:16:41.461505Z",
     "start_time": "2019-11-13T05:16:41.433888Z"
    }
   },
   "outputs": [
    {
     "data": {
      "text/html": [
       "<div>\n",
       "<style scoped>\n",
       "    .dataframe tbody tr th:only-of-type {\n",
       "        vertical-align: middle;\n",
       "    }\n",
       "\n",
       "    .dataframe tbody tr th {\n",
       "        vertical-align: top;\n",
       "    }\n",
       "\n",
       "    .dataframe thead th {\n",
       "        text-align: right;\n",
       "    }\n",
       "</style>\n",
       "<table border=\"1\" class=\"dataframe\">\n",
       "  <thead>\n",
       "    <tr style=\"text-align: right;\">\n",
       "      <th></th>\n",
       "      <th>review_text</th>\n",
       "      <th>movie</th>\n",
       "      <th>review_site</th>\n",
       "      <th>rating</th>\n",
       "      <th>sentiment</th>\n",
       "      <th>review_tokens</th>\n",
       "      <th>review_processed</th>\n",
       "      <th>cluster</th>\n",
       "    </tr>\n",
       "  </thead>\n",
       "  <tbody>\n",
       "    <tr>\n",
       "      <td>0</td>\n",
       "      <td>Disney, WHAT. HAVE. YOU. DONE Just to be clea...</td>\n",
       "      <td>lionking</td>\n",
       "      <td>imdb</td>\n",
       "      <td>1</td>\n",
       "      <td>negative</td>\n",
       "      <td>[disney, clear, time, favorite, movie, not, st...</td>\n",
       "      <td>disney clear time favorite movie not stress en...</td>\n",
       "      <td>1</td>\n",
       "    </tr>\n",
       "    <tr>\n",
       "      <td>1</td>\n",
       "      <td>No soul. The original Lion King is one of my ...</td>\n",
       "      <td>lionking</td>\n",
       "      <td>imdb</td>\n",
       "      <td>1</td>\n",
       "      <td>negative</td>\n",
       "      <td>[no, soul, original, lion, king, favorite, mov...</td>\n",
       "      <td>no soul original lion king favorite movie time...</td>\n",
       "      <td>1</td>\n",
       "    </tr>\n",
       "    <tr>\n",
       "      <td>6</td>\n",
       "      <td>Overrated and way too much spotlight on beyon...</td>\n",
       "      <td>lionking</td>\n",
       "      <td>imdb</td>\n",
       "      <td>1</td>\n",
       "      <td>negative</td>\n",
       "      <td>[overrated, way, spotlight, beyonce, lion, kin...</td>\n",
       "      <td>overrated way spotlight beyonce lion king only...</td>\n",
       "      <td>1</td>\n",
       "    </tr>\n",
       "    <tr>\n",
       "      <td>8</td>\n",
       "      <td>Terrible acting!! Doesn't compare to the orig...</td>\n",
       "      <td>lionking</td>\n",
       "      <td>imdb</td>\n",
       "      <td>1</td>\n",
       "      <td>negative</td>\n",
       "      <td>[terrible, act, not, compare, original, love, ...</td>\n",
       "      <td>terrible act not compare original love origina...</td>\n",
       "      <td>1</td>\n",
       "    </tr>\n",
       "    <tr>\n",
       "      <td>9</td>\n",
       "      <td>Very disappointed The voice actress did terri...</td>\n",
       "      <td>lionking</td>\n",
       "      <td>imdb</td>\n",
       "      <td>1</td>\n",
       "      <td>negative</td>\n",
       "      <td>[disappoint, voice, actress, terrible, origina...</td>\n",
       "      <td>disappoint voice actress terrible original lio...</td>\n",
       "      <td>1</td>\n",
       "    </tr>\n",
       "    <tr>\n",
       "      <td>...</td>\n",
       "      <td>...</td>\n",
       "      <td>...</td>\n",
       "      <td>...</td>\n",
       "      <td>...</td>\n",
       "      <td>...</td>\n",
       "      <td>...</td>\n",
       "      <td>...</td>\n",
       "      <td>...</td>\n",
       "    </tr>\n",
       "    <tr>\n",
       "      <td>2980</td>\n",
       "      <td>Decent but it needed to stand out from all the...</td>\n",
       "      <td>cinderella</td>\n",
       "      <td>rottentomatoes</td>\n",
       "      <td>5</td>\n",
       "      <td>positive</td>\n",
       "      <td>[decent, need, stand, other, cinderella, movie...</td>\n",
       "      <td>decent need stand other cinderella movie not</td>\n",
       "      <td>1</td>\n",
       "    </tr>\n",
       "    <tr>\n",
       "      <td>2993</td>\n",
       "      <td>MAGICAL in every way! I felt like a little gir...</td>\n",
       "      <td>cinderella</td>\n",
       "      <td>rottentomatoes</td>\n",
       "      <td>5</td>\n",
       "      <td>positive</td>\n",
       "      <td>[magical, way, feel, like, little, girl, watch...</td>\n",
       "      <td>magical way feel like little girl watch story ...</td>\n",
       "      <td>1</td>\n",
       "    </tr>\n",
       "    <tr>\n",
       "      <td>3008</td>\n",
       "      <td>Unexpected... I really liked it, thought it wa...</td>\n",
       "      <td>cinderella</td>\n",
       "      <td>rottentomatoes</td>\n",
       "      <td>5</td>\n",
       "      <td>positive</td>\n",
       "      <td>[unexpected, ..., like, think, go, twist, :)]</td>\n",
       "      <td>unexpected ... like think go twist :)</td>\n",
       "      <td>1</td>\n",
       "    </tr>\n",
       "    <tr>\n",
       "      <td>3019</td>\n",
       "      <td>An alright movie. Though if you're looking for...</td>\n",
       "      <td>cinderella</td>\n",
       "      <td>rottentomatoes</td>\n",
       "      <td>3</td>\n",
       "      <td>neutral</td>\n",
       "      <td>[alright, movie, look, fresh, not]</td>\n",
       "      <td>alright movie look fresh not</td>\n",
       "      <td>1</td>\n",
       "    </tr>\n",
       "    <tr>\n",
       "      <td>3039</td>\n",
       "      <td>When I first heard that they were making a liv...</td>\n",
       "      <td>cinderella</td>\n",
       "      <td>rottentomatoes</td>\n",
       "      <td>4</td>\n",
       "      <td>positive</td>\n",
       "      <td>[﻿1, hear, make, live, action, movie, base, of...</td>\n",
       "      <td>﻿1 hear make live action movie base off disney...</td>\n",
       "      <td>1</td>\n",
       "    </tr>\n",
       "  </tbody>\n",
       "</table>\n",
       "<p>8929 rows × 8 columns</p>\n",
       "</div>"
      ],
      "text/plain": [
       "                                            review_text       movie  \\\n",
       "0      Disney, WHAT. HAVE. YOU. DONE Just to be clea...    lionking   \n",
       "1      No soul. The original Lion King is one of my ...    lionking   \n",
       "6      Overrated and way too much spotlight on beyon...    lionking   \n",
       "8      Terrible acting!! Doesn't compare to the orig...    lionking   \n",
       "9      Very disappointed The voice actress did terri...    lionking   \n",
       "...                                                 ...         ...   \n",
       "2980  Decent but it needed to stand out from all the...  cinderella   \n",
       "2993  MAGICAL in every way! I felt like a little gir...  cinderella   \n",
       "3008  Unexpected... I really liked it, thought it wa...  cinderella   \n",
       "3019  An alright movie. Though if you're looking for...  cinderella   \n",
       "3039  When I first heard that they were making a liv...  cinderella   \n",
       "\n",
       "         review_site  rating sentiment  \\\n",
       "0               imdb       1  negative   \n",
       "1               imdb       1  negative   \n",
       "6               imdb       1  negative   \n",
       "8               imdb       1  negative   \n",
       "9               imdb       1  negative   \n",
       "...              ...     ...       ...   \n",
       "2980  rottentomatoes       5  positive   \n",
       "2993  rottentomatoes       5  positive   \n",
       "3008  rottentomatoes       5  positive   \n",
       "3019  rottentomatoes       3   neutral   \n",
       "3039  rottentomatoes       4  positive   \n",
       "\n",
       "                                          review_tokens  \\\n",
       "0     [disney, clear, time, favorite, movie, not, st...   \n",
       "1     [no, soul, original, lion, king, favorite, mov...   \n",
       "6     [overrated, way, spotlight, beyonce, lion, kin...   \n",
       "8     [terrible, act, not, compare, original, love, ...   \n",
       "9     [disappoint, voice, actress, terrible, origina...   \n",
       "...                                                 ...   \n",
       "2980  [decent, need, stand, other, cinderella, movie...   \n",
       "2993  [magical, way, feel, like, little, girl, watch...   \n",
       "3008      [unexpected, ..., like, think, go, twist, :)]   \n",
       "3019                 [alright, movie, look, fresh, not]   \n",
       "3039  [﻿1, hear, make, live, action, movie, base, of...   \n",
       "\n",
       "                                       review_processed  cluster  \n",
       "0     disney clear time favorite movie not stress en...        1  \n",
       "1     no soul original lion king favorite movie time...        1  \n",
       "6     overrated way spotlight beyonce lion king only...        1  \n",
       "8     terrible act not compare original love origina...        1  \n",
       "9     disappoint voice actress terrible original lio...        1  \n",
       "...                                                 ...      ...  \n",
       "2980       decent need stand other cinderella movie not        1  \n",
       "2993  magical way feel like little girl watch story ...        1  \n",
       "3008              unexpected ... like think go twist :)        1  \n",
       "3019                       alright movie look fresh not        1  \n",
       "3039  ﻿1 hear make live action movie base off disney...        1  \n",
       "\n",
       "[8929 rows x 8 columns]"
      ]
     },
     "execution_count": 64,
     "metadata": {},
     "output_type": "execute_result"
    }
   ],
   "source": [
    "full_df[full_df['cluster']==1]"
   ]
  },
  {
   "cell_type": "code",
   "execution_count": 65,
   "metadata": {
    "ExecuteTime": {
     "end_time": "2019-11-13T05:16:41.485111Z",
     "start_time": "2019-11-13T05:16:41.463056Z"
    }
   },
   "outputs": [
    {
     "data": {
      "text/html": [
       "<div>\n",
       "<style scoped>\n",
       "    .dataframe tbody tr th:only-of-type {\n",
       "        vertical-align: middle;\n",
       "    }\n",
       "\n",
       "    .dataframe tbody tr th {\n",
       "        vertical-align: top;\n",
       "    }\n",
       "\n",
       "    .dataframe thead th {\n",
       "        text-align: right;\n",
       "    }\n",
       "</style>\n",
       "<table border=\"1\" class=\"dataframe\">\n",
       "  <thead>\n",
       "    <tr style=\"text-align: right;\">\n",
       "      <th></th>\n",
       "      <th></th>\n",
       "      <th>movie</th>\n",
       "    </tr>\n",
       "    <tr>\n",
       "      <th>sentiment</th>\n",
       "      <th>cluster</th>\n",
       "      <th></th>\n",
       "    </tr>\n",
       "  </thead>\n",
       "  <tbody>\n",
       "    <tr>\n",
       "      <td rowspan=\"10\" valign=\"top\">negative</td>\n",
       "      <td>0</td>\n",
       "      <td>5.086194</td>\n",
       "    </tr>\n",
       "    <tr>\n",
       "      <td>1</td>\n",
       "      <td>4.251437</td>\n",
       "    </tr>\n",
       "    <tr>\n",
       "      <td>2</td>\n",
       "      <td>0.017472</td>\n",
       "    </tr>\n",
       "    <tr>\n",
       "      <td>3</td>\n",
       "      <td>0.322255</td>\n",
       "    </tr>\n",
       "    <tr>\n",
       "      <td>4</td>\n",
       "      <td>0.015530</td>\n",
       "    </tr>\n",
       "    <tr>\n",
       "      <td>5</td>\n",
       "      <td>0.031061</td>\n",
       "    </tr>\n",
       "    <tr>\n",
       "      <td>6</td>\n",
       "      <td>0.073769</td>\n",
       "    </tr>\n",
       "    <tr>\n",
       "      <td>7</td>\n",
       "      <td>0.312549</td>\n",
       "    </tr>\n",
       "    <tr>\n",
       "      <td>8</td>\n",
       "      <td>1.384144</td>\n",
       "    </tr>\n",
       "    <tr>\n",
       "      <td>9</td>\n",
       "      <td>0.038826</td>\n",
       "    </tr>\n",
       "    <tr>\n",
       "      <td rowspan=\"10\" valign=\"top\">neutral</td>\n",
       "      <td>0</td>\n",
       "      <td>5.020189</td>\n",
       "    </tr>\n",
       "    <tr>\n",
       "      <td>1</td>\n",
       "      <td>3.923358</td>\n",
       "    </tr>\n",
       "    <tr>\n",
       "      <td>2</td>\n",
       "      <td>0.056298</td>\n",
       "    </tr>\n",
       "    <tr>\n",
       "      <td>3</td>\n",
       "      <td>0.627038</td>\n",
       "    </tr>\n",
       "    <tr>\n",
       "      <td>4</td>\n",
       "      <td>0.054356</td>\n",
       "    </tr>\n",
       "    <tr>\n",
       "      <td>5</td>\n",
       "      <td>0.116478</td>\n",
       "    </tr>\n",
       "    <tr>\n",
       "      <td>6</td>\n",
       "      <td>0.246544</td>\n",
       "    </tr>\n",
       "    <tr>\n",
       "      <td>7</td>\n",
       "      <td>1.137599</td>\n",
       "    </tr>\n",
       "    <tr>\n",
       "      <td>8</td>\n",
       "      <td>2.094658</td>\n",
       "    </tr>\n",
       "    <tr>\n",
       "      <td>9</td>\n",
       "      <td>0.147538</td>\n",
       "    </tr>\n",
       "    <tr>\n",
       "      <td rowspan=\"10\" valign=\"top\">positive</td>\n",
       "      <td>0</td>\n",
       "      <td>23.627504</td>\n",
       "    </tr>\n",
       "    <tr>\n",
       "      <td>1</td>\n",
       "      <td>9.159031</td>\n",
       "    </tr>\n",
       "    <tr>\n",
       "      <td>2</td>\n",
       "      <td>2.750815</td>\n",
       "    </tr>\n",
       "    <tr>\n",
       "      <td>3</td>\n",
       "      <td>6.262618</td>\n",
       "    </tr>\n",
       "    <tr>\n",
       "      <td>4</td>\n",
       "      <td>3.981597</td>\n",
       "    </tr>\n",
       "    <tr>\n",
       "      <td>5</td>\n",
       "      <td>5.202671</td>\n",
       "    </tr>\n",
       "    <tr>\n",
       "      <td>6</td>\n",
       "      <td>5.728762</td>\n",
       "    </tr>\n",
       "    <tr>\n",
       "      <td>7</td>\n",
       "      <td>4.993011</td>\n",
       "    </tr>\n",
       "    <tr>\n",
       "      <td>8</td>\n",
       "      <td>9.502640</td>\n",
       "    </tr>\n",
       "    <tr>\n",
       "      <td>9</td>\n",
       "      <td>3.834058</td>\n",
       "    </tr>\n",
       "  </tbody>\n",
       "</table>\n",
       "</div>"
      ],
      "text/plain": [
       "                       movie\n",
       "sentiment cluster           \n",
       "negative  0         5.086194\n",
       "          1         4.251437\n",
       "          2         0.017472\n",
       "          3         0.322255\n",
       "          4         0.015530\n",
       "          5         0.031061\n",
       "          6         0.073769\n",
       "          7         0.312549\n",
       "          8         1.384144\n",
       "          9         0.038826\n",
       "neutral   0         5.020189\n",
       "          1         3.923358\n",
       "          2         0.056298\n",
       "          3         0.627038\n",
       "          4         0.054356\n",
       "          5         0.116478\n",
       "          6         0.246544\n",
       "          7         1.137599\n",
       "          8         2.094658\n",
       "          9         0.147538\n",
       "positive  0        23.627504\n",
       "          1         9.159031\n",
       "          2         2.750815\n",
       "          3         6.262618\n",
       "          4         3.981597\n",
       "          5         5.202671\n",
       "          6         5.728762\n",
       "          7         4.993011\n",
       "          8         9.502640\n",
       "          9         3.834058"
      ]
     },
     "execution_count": 65,
     "metadata": {},
     "output_type": "execute_result"
    }
   ],
   "source": [
    "tempdf = full_df.groupby(['sentiment','cluster'])\n",
    "tempdf = tempdf[['movie']].count()\n",
    "tempdf.apply(lambda x: x/x.sum()*100)"
   ]
  },
  {
   "cell_type": "markdown",
   "metadata": {},
   "source": [
    "# DO NOT USE BELOW ---"
   ]
  },
  {
   "cell_type": "code",
   "execution_count": 66,
   "metadata": {
    "ExecuteTime": {
     "end_time": "2019-11-13T05:16:41.491759Z",
     "start_time": "2019-11-13T05:16:41.486587Z"
    }
   },
   "outputs": [
    {
     "ename": "SyntaxError",
     "evalue": "invalid syntax (<ipython-input-66-f4443a238154>, line 5)",
     "output_type": "error",
     "traceback": [
      "\u001b[0;36m  File \u001b[0;32m\"<ipython-input-66-f4443a238154>\"\u001b[0;36m, line \u001b[0;32m5\u001b[0m\n\u001b[0;31m    - the car is red  blue\u001b[0m\n\u001b[0m            ^\u001b[0m\n\u001b[0;31mSyntaxError\u001b[0m\u001b[0;31m:\u001b[0m invalid syntax\n"
     ]
    }
   ],
   "source": [
    "tokenization\n",
    "- car is red\n",
    "- car is blue\n",
    "vectorization\n",
    "- the car is red  blue\n",
    "doc1 1 1 1 1 0\n",
    "doc2 1 1 1 0 1 \n",
    "#count count, or is word in it at all\n",
    "#TFIDF (term-frequency matrix)\n",
    "\n",
    "#corpus 0000 1 00\n",
    "#sparse matrix \n",
    "#can use to see which doc is most similar to this? can do this, but won't get much info\n",
    "\n",
    "#next step = dimensionality reduction\n",
    "#grabs big matrix with bunch of zeroes --> converts to matrix with same number of docs\n",
    "#d1--> dn --> specify # of columns want to have \n",
    "#can handle better\n",
    "\n",
    "#can grab 2 docs and do cosine similarities or euclidean distance\n",
    "#ex. maybe document and find one closer to that (ex. recipe of Chinese food, Mexican food, etc,) --> hopefully find another recipe similar (or book)\n",
    "\n",
    "#OR grab to classification or regression\n",
    "\n",
    "#recommendation systems is separate\n",
    "\n",
    "#ex. predict if Chinese, Mexican, or Italian; or predict rating of article (1-5 rating of article)\n",
    "#or classifier of sentiment (positive or negative) --> 0 is negative, 1 is positive; train own \n",
    "\n",
    "#train-test split\n",
    "# beginning: dimensionality reduction, vectorization \n",
    "\n",
    "\n",
    "#remove stop words, emojis --> train model\n",
    "#test data: apply same cleaning, fit to all this stuff [never clean with this in it]\n",
    "#ok to tokenize and clean, but can't fit anything with test\n",
    "\n",
    "\n",
    "#can cluster with this (ex. similar to classification) -- [clusters not supervised so don't know what topics/clusters will come out]\n",
    "#clustering = unsupervised\n",
    "\n",
    "#dimensions = topics\n",
    "#dimensions CAN be same as clusters \n",
    "\n",
    "#say you cluster \n",
    "#if you run k means, says which 2 are clusters: look at a few docs in 1 cluster and see what have in common\n",
    "#OR look at cluster centroids\n",
    "#top 3-5 docs closest to centroid --> most representative topics of that cluster \n",
    "#does this make sense that these are grouped together vs. not? \n",
    "\n",
    "#betwen dimensionality reduction and clustering, can group negative vs. positive reviews \n",
    "\n",
    "#dimens: LSA, LDA, NMF, PCA (don't use for countvec b/c used when DON'T have spare matrix, but just have a lot of columns)\n",
    "#values in TFIDF and LSA different--but this is only difference\n",
    "\n",
    "#matrices: dimensions n x m columns --> matrix factorization (n x x and x x m) - NMF --makes all vectors positive --> convert into matrix with 3 components (3 features --> separates into all docs on another x dimensional space AND that dimensional space onto your CV values)\n",
    "#CV matrix: Doc * words - sparse matrix\n",
    "\n",
    "#NMF finds n x3 and 3xm; or LSA--svd (3 matrices; n x3, 3 x3, 3xm) both give orig together; nx3 has other interesting properties\n",
    "#topic = dimensions --> can become same topics\n",
    "\n",
    "#can play with value of x (can specify what x needs to be)\n",
    "#OR can have 3 matrices multiplied together: \n",
    "\n",
    "#cosine sim to see docs\n",
    "\n",
    "#smaller number \n",
    "#clusters based on similarities\n",
    "\n",
    "#my data clustered on these things\n",
    "#k determine number of clusters elbow method inertia\n",
    "#or if topics closely related, that's why have fewer\n",
    "\n"
   ]
  },
  {
   "cell_type": "code",
   "execution_count": null,
   "metadata": {
    "ExecuteTime": {
     "end_time": "2019-11-13T05:16:41.493381Z",
     "start_time": "2019-11-13T05:15:06.692Z"
    }
   },
   "outputs": [],
   "source": [
    "for word in review_text_list[964]:\n",
    "    if nlp(word)._.has_emoji == True:\n",
    "        emoji_desc = word._.emoji_desc\n",
    "        print(emoji_desc)\n",
    "emoji_desc"
   ]
  },
  {
   "cell_type": "code",
   "execution_count": null,
   "metadata": {
    "ExecuteTime": {
     "end_time": "2019-11-13T05:16:41.494126Z",
     "start_time": "2019-11-13T05:15:06.695Z"
    }
   },
   "outputs": [],
   "source": [
    "# review_text_list = full_df['review_text'].tolist()\n",
    "# # for review in review_text_list:\n",
    "# #     print(review[1])\n",
    "# # for test in review_text_list:\n",
    "# type(review_text_list[1])\n",
    "\n",
    "\n",
    "text = review_text_list\n",
    "if isinstance(text, list):\n",
    "    for word in text:\n",
    "        print(word + \"/n\")\n",
    "# else:\n",
    "#     print(text + \"/n\")"
   ]
  },
  {
   "cell_type": "code",
   "execution_count": null,
   "metadata": {
    "ExecuteTime": {
     "end_time": "2019-11-13T05:16:41.495354Z",
     "start_time": "2019-11-13T05:15:06.698Z"
    }
   },
   "outputs": [],
   "source": [
    "# Creating our tokenizer function\n",
    "review_text_list = full_df['review_text'].tolist()\n",
    "\n",
    "\n",
    "def spacy_tokenizer(review):\n",
    "    # Creating our token object, which is used to create documents with linguistic annotations.\n",
    "    text = review_text_list[964]\n",
    "    if isinstance(text, list):\n",
    "        for word in text:\n",
    "            mytokens = nlp(word)\n",
    "#             filtered = filter_spans(spans)\n",
    "    else:\n",
    "            mytokens = nlp(text)\n",
    "    \n",
    "\n",
    "    # Lemmatizing each token and converting each token into lowercase\n",
    "    mytokens = [ word.lemma_.lower().strip() if word.lemma_ != \"-PRON-\" else word.lower_ for word in mytokens ]\n",
    "\n",
    "    # Removing stop words\n",
    "    mytokens = [ word for word in mytokens if word not in stop_words and word not in punctuations ]\n",
    "\n",
    "    # return preprocessed list of tokens\n",
    "#     full_df['tokens'] = mytokens\n",
    "    review_text_token = mytokens\n",
    "    print(review_text_token)\n",
    "# full_df['review_text'].apply(lambda x: spacy_tokenizer(x))\n",
    "\n",
    "spacy_tokenizer(review_text_list)"
   ]
  },
  {
   "cell_type": "code",
   "execution_count": null,
   "metadata": {
    "ExecuteTime": {
     "end_time": "2019-11-13T05:16:41.496514Z",
     "start_time": "2019-11-13T05:15:06.700Z"
    }
   },
   "outputs": [],
   "source": [
    "# Turn emojis to text\n",
    "print(review_text_token)\n",
    "for word in review_text_token:\n",
    "    print(type(word))\n",
    "    print(word)\n",
    "    print(review_text_token)\n",
    "#     if word._.has_emoji == True:\n",
    "#         emoji_desc = word._.emoji_desc\n",
    "#         print(emoji_desc)\n",
    "        "
   ]
  },
  {
   "cell_type": "code",
   "execution_count": null,
   "metadata": {
    "ExecuteTime": {
     "end_time": "2019-11-13T05:16:41.497730Z",
     "start_time": "2019-11-13T05:15:06.703Z"
    }
   },
   "outputs": [],
   "source": [
    "print(mytokens[0])\n",
    "print(type(review_list_token))\n",
    "full_df['review_tokens'] = review_list_token\n",
    "\n",
    "for word in review_list_token[964]:\n",
    "    word."
   ]
  },
  {
   "cell_type": "code",
   "execution_count": null,
   "metadata": {
    "ExecuteTime": {
     "end_time": "2019-11-13T05:16:41.498712Z",
     "start_time": "2019-11-13T05:15:06.706Z"
    }
   },
   "outputs": [],
   "source": [
    "test_list = ['world hello, friend like me']\n",
    "type(test_list)\n",
    "\n",
    "if isinstance(text, list):\n",
    "    for word in test_list:\n",
    "        mytokens = nlp(word).text\n",
    "#             filtered = filter_spans(spans)\n",
    "else:\n",
    "        mytokens = nlp(text).text\n",
    "        \n",
    "type(mytokens)\n",
    "print(mytokens)"
   ]
  },
  {
   "cell_type": "code",
   "execution_count": null,
   "metadata": {
    "ExecuteTime": {
     "end_time": "2019-11-13T05:16:41.499798Z",
     "start_time": "2019-11-13T05:15:06.709Z"
    }
   },
   "outputs": [],
   "source": [
    "full_df['lemma'] = full_df['review_text'].apply(lambda x: nlp(x).lemma_)\n",
    "full_df['pos'] = full_df['lemma'].apply(lambda x: nlp(x.pos_, batch_size=50))\n",
    "full_df['is_stop'] = full_df['pos'].apply(lambda x: nlp(x.is_stop, batch_size=50))"
   ]
  },
  {
   "cell_type": "code",
   "execution_count": null,
   "metadata": {
    "ExecuteTime": {
     "end_time": "2019-11-13T05:16:41.501277Z",
     "start_time": "2019-11-13T05:15:06.711Z"
    }
   },
   "outputs": [],
   "source": [
    "# tokens = []\n",
    "# lemma = []\n",
    "# pos = []\n",
    "\n",
    "# for doc in nlp.pipe(full_df['review_text'].astype('unicode').values, batch_size=1000,\n",
    "#                         n_threads=3):\n",
    "#     if doc.is_parsed:\n",
    "#         tokens.append([n.text for n in doc])\n",
    "#         lemma.append([n.lemma_ for n in doc])\n",
    "#         pos.append([n.pos_ for n in doc])\n",
    "#     else:\n",
    "#         # We want to make sure that the lists of parsed results have the\n",
    "#         # same number of entries of the original Dataframe, so add some blanks in case the parse fails\n",
    "#         tokens.append(None)\n",
    "#         lemma.append(None)\n",
    "#         pos.append(None)\n",
    "\n",
    "# full_df['species_tokens'] = tokens\n",
    "# full_df['species_lemma'] = lemma\n",
    "# full_df['species_pos'] = pos"
   ]
  },
  {
   "cell_type": "code",
   "execution_count": null,
   "metadata": {
    "ExecuteTime": {
     "end_time": "2019-11-13T05:16:41.502864Z",
     "start_time": "2019-11-13T05:15:06.714Z"
    }
   },
   "outputs": [],
   "source": [
    "#don't want books without description: wouldn't trust results (all books have title, not all have description)\n",
    "#supervised after --> looks like topics are not very good or clear --> can extend to genre (initial phase of recommender)\n",
    "#can do logistic regression, etc. \n",
    "\n",
    "\n",
    "\n",
    "#To overcome span error E102: Can't merge non-disjoint spans. '🇸' is already part of tokens to merge. If you want to find the longest non-overlapping spans, you can use the util.filter_spans helper:\n",
    "# def filter_spans(spans):\n",
    "#     # Filter a sequence of spans so they don't contain overlaps\n",
    "#     get_sort_key = lambda span: (span.end - span.start, span.start)\n",
    "#     sorted_spans = sorted(spans, key=get_sort_key, reverse=True)\n",
    "#     result = []\n",
    "#     seen_tokens = set()\n",
    "#     for span in spans:\n",
    "#         if span.start not in seen_tokens and span.end - 1 not in seen_tokens:\n",
    "#             result.append(span)\n",
    "#             seen_tokens.update(range(span.start, span.end))\n",
    "#     return result\n"
   ]
  }
 ],
 "metadata": {
  "kernelspec": {
   "display_name": "Python [conda env:metis] *",
   "language": "python",
   "name": "conda-env-metis-py"
  },
  "language_info": {
   "codemirror_mode": {
    "name": "ipython",
    "version": 3
   },
   "file_extension": ".py",
   "mimetype": "text/x-python",
   "name": "python",
   "nbconvert_exporter": "python",
   "pygments_lexer": "ipython3",
   "version": "3.7.3"
  },
  "toc": {
   "base_numbering": 1,
   "nav_menu": {},
   "number_sections": true,
   "sideBar": true,
   "skip_h1_title": false,
   "title_cell": "Table of Contents",
   "title_sidebar": "Contents",
   "toc_cell": false,
   "toc_position": {},
   "toc_section_display": true,
   "toc_window_display": false
  }
 },
 "nbformat": 4,
 "nbformat_minor": 2
}
